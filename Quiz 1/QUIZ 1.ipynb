{
 "cells": [
  {
   "cell_type": "markdown",
   "metadata": {
    "collapsed": true
   },
   "source": [
    "# QUIZ\n",
    "Let's test your knowledge!"
   ]
  },
  {
   "cell_type": "markdown",
   "metadata": {},
   "source": [
    "_____\n",
    "**Use <code>for</code>, .split(), and <code>if</code> to create a Statement that will print out words that start with 's':**"
   ]
  },
  {
   "cell_type": "code",
   "execution_count": 42,
   "metadata": {},
   "outputs": [],
   "source": [
    "st = 'Print only the words that start with s in this sentence'"
   ]
  },
  {
   "cell_type": "code",
   "execution_count": 43,
   "metadata": {},
   "outputs": [
    {
     "name": "stdout",
     "output_type": "stream",
     "text": [
      "start\n",
      "s\n",
      "sentence\n"
     ]
    }
   ],
   "source": [
    "#Code here\n",
    "\n",
    "# using .split() to crate a list with the words given in the string that is seperated by a space\n",
    "\n",
    "list = st.split(' ')\n",
    "\n",
    "# loop over the list\n",
    "\n",
    "for k in list:\n",
    "    \n",
    "    # check the letters that starts with s letter in the string\n",
    "    if k.startswith('s'):\n",
    "        print(k)"
   ]
  },
  {
   "cell_type": "markdown",
   "metadata": {},
   "source": [
    "______\n",
    "**Use range() to print all the even numbers from 0 to 10.**"
   ]
  },
  {
   "cell_type": "code",
   "execution_count": 44,
   "metadata": {},
   "outputs": [
    {
     "name": "stdout",
     "output_type": "stream",
     "text": [
      "2\n",
      "4\n",
      "6\n",
      "8\n",
      "10\n"
     ]
    }
   ],
   "source": [
    "x = 2\n",
    "\n",
    "# loop over the range from 0 to 10 with a step = 2 \n",
    "for i in range(0,10,2):\n",
    "    print(x)\n",
    "    \n",
    "    # increment the value of x with 2 \n",
    "    \n",
    "    x += 2"
   ]
  },
  {
   "cell_type": "markdown",
   "metadata": {},
   "source": [
    "___\n",
    "**Use a List Comprehension to create a list of all numbers between 1 and 50 that are divisible by 3.**"
   ]
  },
  {
   "cell_type": "code",
   "execution_count": 45,
   "metadata": {},
   "outputs": [
    {
     "name": "stdout",
     "output_type": "stream",
     "text": [
      "[3, 6, 9, 12, 15, 18, 21, 24, 27, 30, 33, 36, 39, 42, 45, 48]\n"
     ]
    }
   ],
   "source": [
    "#Code Here\n",
    "\n",
    "# create an empty list to appent the values inside of it\n",
    "\n",
    "list = []\n",
    "\n",
    "# initialze x value\n",
    "\n",
    "x = 0\n",
    "\n",
    "# loop over the range from 0 to 50\n",
    "\n",
    "for i in range(50):\n",
    "    \n",
    "    x += 1 \n",
    "    \n",
    "    # check if the value of x is devisible by 3\n",
    "    \n",
    "    if x % 3 == 0:\n",
    "        \n",
    "        # append the values to the list\n",
    "        \n",
    "        list.append(x)\n",
    "\n",
    "# print the list\n",
    "        \n",
    "print(list)   "
   ]
  },
  {
   "cell_type": "markdown",
   "metadata": {},
   "source": [
    "_____\n",
    "**Go through the string below and if the length of a word is even print \"even!\"**"
   ]
  },
  {
   "cell_type": "code",
   "execution_count": 46,
   "metadata": {},
   "outputs": [],
   "source": [
    "st = 'Print every word in this sentence that has an even number of letters'"
   ]
  },
  {
   "cell_type": "code",
   "execution_count": 49,
   "metadata": {},
   "outputs": [
    {
     "name": "stdout",
     "output_type": "stream",
     "text": [
      "word : has a number of letters equal: 4 so it is even\n",
      "in : has a number of letters equal: 2 so it is even\n",
      "this : has a number of letters equal: 4 so it is even\n",
      "sentence : has a number of letters equal: 8 so it is even\n",
      "that : has a number of letters equal: 4 so it is even\n",
      "an : has a number of letters equal: 2 so it is even\n",
      "even : has a number of letters equal: 4 so it is even\n",
      "number : has a number of letters equal: 6 so it is even\n",
      "of : has a number of letters equal: 2 so it is even\n"
     ]
    }
   ],
   "source": [
    "#Code in this cell\n",
    "\n",
    "# using .split() to crate a list with the words given in the string that is seperated by a space\n",
    "\n",
    "list = st.split(\" \")\n",
    "\n",
    "# loop over the values\n",
    "\n",
    "for i in list:\n",
    "    \n",
    "    # check if the length of the word is divisable by 2\n",
    "    \n",
    "    if len(i) % 2 == 0:\n",
    "        \n",
    "        # print each word with each length\n",
    "        \n",
    "        print(i, \": has a number of letters equal:\", len(i),\"so it is even\")"
   ]
  },
  {
   "cell_type": "markdown",
   "metadata": {},
   "source": [
    "____\n",
    "**Write a program that prints the integers from 1 to 100. But for multiples of three print \"Fizz\" instead of the number, and for the multiples of five print \"Buzz\". For numbers which are multiples of both three and five print \"FizzBuzz\".**"
   ]
  },
  {
   "cell_type": "code",
   "execution_count": 50,
   "metadata": {},
   "outputs": [
    {
     "name": "stdout",
     "output_type": "stream",
     "text": [
      "FizzBuzz\n",
      "FizzBuzz\n",
      "FizzBuzz\n",
      "FizzBuzz\n",
      "FizzBuzz\n",
      "FizzBuzz\n",
      "[15, 30, 45, 60, 75, 90]\n"
     ]
    },
    {
     "data": {
      "text/plain": [
       "6"
      ]
     },
     "execution_count": 50,
     "metadata": {},
     "output_type": "execute_result"
    }
   ],
   "source": [
    "#Code in this cell\n",
    "\n",
    "# create an empty list to appent the values inside of it\n",
    "\n",
    "list = []\n",
    "\n",
    "# loop over the values\n",
    "\n",
    "for i in range(1,100):\n",
    "    \n",
    "    # check if the number is multiples of both three and five\n",
    "    \n",
    "    if (i % 3 == 0) & (i % 5 == 0):\n",
    "        \n",
    "        # print the number that is multiples of both three and five\n",
    "        print(\"FizzBuzz\")\n",
    "        list.append(i)\n",
    "print(list)\n",
    "len(list)   "
   ]
  },
  {
   "cell_type": "code",
   "execution_count": 51,
   "metadata": {},
   "outputs": [
    {
     "name": "stdout",
     "output_type": "stream",
     "text": [
      "Fizz\n",
      "Fizz\n",
      "Fizz\n",
      "Fizz\n",
      "Fizz\n",
      "Fizz\n",
      "Fizz\n",
      "Fizz\n",
      "Fizz\n",
      "Fizz\n",
      "Fizz\n",
      "Fizz\n",
      "Fizz\n",
      "Fizz\n",
      "Fizz\n",
      "Fizz\n",
      "Fizz\n",
      "Fizz\n",
      "Fizz\n",
      "Fizz\n",
      "Fizz\n",
      "Fizz\n",
      "Fizz\n",
      "Fizz\n",
      "Fizz\n",
      "Fizz\n",
      "Fizz\n",
      "[3, 6, 9, 12, 18, 21, 24, 27, 33, 36, 39, 42, 48, 51, 54, 57, 63, 66, 69, 72, 78, 81, 84, 87, 93, 96, 99]\n"
     ]
    },
    {
     "data": {
      "text/plain": [
       "27"
      ]
     },
     "execution_count": 51,
     "metadata": {},
     "output_type": "execute_result"
    }
   ],
   "source": [
    "# create an empty list to appent the values inside of it\n",
    "\n",
    "list = []\n",
    "\n",
    "# loop over the values\n",
    "\n",
    "for i in range(100):\n",
    "    \n",
    "    # check if the number is multiples of three only\n",
    "    \n",
    "    if (i % 3 == 0) & (i % 5 != 0):\n",
    "        \n",
    "        print(\"Fizz\")\n",
    "        list.append(i)\n",
    "print(list)\n",
    "len(list)"
   ]
  },
  {
   "cell_type": "code",
   "execution_count": 52,
   "metadata": {},
   "outputs": [
    {
     "name": "stdout",
     "output_type": "stream",
     "text": [
      "Buzz\n",
      "Buzz\n",
      "Buzz\n",
      "Buzz\n",
      "Buzz\n",
      "Buzz\n",
      "Buzz\n",
      "Buzz\n",
      "Buzz\n",
      "Buzz\n",
      "Buzz\n",
      "Buzz\n",
      "Buzz\n",
      "[5, 10, 20, 25, 35, 40, 50, 55, 65, 70, 80, 85, 95]\n"
     ]
    },
    {
     "data": {
      "text/plain": [
       "13"
      ]
     },
     "execution_count": 52,
     "metadata": {},
     "output_type": "execute_result"
    }
   ],
   "source": [
    "# create an empty list to appent the values inside of it\n",
    "\n",
    "list = []\n",
    "\n",
    "# loop over the values\n",
    "\n",
    "for i in range(100):\n",
    "    \n",
    "    # check if the number is multiples of five only\n",
    "    \n",
    "    if (i % 3 != 0) & (i % 5 == 0):\n",
    "        print(\"Buzz\")\n",
    "        list.append(i)\n",
    "print(list)\n",
    "len(list)"
   ]
  },
  {
   "cell_type": "code",
   "execution_count": 53,
   "metadata": {},
   "outputs": [
    {
     "name": "stdout",
     "output_type": "stream",
     "text": [
      "FizzBuzz\n",
      "Fizz\n",
      "Buzz\n",
      "Fizz\n",
      "Fizz\n",
      "Buzz\n",
      "Fizz\n",
      "FizzBuzz\n",
      "Fizz\n",
      "Buzz\n",
      "Fizz\n",
      "Fizz\n",
      "Buzz\n",
      "Fizz\n",
      "FizzBuzz\n",
      "Fizz\n",
      "Buzz\n",
      "Fizz\n",
      "Fizz\n",
      "Buzz\n",
      "Fizz\n",
      "FizzBuzz\n",
      "Fizz\n",
      "Buzz\n",
      "Fizz\n",
      "Fizz\n",
      "Buzz\n",
      "Fizz\n",
      "FizzBuzz\n",
      "Fizz\n",
      "Buzz\n",
      "Fizz\n",
      "Fizz\n",
      "Buzz\n",
      "Fizz\n",
      "FizzBuzz\n",
      "Fizz\n",
      "Buzz\n",
      "Fizz\n",
      "Fizz\n",
      "Buzz\n",
      "Fizz\n",
      "FizzBuzz\n",
      "Fizz\n",
      "Buzz\n",
      "Fizz\n",
      "Fizz\n",
      "[0, 3, 5, 6, 9, 10, 12, 15, 18, 20, 21, 24, 25, 27, 30, 33, 35, 36, 39, 40, 42, 45, 48, 50, 51, 54, 55, 57, 60, 63, 65, 66, 69, 70, 72, 75, 78, 80, 81, 84, 85, 87, 90, 93, 95, 96, 99]\n"
     ]
    },
    {
     "data": {
      "text/plain": [
       "47"
      ]
     },
     "execution_count": 53,
     "metadata": {},
     "output_type": "execute_result"
    }
   ],
   "source": [
    "# Final Code\n",
    "list = []\n",
    "\n",
    "for i in range(100):\n",
    "    \n",
    "    if (i % 3 == 0) & (i % 5 == 0):\n",
    "        \n",
    "        print(\"FizzBuzz\")\n",
    "        \n",
    "        list.append(i)\n",
    "        \n",
    "    elif (i % 3 == 0) & (i % 5 != 0):\n",
    "        \n",
    "        print(\"Fizz\")\n",
    "        \n",
    "        list.append(i)\n",
    "        \n",
    "    elif (i % 3 != 0) & (i % 5 == 0):\n",
    "        \n",
    "        print(\"Buzz\")\n",
    "        \n",
    "        list.append(i)\n",
    "        \n",
    "print(list)\n",
    "len(list)"
   ]
  },
  {
   "cell_type": "markdown",
   "metadata": {},
   "source": [
    "____\n",
    "**Use List Comprehension to create a list of the first letters of every word in the string below:**"
   ]
  },
  {
   "cell_type": "code",
   "execution_count": 54,
   "metadata": {},
   "outputs": [],
   "source": [
    "st = 'Create a list of the first letters of every word in this string'"
   ]
  },
  {
   "cell_type": "code",
   "execution_count": 58,
   "metadata": {},
   "outputs": [
    {
     "name": "stdout",
     "output_type": "stream",
     "text": [
      "['C', 'a', 'l', 'o', 't', 'f', 'l', 'o', 'e', 'w', 'i', 't', 's']\n"
     ]
    }
   ],
   "source": [
    "#Code in this cell\n",
    "\n",
    "# using .split() to crate a list with the words given in the string that is seperated by a space\n",
    "out_list = []\n",
    "\n",
    "list = st.split(\" \")\n",
    "\n",
    "# loop over the list\n",
    "\n",
    "for i in list:\n",
    "    \n",
    "    # append the first letter in every word to th out list\n",
    "    out_list.append(i[0])\n",
    "\n",
    "# print the list\n",
    "        \n",
    "print(out_list)   "
   ]
  },
  {
   "cell_type": "markdown",
   "metadata": {},
   "source": [
    "### Great Job!"
   ]
  }
 ],
 "metadata": {
  "kernelspec": {
   "display_name": "Python 3 (ipykernel)",
   "language": "python",
   "name": "python3"
  },
  "language_info": {
   "codemirror_mode": {
    "name": "ipython",
    "version": 3
   },
   "file_extension": ".py",
   "mimetype": "text/x-python",
   "name": "python",
   "nbconvert_exporter": "python",
   "pygments_lexer": "ipython3",
   "version": "3.9.12"
  }
 },
 "nbformat": 4,
 "nbformat_minor": 1
}
