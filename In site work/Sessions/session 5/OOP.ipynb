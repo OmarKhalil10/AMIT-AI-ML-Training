{
 "cells": [
  {
   "cell_type": "code",
   "execution_count": 12,
   "metadata": {},
   "outputs": [
    {
     "name": "stdout",
     "output_type": "stream",
     "text": [
      "abdullah 25\n",
      "1\n",
      "['a', 'b', 'c']\n"
     ]
    }
   ],
   "source": [
    "# class student():\n",
    "#     num_students = 0\n",
    "#     hamada = 'hamada'\n",
    "#     def __init__(self, name, age):\n",
    "#         student.num_dogs += 1\n",
    "#         self.name = name\n",
    "#         self.age = age\n",
    "        \n",
    "#     def inst(self):\n",
    "#         self.name = 'abdullah'\n",
    "        \n",
    "#      @classmethod\n",
    "#     def cla(cls):\n",
    "#         cls.num_students = 0\n",
    "#         cls.hamada = 'not hamada'\n",
    "          \n",
    "#     def show(self):\n",
    "#         print(self.name, self.age)\n",
    "\n",
    "\n",
    "# d1 = student('mark', 10)\n",
    "\n",
    "# print(d1.name, d1.age)\n",
    "\n",
    "# d1.show()\n",
    "\n",
    "class student():\n",
    "    num = 0\n",
    "    def __init__(self, name, age):\n",
    "        self.name = name\n",
    "        self.age = age\n",
    "        student.num += 1\n",
    "        \n",
    "    def instanc(self):\n",
    "        print(self.name, self.age)\n",
    "        \n",
    "    @classmethod\n",
    "    def show(cls):\n",
    "        print(cls.num)\n",
    "        \n",
    "    @staticmethod\n",
    "    def useless(l):\n",
    "        print(l)\n",
    "        \n",
    "s1 = student('abdullah', 25)\n",
    "\n",
    "s1.instanc()\n",
    "s1.show()\n",
    "s1.useless(['a', 'b', 'c'])"
   ]
  },
  {
   "cell_type": "code",
   "execution_count": 26,
   "metadata": {},
   "outputs": [
    {
     "name": "stdout",
     "output_type": "stream",
     "text": [
      "2\n",
      "1 2 3 4\n"
     ]
    }
   ],
   "source": [
    "class employee():\n",
    "    def __init__(self, s1, s2):\n",
    "        self.s1 = s1\n",
    "        self.s2 = s2\n",
    "        \n",
    "    def add(self):\n",
    "        return self.s1 + self.s2\n",
    "    \n",
    "e1 = employee(1, 1)\n",
    "\n",
    "print(e1.add())\n",
    "\n",
    "l = input()"
   ]
  },
  {
   "cell_type": "code",
   "execution_count": 27,
   "metadata": {},
   "outputs": [],
   "source": [
    "l = l.split()\n"
   ]
  },
  {
   "cell_type": "code",
   "execution_count": 28,
   "metadata": {},
   "outputs": [],
   "source": [
    "l2 = []\n",
    "for i in l:\n",
    "    l2.append(int(i))"
   ]
  },
  {
   "cell_type": "code",
   "execution_count": 29,
   "metadata": {},
   "outputs": [
    {
     "data": {
      "text/plain": [
       "[1, 2, 3, 4]"
      ]
     },
     "execution_count": 29,
     "metadata": {},
     "output_type": "execute_result"
    }
   ],
   "source": [
    "l2"
   ]
  },
  {
   "cell_type": "code",
   "execution_count": 3,
   "metadata": {},
   "outputs": [
    {
     "name": "stdout",
     "output_type": "stream",
     "text": [
      "student counter accessed from instance 1\n",
      "student counter accessed from class it self 1\n",
      "student name abdullah\n",
      "student age 20\n",
      "student no_courses 3\n"
     ]
    }
   ],
   "source": [
    "class student():\n",
    "    student_counter = 0\n",
    "    def __init__(self, name, age, no_courses):\n",
    "        student.student_counter += 1\n",
    "        self.name = name\n",
    "        self.age = age\n",
    "        self.no_courses = no_courses\n",
    "        \n",
    "s1 = student('abdullah', '20', '3')\n",
    "\n",
    "print('student counter accessed from instance', s1.student_counter)\n",
    "print('student counter accessed from class it self', student.student_counter)\n",
    "print('student name', s1.name)\n",
    "print('student age', s1.age)\n",
    "print('student no_courses', s1.no_courses)"
   ]
  },
  {
   "cell_type": "code",
   "execution_count": 1,
   "metadata": {},
   "outputs": [],
   "source": [
    "class Vehicle():\n",
    "    \n",
    "    def __init__(self, speed, color):\n",
    "        self.color = color\n",
    "        self.speed = speed\n",
    "    \n",
    "    def what_color(self):\n",
    "        print('my color is: ' + self.color)\n",
    "        \n",
    "    def drive(self):\n",
    "        print('Driving with speed: ' + str(self.speed))"
   ]
  },
  {
   "cell_type": "markdown",
   "metadata": {},
   "source": [
    "## Dunder methods or magic methods "
   ]
  },
  {
   "cell_type": "code",
   "execution_count": 2,
   "metadata": {},
   "outputs": [
    {
     "name": "stdout",
     "output_type": "stream",
     "text": [
      "Driving with speed: 100\n",
      "my color is: red\n"
     ]
    },
    {
     "data": {
      "text/plain": [
       "'red'"
      ]
     },
     "execution_count": 2,
     "metadata": {},
     "output_type": "execute_result"
    }
   ],
   "source": [
    "hundai = Vehicle(100, 'red')\n",
    "\n",
    "hundai.drive()\n",
    "hundai.what_color()\n",
    "hundai.color"
   ]
  },
  {
   "cell_type": "code",
   "execution_count": 34,
   "metadata": {
    "collapsed": true
   },
   "outputs": [],
   "source": [
    "class Car(Vehicle):\n",
    "\n",
    "    \n",
    "    def drive(self):\n",
    "        print('start with ur key and power me on')\n",
    "        \n",
    "               \n",
    "class Plane(Vehicle):\n",
    "    \n",
    "    def drive(self):\n",
    "        print('Im Flying')\n",
    "    "
   ]
  },
  {
   "cell_type": "code",
   "execution_count": 36,
   "metadata": {},
   "outputs": [
    {
     "name": "stdout",
     "output_type": "stream",
     "text": [
      "start with ur key and power me on\n"
     ]
    },
    {
     "data": {
      "text/plain": [
       "100"
      ]
     },
     "execution_count": 36,
     "metadata": {},
     "output_type": "execute_result"
    }
   ],
   "source": [
    "mitsupishi = Car(100, 'red')\n",
    "\n",
    "mitsupishi.drive()\n",
    "mitsupishi.speed"
   ]
  },
  {
   "cell_type": "code",
   "execution_count": 67,
   "metadata": {
    "collapsed": true
   },
   "outputs": [],
   "source": [
    "plane1 = Plane(700, 'white')"
   ]
  },
  {
   "cell_type": "code",
   "execution_count": 68,
   "metadata": {},
   "outputs": [
    {
     "name": "stdout",
     "output_type": "stream",
     "text": [
      "Im Flying\n"
     ]
    }
   ],
   "source": [
    "plane1.drive()"
   ]
  },
  {
   "cell_type": "code",
   "execution_count": null,
   "metadata": {
    "collapsed": true
   },
   "outputs": [],
   "source": [
    "task :\n",
    "    \n",
    "    make a calculator class that add , subtract and multiplicate two nums"
   ]
  },
  {
   "cell_type": "code",
   "execution_count": null,
   "metadata": {
    "collapsed": true
   },
   "outputs": [],
   "source": []
  },
  {
   "cell_type": "code",
   "execution_count": null,
   "metadata": {},
   "outputs": [],
   "source": []
  },
  {
   "cell_type": "code",
   "execution_count": null,
   "metadata": {},
   "outputs": [],
   "source": []
  },
  {
   "cell_type": "code",
   "execution_count": null,
   "metadata": {},
   "outputs": [],
   "source": []
  },
  {
   "cell_type": "code",
   "execution_count": null,
   "metadata": {
    "collapsed": true
   },
   "outputs": [],
   "source": []
  },
  {
   "cell_type": "code",
   "execution_count": 2,
   "metadata": {
    "collapsed": true
   },
   "outputs": [],
   "source": [
    "class calc():\n",
    "    def __init__(self,a,b):\n",
    "        self.a=a\n",
    "        self.b=b\n",
    "    \n",
    "    \n",
    "    def add(self):\n",
    "        return self.a+self.b\n",
    "    \n",
    "    def sub(self):\n",
    "        return self.a-self.b\n",
    "    \n",
    "      \n",
    "    def mult(self):\n",
    "        return self.a*self.b"
   ]
  },
  {
   "cell_type": "code",
   "execution_count": 6,
   "metadata": {},
   "outputs": [
    {
     "name": "stdout",
     "output_type": "stream",
     "text": [
      "11\n",
      "-1\n",
      "30\n"
     ]
    }
   ],
   "source": [
    "ca=calc(5,6)\n",
    "print(ca.add())\n",
    "print(ca.sub())\n",
    "print(ca.mult())"
   ]
  },
  {
   "cell_type": "markdown",
   "metadata": {},
   "source": [
    "# Inheretance "
   ]
  },
  {
   "cell_type": "code",
   "execution_count": 4,
   "metadata": {},
   "outputs": [],
   "source": [
    "class calc():\n",
    "    def __init__(self,a,b):\n",
    "        self.a=a\n",
    "        self.b=b\n",
    "    \n",
    "    \n",
    "    def add(self):\n",
    "        return self.a+self.b\n",
    "    \n",
    "    def sub(self):\n",
    "        return self.a-self.b\n",
    "    \n",
    "      \n",
    "    def mult(self):\n",
    "        return self.a*self.b"
   ]
  },
  {
   "cell_type": "code",
   "execution_count": 5,
   "metadata": {},
   "outputs": [],
   "source": [
    "class scientific(calc):\n",
    "    def power(self):\n",
    "        return self.a ** self.b"
   ]
  },
  {
   "cell_type": "code",
   "execution_count": 6,
   "metadata": {},
   "outputs": [],
   "source": [
    "x=scientific(20,30)"
   ]
  },
  {
   "cell_type": "code",
   "execution_count": 44,
   "metadata": {},
   "outputs": [
    {
     "data": {
      "text/plain": [
       "50"
      ]
     },
     "execution_count": 44,
     "metadata": {},
     "output_type": "execute_result"
    }
   ],
   "source": [
    "x.add()"
   ]
  },
  {
   "cell_type": "code",
   "execution_count": 45,
   "metadata": {},
   "outputs": [
    {
     "data": {
      "text/plain": [
       "600"
      ]
     },
     "execution_count": 45,
     "metadata": {},
     "output_type": "execute_result"
    }
   ],
   "source": [
    "x.mult()"
   ]
  },
  {
   "cell_type": "code",
   "execution_count": 46,
   "metadata": {},
   "outputs": [
    {
     "data": {
      "text/plain": [
       "1073741824000000000000000000000000000000"
      ]
     },
     "execution_count": 46,
     "metadata": {},
     "output_type": "execute_result"
    }
   ],
   "source": [
    "x.power()"
   ]
  },
  {
   "cell_type": "markdown",
   "metadata": {},
   "source": [
    "# Classes tasks"
   ]
  },
  {
   "cell_type": "code",
   "execution_count": 4,
   "metadata": {},
   "outputs": [],
   "source": [
    "# Write a Python class named Rectangle constructed by a length and width \n",
    "# and a method which will compute the area of a rectangle."
   ]
  },
  {
   "cell_type": "code",
   "execution_count": null,
   "metadata": {},
   "outputs": [],
   "source": []
  }
 ],
 "metadata": {
  "kernelspec": {
   "display_name": "Python 3 (ipykernel)",
   "language": "python",
   "name": "python3"
  },
  "language_info": {
   "codemirror_mode": {
    "name": "ipython",
    "version": 3
   },
   "file_extension": ".py",
   "mimetype": "text/x-python",
   "name": "python",
   "nbconvert_exporter": "python",
   "pygments_lexer": "ipython3",
   "version": "3.9.7"
  }
 },
 "nbformat": 4,
 "nbformat_minor": 2
}
