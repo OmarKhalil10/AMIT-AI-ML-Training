{
 "cells": [
  {
   "cell_type": "code",
   "execution_count": 9,
   "metadata": {},
   "outputs": [
    {
     "name": "stdout",
     "output_type": "stream",
     "text": [
      "5\n",
      "nothing happened\n",
      "this is the end\n",
      "5\n"
     ]
    }
   ],
   "source": [
    "a=5\n",
    "\n",
    "try:\n",
    "    print(t)\n",
    "except IOError:\n",
    "    print(\"An exception IOError occurred\")\n",
    "    \n",
    "except:\n",
    "    print('A general error occured')\n",
    "\n",
    "else:\n",
    "    print('nothing happened')\n",
    "    \n",
    "finally:\n",
    "    print('this is the end')\n",
    "    "
   ]
  },
  {
   "cell_type": "code",
   "execution_count": 2,
   "metadata": {},
   "outputs": [
    {
     "ename": "NameError",
     "evalue": "name 't' is not defined",
     "output_type": "error",
     "traceback": [
      "\u001b[1;31m---------------------------------------------------------------------------\u001b[0m",
      "\u001b[1;31mNameError\u001b[0m                                 Traceback (most recent call last)",
      "\u001b[1;32m~\\AppData\\Local\\Temp/ipykernel_3180/2058247866.py\u001b[0m in \u001b[0;36m<module>\u001b[1;34m\u001b[0m\n\u001b[1;32m----> 1\u001b[1;33m \u001b[0mprint\u001b[0m\u001b[1;33m(\u001b[0m\u001b[0mt\u001b[0m\u001b[1;33m)\u001b[0m\u001b[1;33m\u001b[0m\u001b[1;33m\u001b[0m\u001b[0m\n\u001b[0m",
      "\u001b[1;31mNameError\u001b[0m: name 't' is not defined"
     ]
    }
   ],
   "source": [
    "print(t)"
   ]
  },
  {
   "cell_type": "code",
   "execution_count": 1,
   "metadata": {},
   "outputs": [
    {
     "name": "stdout",
     "output_type": "stream",
     "text": [
      "An exception occurred\n"
     ]
    }
   ],
   "source": [
    "y=5\n",
    "try:\n",
    "    print(a)\n",
    "except:\n",
    "    print(\"An exception occurred\")"
   ]
  },
  {
   "cell_type": "code",
   "execution_count": 1,
   "metadata": {},
   "outputs": [
    {
     "name": "stdout",
     "output_type": "stream",
     "text": [
      "Variable y is not defined\n"
     ]
    }
   ],
   "source": [
    "try:\n",
    "    print(y)\n",
    "except NameError:\n",
    "    print(\"Variable y is not defined\")\n",
    "except:\n",
    "    print(\"Something else went wrong\")"
   ]
  },
  {
   "cell_type": "code",
   "execution_count": 4,
   "metadata": {},
   "outputs": [
    {
     "name": "stdout",
     "output_type": "stream",
     "text": [
      "Something went wrong\n"
     ]
    }
   ],
   "source": [
    "try:\n",
    "    print(i)\n",
    "except:\n",
    "    print(\"Something went wrong\")\n",
    "else:\n",
    "    print(\"Nothing went wrong\")"
   ]
  },
  {
   "cell_type": "code",
   "execution_count": 5,
   "metadata": {},
   "outputs": [
    {
     "name": "stdout",
     "output_type": "stream",
     "text": [
      "Something went wrong\n",
      "The 'try except1' is finished\n"
     ]
    }
   ],
   "source": [
    "try:\n",
    "    print(Z)\n",
    "except:\n",
    "    print(\"Something went wrong\")\n",
    "finally:\n",
    "    print(\"The 'try except1' is finished\")"
   ]
  },
  {
   "cell_type": "code",
   "execution_count": null,
   "metadata": {
    "collapsed": true
   },
   "outputs": [],
   "source": []
  }
 ],
 "metadata": {
  "kernelspec": {
   "display_name": "Python 3 (ipykernel)",
   "language": "python",
   "name": "python3"
  },
  "language_info": {
   "codemirror_mode": {
    "name": "ipython",
    "version": 3
   },
   "file_extension": ".py",
   "mimetype": "text/x-python",
   "name": "python",
   "nbconvert_exporter": "python",
   "pygments_lexer": "ipython3",
   "version": "3.9.7"
  }
 },
 "nbformat": 4,
 "nbformat_minor": 2
}
