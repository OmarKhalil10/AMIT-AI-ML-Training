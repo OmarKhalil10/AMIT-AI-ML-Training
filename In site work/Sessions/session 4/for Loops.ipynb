{
 "cells": [
  {
   "cell_type": "markdown",
   "metadata": {},
   "source": [
    "# for Loops\n",
    "\n"
   ]
  },
  {
   "cell_type": "code",
   "execution_count": 16,
   "metadata": {},
   "outputs": [
    {
     "name": "stdout",
     "output_type": "stream",
     "text": [
      "bye\n"
     ]
    }
   ],
   "source": [
    "x = 0\n",
    "while x<=10:\n",
    "    x+=1\n",
    "    if x == 5:\n",
    "        x+=1\n",
    "        continue\n",
    "    if x == 7:\n",
    "        break\n",
    "        print('hello')\n",
    "print('bye')        \n",
    "    \n",
    "# bye\n",
    "# \n",
    "    "
   ]
  },
  {
   "cell_type": "markdown",
   "metadata": {},
   "source": [
    "# \n",
    "## Example 1\n",
    "4Iterating through a list"
   ]
  },
  {
   "cell_type": "code",
   "execution_count": 29,
   "metadata": {},
   "outputs": [],
   "source": [
    "list1 = [1,2,3,4,5,6,7,8,9,10]"
   ]
  },
  {
   "cell_type": "code",
   "execution_count": 30,
   "metadata": {},
   "outputs": [
    {
     "name": "stdout",
     "output_type": "stream",
     "text": [
      "1\n",
      "2\n",
      "3\n",
      "4\n",
      "5\n",
      "6\n",
      "7\n",
      "8\n",
      "9\n",
      "10\n"
     ]
    }
   ],
   "source": [
    "for number in list1: \n",
    "    print(number)"
   ]
  },
  {
   "cell_type": "markdown",
   "metadata": {},
   "source": [
    "\n",
    "\n",
    "## Example 2\n"
   ]
  },
  {
   "cell_type": "code",
   "execution_count": 33,
   "metadata": {},
   "outputs": [
    {
     "name": "stdout",
     "output_type": "stream",
     "text": [
      "1\n",
      "3\n",
      "5\n",
      "7\n",
      "9\n"
     ]
    }
   ],
   "source": [
    "for num in list1:\n",
    "    if num % 2 != 0:\n",
    "        print(num)"
   ]
  },
  {
   "cell_type": "code",
   "execution_count": 34,
   "metadata": {},
   "outputs": [
    {
     "name": "stdout",
     "output_type": "stream",
     "text": [
      "odd is 1\n",
      "even is 2\n",
      "odd is 3\n",
      "even is 4\n",
      "odd is 5\n",
      "even is 6\n",
      "odd is 7\n",
      "even is 8\n",
      "odd is 9\n",
      "even is 10\n"
     ]
    }
   ],
   "source": [
    "for num in list1:\n",
    "    if num % 2 == 0:\n",
    "        print('even is {}'.format(num))\n",
    "    else:\n",
    "        print('odd is {}'.format(num))"
   ]
  },
  {
   "cell_type": "markdown",
   "metadata": {},
   "source": [
    "\n",
    "## Example 3\n"
   ]
  },
  {
   "cell_type": "code",
   "execution_count": 10,
   "metadata": {},
   "outputs": [
    {
     "name": "stdout",
     "output_type": "stream",
     "text": [
      "3628800\n"
     ]
    }
   ],
   "source": [
    "# Start sum at zero\n",
    "list_sum = 1\n",
    "\n",
    "for num in list1:\n",
    "    list_sum = list_sum*num\n",
    "print(list_sum)"
   ]
  },
  {
   "cell_type": "markdown",
   "metadata": {},
   "source": [
    "## Example 4\n"
   ]
  },
  {
   "cell_type": "code",
   "execution_count": 35,
   "metadata": {},
   "outputs": [],
   "source": [
    "for letter in 'This is a string.':\n",
    "    print(letter)"
   ]
  },
  {
   "cell_type": "markdown",
   "metadata": {},
   "source": [
    "## Example 5\n"
   ]
  },
  {
   "cell_type": "code",
   "execution_count": 12,
   "metadata": {},
   "outputs": [
    {
     "name": "stdout",
     "output_type": "stream",
     "text": [
      "1\n",
      "2\n",
      "3\n",
      "4\n",
      "5\n"
     ]
    }
   ],
   "source": [
    "tup = (1,2,3,4,5)\n",
    "\n",
    "for t in tup:\n",
    "    print(t)"
   ]
  },
  {
   "cell_type": "markdown",
   "metadata": {},
   "source": [
    "## Example 6\n"
   ]
  },
  {
   "cell_type": "code",
   "execution_count": 38,
   "metadata": {},
   "outputs": [],
   "source": [
    "list2 = [(2,4),(6,8),(10,12)]"
   ]
  },
  {
   "cell_type": "code",
   "execution_count": 45,
   "metadata": {},
   "outputs": [
    {
     "name": "stdout",
     "output_type": "stream",
     "text": [
      "2\n",
      "6\n",
      "10\n"
     ]
    }
   ],
   "source": [
    "\n",
    "for (abdullah,t2) in list2:\n",
    "    print(abdullah)\n",
    "    "
   ]
  },
  {
   "cell_type": "code",
   "execution_count": 43,
   "metadata": {},
   "outputs": [
    {
     "data": {
      "text/plain": [
       "(2, 4)"
      ]
     },
     "execution_count": 43,
     "metadata": {},
     "output_type": "execute_result"
    }
   ],
   "source": [
    "list2[0]"
   ]
  },
  {
   "cell_type": "code",
   "execution_count": 44,
   "metadata": {},
   "outputs": [
    {
     "name": "stdout",
     "output_type": "stream",
     "text": [
      "(2, 4)\n",
      "(6, 8)\n",
      "(10, 12)\n"
     ]
    }
   ],
   "source": [
    "for number in list2:\n",
    "    print(number)"
   ]
  },
  {
   "cell_type": "code",
   "execution_count": 37,
   "metadata": {},
   "outputs": [],
   "source": [
    "# Now with unpacking!\n",
    "for (t1,t2) in list2:\n",
    "    # i want two values only \n",
    "    print(t1)"
   ]
  },
  {
   "cell_type": "code",
   "execution_count": 11,
   "metadata": {},
   "outputs": [
    {
     "data": {
      "text/plain": [
       "[1, 4, 7]"
      ]
     },
     "execution_count": 11,
     "metadata": {},
     "output_type": "execute_result"
    }
   ],
   "source": [
    "x=[[1,2,3],[4,5,6],[7,8,9]]\n",
    "\n",
    "\n",
    "x=[num[0]for num in x] #list comprehension\n",
    "x"
   ]
  },
  {
   "cell_type": "markdown",
   "metadata": {},
   "source": [
    "# For loop tasks"
   ]
  },
  {
   "cell_type": "code",
   "execution_count": 52,
   "metadata": {},
   "outputs": [
    {
     "name": "stdout",
     "output_type": "stream",
     "text": [
      "enter num2\n",
      "3\n"
     ]
    }
   ],
   "source": [
    "# Calculate the sum of all numbers from 1 to a given number\n",
    "num = int(input('enter num'))\n",
    "\n",
    "s = 0\n",
    "for i in range(0,num+1):\n",
    "    s = s + i\n",
    "    \n",
    "print(s)\n",
    "\n",
    "[0,1,2,3,4,5]"
   ]
  },
  {
   "cell_type": "code",
   "execution_count": 54,
   "metadata": {},
   "outputs": [
    {
     "name": "stdout",
     "output_type": "stream",
     "text": [
      "5\n",
      "4\n",
      "3\n",
      "2\n",
      "1\n"
     ]
    }
   ],
   "source": [
    "# Print list in reverse order using a loop\n",
    "list1 = [0,1,2,3,4]\n",
    "\n",
    "l = len(list1)\n",
    "\n",
    "print(l)\n",
    "\n",
    "for i in range(l-1, 0, -1):\n",
    "    print(list1[i])\n",
    "\n"
   ]
  },
  {
   "cell_type": "code",
   "execution_count": 74,
   "metadata": {},
   "outputs": [
    {
     "name": "stdout",
     "output_type": "stream",
     "text": [
      "enter number of words4\n",
      "enter a wordhello\n",
      "enter a wordthere\n",
      "enter a wordhi\n",
      "enter a wordbye\n"
     ]
    },
    {
     "data": {
      "text/plain": [
       "['hello', 'there', 'hi', 'bye']"
      ]
     },
     "execution_count": 74,
     "metadata": {},
     "output_type": "execute_result"
    }
   ],
   "source": [
    "# Write a Python program to print the strings in a list\n",
    "# where the string length is 3 or more\n",
    "\n",
    "# x = input('enter words').split()\n",
    "\n",
    "# len(x)\n",
    "# for i in range(0, len(x)):\n",
    "#     if len(x[i]) >= 3:\n",
    "#         print(x[i])\n",
    "        \n",
    "x = int(input('enter number of words'))\n",
    "\n",
    "l = []\n",
    "for i in range(0, x):\n",
    "    temp = input('enter a word')\n",
    "    l.append(temp)\n",
    "    \n",
    "l\n"
   ]
  },
  {
   "cell_type": "code",
   "execution_count": 13,
   "metadata": {},
   "outputs": [],
   "source": [
    "# Write a Python program to print the numbers \n",
    "# of a specified list after removing even numbers from it.\n"
   ]
  },
  {
   "cell_type": "code",
   "execution_count": 80,
   "metadata": {},
   "outputs": [
    {
     "name": "stdout",
     "output_type": "stream",
     "text": [
      "Please enter length of lists5\n",
      "enter num in first list1\n",
      "enter num in first list2\n",
      "enter num in first list3\n",
      "enter num in first list4\n",
      "enter num in first list5\n",
      "enter num in second list6\n",
      "enter num in second list7\n",
      "enter num in second list8\n",
      "enter num in second list9\n",
      "enter num in second list10\n"
     ]
    },
    {
     "data": {
      "text/plain": [
       "[-5, -5, -5, -5, -5]"
      ]
     },
     "execution_count": 80,
     "metadata": {},
     "output_type": "execute_result"
    }
   ],
   "source": [
    "# Write a Python program to get the difference between \n",
    "#the two lists.\n",
    "num = int(input('Please enter length of lists'))\n",
    "\n",
    "l1 = []\n",
    "l2 = []\n",
    "l3 = []\n",
    "\n",
    "for i in range(0, num):\n",
    "    temp = int(input('enter num in first list'))\n",
    "    l1.append(temp)\n",
    "    \n",
    "for i in range(0, num):\n",
    "    temp = int(input('enter num in second list'))\n",
    "    l2.append(temp)\n",
    "\n",
    "for i in range(0,num):\n",
    "    l3.append(l1[i] - l2[i])\n",
    "    \n",
    "l3"
   ]
  },
  {
   "cell_type": "code",
   "execution_count": 76,
   "metadata": {},
   "outputs": [
    {
     "data": {
      "text/plain": [
       "[]"
      ]
     },
     "execution_count": 76,
     "metadata": {},
     "output_type": "execute_result"
    }
   ],
   "source": [
    "l1"
   ]
  },
  {
   "cell_type": "code",
   "execution_count": 57,
   "metadata": {},
   "outputs": [
    {
     "name": "stdout",
     "output_type": "stream",
     "text": [
      "x inside:  inside\n",
      "x outside:  inside\n"
     ]
    }
   ],
   "source": [
    "x = 'outside'\n",
    "\n",
    "def hapk():\n",
    "    global x\n",
    "    x = 'inside'\n",
    "    print('x inside: ', x)\n",
    "    \n",
    "hapk()\n",
    "print('x outside: ', x)"
   ]
  },
  {
   "cell_type": "code",
   "execution_count": 63,
   "metadata": {},
   "outputs": [
    {
     "name": "stdout",
     "output_type": "stream",
     "text": [
      "1\n",
      "3\n"
     ]
    }
   ],
   "source": [
    "l = [(1,2), [3,4]]\n",
    "\n",
    "for a, b in l:\n",
    "    print(a)\n",
    "    print(b)"
   ]
  },
  {
   "cell_type": "code",
   "execution_count": 66,
   "metadata": {},
   "outputs": [],
   "source": [
    "l = list((0,0,0))"
   ]
  },
  {
   "cell_type": "code",
   "execution_count": 67,
   "metadata": {},
   "outputs": [
    {
     "data": {
      "text/plain": [
       "[0, 0, 0]"
      ]
     },
     "execution_count": 67,
     "metadata": {},
     "output_type": "execute_result"
    }
   ],
   "source": [
    "l"
   ]
  },
  {
   "cell_type": "code",
   "execution_count": 71,
   "metadata": {},
   "outputs": [
    {
     "name": "stdout",
     "output_type": "stream",
     "text": [
      "nothing happened\n"
     ]
    }
   ],
   "source": [
    "try:\n",
    "    x = 5\n",
    "    if x>5:\n",
    "        print(x)\n",
    "        \n",
    "except:\n",
    "    print('something is wrong')\n",
    "else:\n",
    "    print('nothing happened')"
   ]
  },
  {
   "cell_type": "code",
   "execution_count": null,
   "metadata": {},
   "outputs": [],
   "source": []
  }
 ],
 "metadata": {
  "kernelspec": {
   "display_name": "Python 3 (ipykernel)",
   "language": "python",
   "name": "python3"
  },
  "language_info": {
   "codemirror_mode": {
    "name": "ipython",
    "version": 3
   },
   "file_extension": ".py",
   "mimetype": "text/x-python",
   "name": "python",
   "nbconvert_exporter": "python",
   "pygments_lexer": "ipython3",
   "version": "3.9.7"
  }
 },
 "nbformat": 4,
 "nbformat_minor": 1
}
