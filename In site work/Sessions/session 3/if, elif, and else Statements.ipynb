{
 "cells": [
  {
   "cell_type": "markdown",
   "metadata": {},
   "source": [
    "# if, elif, else Statements\n",
    "\n"
   ]
  },
  {
   "cell_type": "markdown",
   "metadata": {},
   "source": [
    "## First Example\n",
    "\n"
   ]
  },
  {
   "cell_type": "code",
   "execution_count": 6,
   "metadata": {},
   "outputs": [
    {
     "name": "stdout",
     "output_type": "stream",
     "text": [
      "It was true\n"
     ]
    }
   ],
   "source": [
    "x=5\n",
    "if x==5:\n",
    "    print('It was true')\n",
    "if x==6:\n",
    "    print('ahmed')"
   ]
  },
  {
   "cell_type": "code",
   "execution_count": 7,
   "metadata": {},
   "outputs": [
    {
     "name": "stdout",
     "output_type": "stream",
     "text": [
      "I will be printed in any case where x is not true\n"
     ]
    }
   ],
   "source": [
    "if x==8:\n",
    "    print('x was True!')\n",
    "else:\n",
    "    print('I will be printed in any case where x is not true')\n"
   ]
  },
  {
   "cell_type": "markdown",
   "metadata": {},
   "source": [
    "### Multiple Branches\n",
    "\n"
   ]
  },
  {
   "cell_type": "code",
   "execution_count": 8,
   "metadata": {},
   "outputs": [
    {
     "name": "stdout",
     "output_type": "stream",
     "text": [
      "Welcome to the Auto Shop!\n"
     ]
    }
   ],
   "source": [
    "loc = 'Bank'\n",
    "\n",
    "if  loc == 'Bank':\n",
    "    print('Welcome to the Auto Shop!')\n",
    "elif loc == 'Bank':\n",
    "    print('Welcome to the bank!')\n",
    "else:\n",
    "    print('Where are you?')"
   ]
  },
  {
   "cell_type": "code",
   "execution_count": 9,
   "metadata": {},
   "outputs": [
    {
     "data": {
      "text/plain": [
       "'abdullah'"
      ]
     },
     "execution_count": 9,
     "metadata": {},
     "output_type": "execute_result"
    }
   ],
   "source": [
    "s = 'ABDULLAH'\n",
    "s.lower()"
   ]
  },
  {
   "cell_type": "code",
   "execution_count": 10,
   "metadata": {},
   "outputs": [
    {
     "name": "stdout",
     "output_type": "stream",
     "text": [
      "Welcome Sammy!\n"
     ]
    }
   ],
   "source": [
    "person = 'Samy'\n",
    "\n",
    "if person.lower()=='samy':\n",
    "    print('Welcome Sammy!')\n",
    "else:\n",
    "    print(\"Welcome, what's your name?\")"
   ]
  },
  {
   "cell_type": "code",
   "execution_count": 15,
   "metadata": {},
   "outputs": [
    {
     "name": "stdout",
     "output_type": "stream",
     "text": [
      "Welcome, what's your name?\n",
      "Sammy\n"
     ]
    }
   ],
   "source": [
    "person = 'George'\n",
    "\n",
    "if person == 'Sammy':\n",
    "    print('Welcome Sammy!')\n",
    "elif person =='george':\n",
    "    print('Welcome George!')\n",
    "else:\n",
    "    print(\"Welcome, what's your name?\")\n",
    "    \n",
    "person = 'Sammy'\n",
    "print(person)"
   ]
  },
  {
   "cell_type": "markdown",
   "metadata": {},
   "source": [
    "85-100 A\n",
    "75-85 B\n",
    "65-75 C\n",
    "50-65 D\n",
    "<50 F "
   ]
  },
  {
   "cell_type": "code",
   "execution_count": 19,
   "metadata": {},
   "outputs": [
    {
     "name": "stdout",
     "output_type": "stream",
     "text": [
      "enter a valid data\n"
     ]
    }
   ],
   "source": [
    "x = 1150\n",
    "\n",
    "if x>=85 and x<=100:\n",
    "    print('A')\n",
    "elif x>=75 and x<85:\n",
    "    print('B')\n",
    "elif x>=65 and x<75:\n",
    "    print('C')\n",
    "elif x>=50 and x<65:\n",
    "    print('D')\n",
    "elif x<50:\n",
    "    print('good luck next year')\n",
    "else:\n",
    "    print('enter a valid data')\n"
   ]
  },
  {
   "cell_type": "markdown",
   "metadata": {},
   "source": [
    "### check the input numer odd or even "
   ]
  },
  {
   "cell_type": "code",
   "execution_count": 20,
   "metadata": {},
   "outputs": [
    {
     "name": "stdout",
     "output_type": "stream",
     "text": [
      "odd\n"
     ]
    }
   ],
   "source": [
    "n = 7\n",
    "if n%2==0:\n",
    "    print('Even')\n",
    "else:\n",
    "    print('odd')"
   ]
  },
  {
   "cell_type": "markdown",
   "metadata": {},
   "source": [
    "# If statment tasks"
   ]
  },
  {
   "cell_type": "code",
   "execution_count": 23,
   "metadata": {},
   "outputs": [
    {
     "name": "stdout",
     "output_type": "stream",
     "text": [
      "enter-50\n",
      "f\n"
     ]
    }
   ],
   "source": [
    "# Write a program to accept percentage from the user and \n",
    "# display the grade according to the following criteria:\n",
    "'''\n",
    "Marks                                    Grade\n",
    "         > 90                                 A\n",
    "         > 80 and <= 90                       B\n",
    "         >= 60 and <= 80                      C\n",
    "         below 60                             D\n",
    "'''\n",
    "x = int(input('enter'))\n",
    "\n",
    "if x<100 and x>0:\n",
    "    \n",
    "if x>90:\n",
    "    print('A')\n",
    "elif x>80:\n",
    "        print('80')\n",
    "    else:\n",
    "        print('f')\n",
    "        \n",
    "else:\n",
    "    print('enter valid number')"
   ]
  },
  {
   "cell_type": "code",
   "execution_count": 27,
   "metadata": {},
   "outputs": [
    {
     "name": "stdout",
     "output_type": "stream",
     "text": [
      "monday\n"
     ]
    }
   ],
   "source": [
    "# Write a program to accept a number from 1 to 7 and \n",
    "# display the name of the day like 1 for Sunday , 2 for Monday and so on.\n",
    "x = 1\n",
    "\n",
    "# if x==1:\n",
    "#     print('sunday')\n",
    "# elif x==2:\n",
    "#     print('monday')\n",
    "# elif x==3:\n",
    "#     print('tuesday')\n",
    "\n",
    "x = 2\n",
    "days = {1:'sunday', 2:'monday'}\n",
    "\n",
    "print(days[x])"
   ]
  },
  {
   "cell_type": "code",
   "execution_count": 33,
   "metadata": {},
   "outputs": [
    {
     "data": {
      "text/plain": [
       "'redfort'"
      ]
     },
     "execution_count": 33,
     "metadata": {},
     "output_type": "execute_result"
    }
   ],
   "source": [
    "# Accept any city from the user and display monument of that city.\n",
    "'''\n",
    "                  Delhi                               Red Fort\n",
    "                  Agra                                Taj Mahal\n",
    "'''\n",
    "x = {'delhi': 'redfort', 'agra': 'taj mahal'}\n",
    "\n",
    "y = 'delhi'\n",
    "x[y]"
   ]
  },
  {
   "cell_type": "code",
   "execution_count": null,
   "metadata": {},
   "outputs": [],
   "source": [
    "# What is the output of the following code \n",
    "'''\n",
    "a = 9\n",
    "        \n",
    "    if (a > 5 and a <=10):    \n",
    "         print(\"Hello\")    \n",
    "    else:    \n",
    "        print(\"Bye\")\n",
    "'''"
   ]
  },
  {
   "cell_type": "code",
   "execution_count": 42,
   "metadata": {},
   "outputs": [
    {
     "data": {
      "text/plain": [
       "'100'"
      ]
     },
     "execution_count": 42,
     "metadata": {},
     "output_type": "execute_result"
    }
   ],
   "source": [
    "# Write a program to check whether a number \n",
    "# entered is three digit number or not.\n",
    "x = 100\n",
    "\n",
    "y = str(x)\n",
    "\n",
    "# if 999>=x>=100:\n",
    "#     print('length=3')\n",
    "y"
   ]
  },
  {
   "cell_type": "code",
   "execution_count": null,
   "metadata": {},
   "outputs": [],
   "source": []
  }
 ],
 "metadata": {
  "kernelspec": {
   "display_name": "Python 3 (ipykernel)",
   "language": "python",
   "name": "python3"
  },
  "language_info": {
   "codemirror_mode": {
    "name": "ipython",
    "version": 3
   },
   "file_extension": ".py",
   "mimetype": "text/x-python",
   "name": "python",
   "nbconvert_exporter": "python",
   "pygments_lexer": "ipython3",
   "version": "3.9.7"
  }
 },
 "nbformat": 4,
 "nbformat_minor": 1
}
