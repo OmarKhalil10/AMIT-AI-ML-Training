{
 "cells": [
  {
   "cell_type": "markdown",
   "metadata": {},
   "source": [
    "# Exam1\n",
    "\n"
   ]
  },
  {
   "cell_type": "markdown",
   "metadata": {},
   "source": [
    "#### LESSER OF TWO EVENS: Write a function that returns the lesser of two given numbers *if* both numbers are even, but returns the greater if one or both numbers are odd\n",
    "    lesser_of_two_evens(2,4) --> 2\n",
    "    lesser_of_two_evens(2,5) --> 5"
   ]
  },
  {
   "cell_type": "code",
   "execution_count": 1,
   "metadata": {},
   "outputs": [],
   "source": [
    "# Creating the lesser_of_two_evens function\n",
    "\n",
    "def lesser_of_two_evens(a,b):\n",
    "    \n",
    "    my_list = list((a,b))\n",
    "    \n",
    "    # Check if both numbers are even\n",
    "    \n",
    "    if(a % 2 == 0 and b % 2 == 0):\n",
    "\n",
    "        # Check if both numbers are equal\n",
    "        \n",
    "        if a == b:\n",
    "            \n",
    "            print(\"There Is No lesser Number, They are equal!\")\n",
    "            \n",
    "        else:\n",
    "            \n",
    "            # assign the minimum value between the two numbers to the lasser variable\n",
    "            \n",
    "            lesser = min(my_list)\n",
    "            \n",
    "            # print the lesser of two given numbers\n",
    "\n",
    "            print(\"The Lesser Of Two Evens is:\", lesser)\n",
    "            \n",
    "    # Check if one or both numbers are odd\n",
    "        \n",
    "    elif(a % 2 == 1 or b % 2 == 1): \n",
    "        \n",
    "        # Check if both numbers are equal\n",
    "        \n",
    "        if a == b:\n",
    "            \n",
    "            print(\"There Is No greater Number, They are equal!\")\n",
    "            \n",
    "        else:\n",
    "            \n",
    "            # assign the maximum value between the two numbers to the greater variable\n",
    "\n",
    "            greater = max(my_list)\n",
    "            \n",
    "            # print the greater of two given numbers\n",
    "\n",
    "            print(\"the greater number =\",greater)"
   ]
  },
  {
   "cell_type": "code",
   "execution_count": 2,
   "metadata": {},
   "outputs": [
    {
     "name": "stdout",
     "output_type": "stream",
     "text": [
      "The Lesser Of Two Evens is: 2\n"
     ]
    }
   ],
   "source": [
    "# Check\n",
    "lesser_of_two_evens(2,4)"
   ]
  },
  {
   "cell_type": "code",
   "execution_count": 3,
   "metadata": {},
   "outputs": [
    {
     "name": "stdout",
     "output_type": "stream",
     "text": [
      "the greater number = 5\n"
     ]
    }
   ],
   "source": [
    "# Check\n",
    "lesser_of_two_evens(2,5)"
   ]
  },
  {
   "cell_type": "markdown",
   "metadata": {},
   "source": [
    "#### ANIMAL CRACKERS: Write a function takes a two-word string and returns True if both words begin with same letter\n",
    "    animal_crackers('Levelheaded Llama') --> True\n",
    "    animal_crackers('Crazy Kangaroo') --> False"
   ]
  },
  {
   "cell_type": "code",
   "execution_count": 4,
   "metadata": {},
   "outputs": [],
   "source": [
    "def animal_crackers(text):\n",
    "    \n",
    "    result = False\n",
    "    \n",
    "    # create a variable that takes a two-word string from the user and put them as separate strings on a list\n",
    "\n",
    "    two_word_string = text.split()\n",
    "    \n",
    "    # Check if the first letter of the first string equals the second letter of the second string\n",
    "    \n",
    "    if two_word_string[0][0] == two_word_string[1][0]:\n",
    "        \n",
    "        # if Condition satisfied \n",
    "        \n",
    "        result = True\n",
    "        \n",
    "        return result\n",
    "    \n",
    "    # otherwise (the condition does not satisfied)\n",
    "    \n",
    "    else:\n",
    "        \n",
    "        return result"
   ]
  },
  {
   "cell_type": "code",
   "execution_count": 5,
   "metadata": {},
   "outputs": [
    {
     "data": {
      "text/plain": [
       "True"
      ]
     },
     "execution_count": 5,
     "metadata": {},
     "output_type": "execute_result"
    }
   ],
   "source": [
    "# Check\n",
    "animal_crackers('Levelheaded Llama')"
   ]
  },
  {
   "cell_type": "code",
   "execution_count": 6,
   "metadata": {},
   "outputs": [
    {
     "data": {
      "text/plain": [
       "False"
      ]
     },
     "execution_count": 6,
     "metadata": {},
     "output_type": "execute_result"
    }
   ],
   "source": [
    "# Check\n",
    "animal_crackers('Crazy Kangaroo')"
   ]
  },
  {
   "cell_type": "markdown",
   "metadata": {},
   "source": [
    "#### MAKES TWENTY: Given two integers, return True if the sum of the integers is 20 *or* if one of the integers is 20. If not, return False\n",
    "\n",
    "    makes_twenty(20,10) --> True\n",
    "    makes_twenty(12,8) --> True\n",
    "    makes_twenty(2,3) --> False"
   ]
  },
  {
   "cell_type": "code",
   "execution_count": 7,
   "metadata": {},
   "outputs": [],
   "source": [
    "def makes_twenty(n1,n2):\n",
    "    \n",
    "    # Check if the n1 equals 20 or n2 equals 20\n",
    "    \n",
    "    if n1 == 20 or n2 == 20:\n",
    "        \n",
    "        # if condition is satisfied\n",
    "        \n",
    "        return True\n",
    "    \n",
    "    # Check if the sum of two numbers equals 20\n",
    "    \n",
    "    elif n1 + n2 == 20:\n",
    "        \n",
    "        # if condition is satisfied\n",
    "        \n",
    "        return True\n",
    "    \n",
    "    # Otherwise return false\n",
    "    \n",
    "    else:\n",
    "        \n",
    "        return False"
   ]
  },
  {
   "cell_type": "code",
   "execution_count": 8,
   "metadata": {},
   "outputs": [
    {
     "data": {
      "text/plain": [
       "True"
      ]
     },
     "execution_count": 8,
     "metadata": {},
     "output_type": "execute_result"
    }
   ],
   "source": [
    "# Check\n",
    "makes_twenty(20,10)"
   ]
  },
  {
   "cell_type": "code",
   "execution_count": 9,
   "metadata": {},
   "outputs": [
    {
     "data": {
      "text/plain": [
       "False"
      ]
     },
     "execution_count": 9,
     "metadata": {},
     "output_type": "execute_result"
    }
   ],
   "source": [
    "# Check\n",
    "makes_twenty(2,3)"
   ]
  },
  {
   "cell_type": "markdown",
   "metadata": {},
   "source": [
    "#### OLD MACDONALD: Write a function that capitalizes the first and fourth letters of a name\n",
    "     \n",
    "    old_macdonald('macdonald') --> MacDonald\n",
    "    \n",
    "Note: `'macdonald'.capitalize()` returns `'Macdonald'`"
   ]
  },
  {
   "cell_type": "code",
   "execution_count": 12,
   "metadata": {},
   "outputs": [],
   "source": [
    "def old_macdonald(name):\n",
    "    \n",
    "    # Create a variable to store the name on it and use the list function to create a list object of the name that can be \n",
    "    # accessed by indexing\n",
    "    \n",
    "    text_list = list(name)\n",
    "    \n",
    "    # using upper() method to return a the first [0] letter of the name in upper case\n",
    "    \n",
    "    text_list[0] = text_list[0].upper()\n",
    "    \n",
    "    # using upper() method to return a the fourth [3] letter of the name in upper case\n",
    "    \n",
    "    text_list[3] = text_list[3].upper()\n",
    "    \n",
    "    # using join() function to join and create a string and return it as an output to the user.\n",
    "    \n",
    "    return ''.join(text_list)"
   ]
  },
  {
   "cell_type": "code",
   "execution_count": 13,
   "metadata": {},
   "outputs": [
    {
     "data": {
      "text/plain": [
       "'MacDonald'"
      ]
     },
     "execution_count": 13,
     "metadata": {},
     "output_type": "execute_result"
    }
   ],
   "source": [
    "# Check\n",
    "old_macdonald('macdonald')"
   ]
  },
  {
   "cell_type": "markdown",
   "metadata": {},
   "source": [
    "#### ALMOST THERE: Given an integer n, return True if n is within 10 of either 100 or 200\n",
    "\n",
    "    almost_there(90) --> True\n",
    "    almost_there(104) --> True\n",
    "    almost_there(150) --> False\n",
    "    almost_there(209) --> True\n",
    "    \n",
    "NOTE: `abs(num)` returns the absolute value of a number"
   ]
  },
  {
   "cell_type": "code",
   "execution_count": 14,
   "metadata": {},
   "outputs": [],
   "source": [
    "def almost_there(n):\n",
    "    \n",
    "    # using abs() function to return the absolute value of the specified number.\n",
    "    \n",
    "    # check if the absolute value of 100 or 200 - entered number less than or equal 10 to ensure that it is with 10\n",
    "    \n",
    "    if abs(100 - n) <= 10 or abs(200 - n) <= 10:\n",
    "        \n",
    "        # if condition is satisfied\n",
    "        \n",
    "        return True\n",
    "    \n",
    "    # Otherwise return false\n",
    "    \n",
    "    else:\n",
    "        \n",
    "        return False    "
   ]
  },
  {
   "cell_type": "code",
   "execution_count": 15,
   "metadata": {},
   "outputs": [
    {
     "data": {
      "text/plain": [
       "True"
      ]
     },
     "execution_count": 15,
     "metadata": {},
     "output_type": "execute_result"
    }
   ],
   "source": [
    "# Check\n",
    "almost_there(104)"
   ]
  },
  {
   "cell_type": "code",
   "execution_count": 16,
   "metadata": {},
   "outputs": [
    {
     "data": {
      "text/plain": [
       "False"
      ]
     },
     "execution_count": 16,
     "metadata": {},
     "output_type": "execute_result"
    }
   ],
   "source": [
    "# Check\n",
    "almost_there(150)"
   ]
  },
  {
   "cell_type": "code",
   "execution_count": 17,
   "metadata": {},
   "outputs": [
    {
     "data": {
      "text/plain": [
       "True"
      ]
     },
     "execution_count": 17,
     "metadata": {},
     "output_type": "execute_result"
    }
   ],
   "source": [
    "# Check\n",
    "almost_there(209)"
   ]
  },
  {
   "cell_type": "markdown",
   "metadata": {},
   "source": [
    "#### FIND 33: \n",
    "\n",
    "Given a list of ints, return True if the array contains a 3 next to a 3 somewhere.\n",
    "\n",
    "    has_33([1, 3, 3]) → True\n",
    "    has_33([1, 3, 1, 3]) → False\n",
    "    has_33([3, 1, 3]) → False"
   ]
  },
  {
   "cell_type": "code",
   "execution_count": 18,
   "metadata": {},
   "outputs": [],
   "source": [
    "def has_33(nums):\n",
    "    \n",
    "    # Creating a variable and using the list function to create a list object of the given list \n",
    "    \n",
    "    numbers_list = list(nums)\n",
    "    \n",
    "    # using index() method to return the index of a the number 3 inside the list (if found)\n",
    "    \n",
    "    target = numbers_list.index(3)\n",
    "    \n",
    "    # access the list by indexing to check whether it contains a 3 next to a 3\n",
    "    \n",
    "    if numbers_list[target] == numbers_list[target + 1]:\n",
    "        \n",
    "        return True\n",
    "    \n",
    "    # if condition is satisfied\n",
    "\n",
    "    else:\n",
    "        \n",
    "        # Otherwise return false\n",
    "        \n",
    "        return False"
   ]
  },
  {
   "cell_type": "code",
   "execution_count": 19,
   "metadata": {},
   "outputs": [
    {
     "data": {
      "text/plain": [
       "True"
      ]
     },
     "execution_count": 19,
     "metadata": {},
     "output_type": "execute_result"
    }
   ],
   "source": [
    "# Check\n",
    "has_33([1, 3, 3])"
   ]
  },
  {
   "cell_type": "code",
   "execution_count": 20,
   "metadata": {},
   "outputs": [
    {
     "data": {
      "text/plain": [
       "False"
      ]
     },
     "execution_count": 20,
     "metadata": {},
     "output_type": "execute_result"
    }
   ],
   "source": [
    "# Check\n",
    "has_33([1, 3, 1, 3])"
   ]
  },
  {
   "cell_type": "code",
   "execution_count": 21,
   "metadata": {},
   "outputs": [
    {
     "data": {
      "text/plain": [
       "False"
      ]
     },
     "execution_count": 21,
     "metadata": {},
     "output_type": "execute_result"
    }
   ],
   "source": [
    "# Check\n",
    "has_33([3, 1, 3])"
   ]
  },
  {
   "cell_type": "markdown",
   "metadata": {},
   "source": [
    "#### PAPER DOLL: Given a string, return a string where for every character in the original there are three characters\n",
    "    paper_doll('Hello') --> 'HHHeeellllllooo'\n",
    "    paper_doll('Mississippi') --> 'MMMiiissssssiiippppppiii'"
   ]
  },
  {
   "cell_type": "code",
   "execution_count": 22,
   "metadata": {},
   "outputs": [],
   "source": [
    "def paper_doll(text):\n",
    "    \n",
    "    # create a variable with string data type to carry each letter of the enterd text multiplied my 3\n",
    "    \n",
    "    output = \"\"\n",
    "    \n",
    "    # make a for loop to iterate over the entered text\n",
    "    \n",
    "    for i in text:\n",
    "        \n",
    "        # assign the output with the triple value of each letter in iteration until we iterate over the whole text\n",
    "        \n",
    "        output = output + i * 3\n",
    "        \n",
    "    # return the output value\n",
    "        \n",
    "    return output"
   ]
  },
  {
   "cell_type": "code",
   "execution_count": 23,
   "metadata": {},
   "outputs": [
    {
     "data": {
      "text/plain": [
       "'HHHeeellllllooo'"
      ]
     },
     "execution_count": 23,
     "metadata": {},
     "output_type": "execute_result"
    }
   ],
   "source": [
    "# Check\n",
    "paper_doll('Hello')"
   ]
  },
  {
   "cell_type": "code",
   "execution_count": 24,
   "metadata": {},
   "outputs": [
    {
     "data": {
      "text/plain": [
       "'MMMiiissssssiiissssssiiippppppiii'"
      ]
     },
     "execution_count": 24,
     "metadata": {},
     "output_type": "execute_result"
    }
   ],
   "source": [
    "# Check\n",
    "paper_doll('Mississippi')"
   ]
  },
  {
   "cell_type": "markdown",
   "metadata": {},
   "source": [
    "#### BLACKJACK: Given three integers between 1 and 11, if their sum is less than or equal to 21, return their sum. If their sum exceeds 21 *and* there's an eleven, reduce the total sum by 10. Finally, if the sum (even after adjustment) exceeds 21, return 'BUST'\n",
    "    blackjack(5,6,7) --> 18\n",
    "    blackjack(9,9,9) --> 'BUST'\n",
    "    blackjack(9,9,11) --> 19"
   ]
  },
  {
   "cell_type": "code",
   "execution_count": 25,
   "metadata": {},
   "outputs": [],
   "source": [
    "def blackjack(a,b,c):\n",
    "    \n",
    "    # Create a variable that will store the summation value of a, b and c\n",
    "    \n",
    "    summation = a + b + c\n",
    "    \n",
    "    # Check if the summation less than or equal 21\n",
    "    \n",
    "    if summation <= 21:\n",
    "        \n",
    "        # Return the summation value\n",
    "        \n",
    "        return summation\n",
    "    \n",
    "    # Check if one of the numbers is equal 11\n",
    "    \n",
    "    elif a == 11 or b == 11 or c == 11:\n",
    "        \n",
    "         # Return the summation value - 10\n",
    "        \n",
    "         return summation - 10\n",
    "        \n",
    "        # Check if the summation is greater than 21\n",
    "        \n",
    "    elif summation > 21:\n",
    "        \n",
    "        return 'BUST'"
   ]
  },
  {
   "cell_type": "code",
   "execution_count": 26,
   "metadata": {},
   "outputs": [
    {
     "data": {
      "text/plain": [
       "18"
      ]
     },
     "execution_count": 26,
     "metadata": {},
     "output_type": "execute_result"
    }
   ],
   "source": [
    "# Check\n",
    "blackjack(5,6,7)"
   ]
  },
  {
   "cell_type": "code",
   "execution_count": 27,
   "metadata": {},
   "outputs": [
    {
     "data": {
      "text/plain": [
       "'BUST'"
      ]
     },
     "execution_count": 27,
     "metadata": {},
     "output_type": "execute_result"
    }
   ],
   "source": [
    "# Check\n",
    "blackjack(9,9,9)"
   ]
  },
  {
   "cell_type": "code",
   "execution_count": 28,
   "metadata": {},
   "outputs": [
    {
     "data": {
      "text/plain": [
       "19"
      ]
     },
     "execution_count": 28,
     "metadata": {},
     "output_type": "execute_result"
    }
   ],
   "source": [
    "# Check\n",
    "blackjack(9,9,11)"
   ]
  },
  {
   "cell_type": "markdown",
   "metadata": {},
   "source": [
    "#### SUMMER OF '69: Return the sum of the numbers in the array, except ignore sections of numbers starting with a 6 and extending to the next 9 (every 6 will be followed by at least one 9). Return 0 for no numbers.\n",
    " \n",
    "    summer_69([1, 3, 5]) --> 9\n",
    "    summer_69([4, 5, 6, 7, 8, 9]) --> 9\n",
    "    summer_69([2, 1, 6, 9, 11]) --> 14"
   ]
  },
  {
   "cell_type": "code",
   "execution_count": 29,
   "metadata": {},
   "outputs": [],
   "source": [
    "def summer_69(arr):\n",
    "    \n",
    "    # make a variable to store the summation value with an u=initial value equal 0\n",
    "    \n",
    "    summation = 0\n",
    "    \n",
    "    # iterate over the array\n",
    "    \n",
    "    for i in arr:\n",
    "        \n",
    "        # check if the value is in the rage of 6 [included] to 10 [excluded] \n",
    "        \n",
    "        if i in range(6,10):\n",
    "            \n",
    "            # to return the control to the beginning of the while loop\n",
    "            \n",
    "            continue\n",
    "        \n",
    "        else:\n",
    "            \n",
    "            # increace the summation by i value\n",
    "            \n",
    "            summation = summation + i\n",
    "            \n",
    "    # return the summation value\n",
    "            \n",
    "    return summation"
   ]
  },
  {
   "cell_type": "code",
   "execution_count": 30,
   "metadata": {},
   "outputs": [
    {
     "data": {
      "text/plain": [
       "9"
      ]
     },
     "execution_count": 30,
     "metadata": {},
     "output_type": "execute_result"
    }
   ],
   "source": [
    "# Check\n",
    "summer_69([1, 3, 5])"
   ]
  },
  {
   "cell_type": "code",
   "execution_count": 31,
   "metadata": {},
   "outputs": [
    {
     "data": {
      "text/plain": [
       "9"
      ]
     },
     "execution_count": 31,
     "metadata": {},
     "output_type": "execute_result"
    }
   ],
   "source": [
    "# Check\n",
    "summer_69([4, 5, 6, 7, 8, 9])"
   ]
  },
  {
   "cell_type": "code",
   "execution_count": 32,
   "metadata": {},
   "outputs": [
    {
     "data": {
      "text/plain": [
       "14"
      ]
     },
     "execution_count": 32,
     "metadata": {},
     "output_type": "execute_result"
    }
   ],
   "source": [
    "# Check\n",
    "summer_69([2, 1, 6, 9, 11])"
   ]
  },
  {
   "cell_type": "markdown",
   "metadata": {},
   "source": [
    "#### SPY GAME: Write a function that takes in a list of integers and returns True if it contains 007 in order\n",
    "\n",
    "     spy_game([1,2,4,0,0,7,5]) --> True\n",
    "     spy_game([1,0,2,4,0,5,7]) --> True\n",
    "     spy_game([1,7,2,0,4,5,0]) --> False\n"
   ]
  },
  {
   "cell_type": "code",
   "execution_count": 33,
   "metadata": {},
   "outputs": [],
   "source": [
    "def spy_game(nums):\n",
    "    \n",
    "    # iterate over the list\n",
    "    \n",
    "    for x in range(0, len(nums)):\n",
    "        \n",
    "        # make the first zero variable to store the index value 1st of zero\n",
    "        \n",
    "        first_zero = nums.index(0)\n",
    "        \n",
    "        # make the second zero variable to store the index value of 2nd zero\n",
    "        \n",
    "        second_zero = nums.index(0, first_zero + 1)\n",
    "        \n",
    "        # make the number_seven variable to store the index value of number seven \n",
    "        \n",
    "        number_seven = nums.index(7)\n",
    "        \n",
    "        if nums[first_zero:second_zero + 1] != number_seven and number_seven > second_zero:\n",
    "            \n",
    "            # return ture\n",
    "            \n",
    "            return True\n",
    "        \n",
    "        else:\n",
    "            \n",
    "            # return ture\n",
    "            \n",
    "            return False"
   ]
  },
  {
   "cell_type": "code",
   "execution_count": 34,
   "metadata": {},
   "outputs": [
    {
     "data": {
      "text/plain": [
       "True"
      ]
     },
     "execution_count": 34,
     "metadata": {},
     "output_type": "execute_result"
    }
   ],
   "source": [
    "# Check\n",
    "spy_game([1,2,4,0,0,7,5])"
   ]
  },
  {
   "cell_type": "code",
   "execution_count": 35,
   "metadata": {},
   "outputs": [
    {
     "data": {
      "text/plain": [
       "True"
      ]
     },
     "execution_count": 35,
     "metadata": {},
     "output_type": "execute_result"
    }
   ],
   "source": [
    "# Check\n",
    "spy_game([1,0,2,4,0,5,7])"
   ]
  },
  {
   "cell_type": "code",
   "execution_count": 36,
   "metadata": {},
   "outputs": [
    {
     "data": {
      "text/plain": [
       "False"
      ]
     },
     "execution_count": 36,
     "metadata": {},
     "output_type": "execute_result"
    }
   ],
   "source": [
    "# Check\n",
    "spy_game([1,7,2,0,4,5,0])"
   ]
  },
  {
   "cell_type": "markdown",
   "metadata": {},
   "source": [
    "#### COUNT PRIMES: Write a function that returns the *number* of prime numbers that exist up to and including a given number\n",
    "    count_primes(100) --> 25\n",
    "\n",
    "By convention, 0 and 1 are not prime."
   ]
  },
  {
   "cell_type": "code",
   "execution_count": 37,
   "metadata": {},
   "outputs": [],
   "source": [
    "def count_primes(num):\n",
    "    \n",
    "    # make a variable to store the count value with an initial value equal 0\n",
    "\n",
    "    counter = 0\n",
    "    \n",
    "    # iterate over the range from 0 to num\n",
    "\n",
    "    for i in range(num + 1):\n",
    "        \n",
    "        # Check if number less than or equal 1\n",
    "        \n",
    "        if i <=1:\n",
    "            \n",
    "            continue\n",
    "            \n",
    "        # Check if number equals 2\n",
    "            \n",
    "        if i == 2:\n",
    "            \n",
    "            # assign the counter with 2\n",
    "            \n",
    "            counter = 1\n",
    "            \n",
    "            continue\n",
    "            \n",
    "        for n in range(2,i):\n",
    "            \n",
    "            # check if the remaining value after divide i/n equal zero\n",
    "            \n",
    "            if i % n == 0:\n",
    "                \n",
    "                break\n",
    "        else:\n",
    "            \n",
    "            # Increase the counter value by 1\n",
    "            \n",
    "            counter += 1\n",
    "    \n",
    "    # return the counter value\n",
    "    \n",
    "    return counter\n"
   ]
  },
  {
   "cell_type": "code",
   "execution_count": 38,
   "metadata": {},
   "outputs": [
    {
     "data": {
      "text/plain": [
       "25"
      ]
     },
     "execution_count": 38,
     "metadata": {},
     "output_type": "execute_result"
    }
   ],
   "source": [
    "# Check\n",
    "count_primes(100)"
   ]
  },
  {
   "cell_type": "markdown",
   "metadata": {},
   "source": [
    "## Great Job!"
   ]
  }
 ],
 "metadata": {
  "kernelspec": {
   "display_name": "Python 3 (ipykernel)",
   "language": "python",
   "name": "python3"
  },
  "language_info": {
   "codemirror_mode": {
    "name": "ipython",
    "version": 3
   },
   "file_extension": ".py",
   "mimetype": "text/x-python",
   "name": "python",
   "nbconvert_exporter": "python",
   "pygments_lexer": "ipython3",
   "version": "3.9.12"
  }
 },
 "nbformat": 4,
 "nbformat_minor": 2
}
