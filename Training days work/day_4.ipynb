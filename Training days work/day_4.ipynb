{
 "cells": [
  {
   "cell_type": "code",
   "execution_count": null,
   "id": "afe2aee4",
   "metadata": {},
   "outputs": [],
   "source": [
    "l = [1,2,3]\n",
    "\n",
    "def double(x):\n",
    "\n",
    "    return x*2\n",
    "\n",
    "l2 = list(map(double, l))\n",
    "l2"
   ]
  },
  {
   "cell_type": "code",
   "execution_count": null,
   "id": "a3248faa",
   "metadata": {},
   "outputs": [],
   "source": [
    "# Abstraction: it is to keep the hard function away from the user and give him the easy ones to use [to deal with program] "
   ]
  },
  {
   "cell_type": "code",
   "execution_count": null,
   "id": "5e1d9442",
   "metadata": {},
   "outputs": [],
   "source": [
    "# Data Encabsulation: variables and methods inside the class can't be accessed outside the class"
   ]
  },
  {
   "cell_type": "code",
   "execution_count": null,
   "id": "5224c36a",
   "metadata": {},
   "outputs": [],
   "source": [
    "# Inheritance: some class can inherit some attributes from another class"
   ]
  },
  {
   "cell_type": "code",
   "execution_count": null,
   "id": "b29adb57",
   "metadata": {},
   "outputs": [],
   "source": [
    "# Classes"
   ]
  },
  {
   "cell_type": "code",
   "execution_count": null,
   "id": "174f360b",
   "metadata": {},
   "outputs": [],
   "source": [
    "class person():\n",
    "    \n",
    "    def data(self ,name, age):\n",
    "        print(name, age)\n",
    "    \n",
    "    def test(self):\n",
    "        print(\"test\")\n",
    "\n",
    "p1 = person()\n",
    "p1.data(\"Omar Khalil\", 22)\n",
    "\n",
    "t1 = person()\n",
    "t1.test()"
   ]
  },
  {
   "cell_type": "code",
   "execution_count": null,
   "id": "7392009c",
   "metadata": {},
   "outputs": [],
   "source": [
    "# Object:\n",
    "\n",
    "class dog():\n",
    "    \n",
    "    def desc(self, name, age, color, owner, location):\n",
    "        print(\"dog_name:\", name,\"dog_age:\", age,\"dog_color:\", color,\"dog_owner:\", owner,\"dog_location:\", location)\n",
    "\n",
    "dog1 = dog()\n",
    "dog1.desc(\"willy\\n\", \"5\\n\", \"red\\n\", \"Omar\\n\", \"Egypt\\n\")"
   ]
  },
  {
   "cell_type": "code",
   "execution_count": null,
   "id": "22b379da",
   "metadata": {},
   "outputs": [],
   "source": [
    "# OPP (Constructor) : [it is used to fill our attributes]\n",
    "\n",
    "# object vs. Constructor: \n",
    "\n",
    "# 1 - Object: to inherit some attributes from calss\n",
    "\n",
    "# 2 - Constructor: - is a function that is called every time we create an object -- Aim: to fill out attributes\n",
    "#                  - it is called directly when we make an object\n",
    "#                  - it's values are accessed when we use an object with [variable = className(values)] then,\n",
    "#                  - objectName.constructor_Value"
   ]
  },
  {
   "cell_type": "code",
   "execution_count": null,
   "id": "8196c01a",
   "metadata": {},
   "outputs": [],
   "source": [
    "# Constructor:\n",
    "\n",
    "class person():\n",
    "    def __init__(self, name, age):\n",
    "        self.name = name\n",
    "        self.age = age\n",
    "        \n",
    "        # you can use the same words if you want\n",
    "        \n",
    "p1 = person(\"Omar\", 22)"
   ]
  },
  {
   "cell_type": "code",
   "execution_count": null,
   "id": "a48bcb8f",
   "metadata": {},
   "outputs": [],
   "source": [
    "print(p1.name)"
   ]
  },
  {
   "cell_type": "code",
   "execution_count": null,
   "id": "07181137",
   "metadata": {},
   "outputs": [],
   "source": [
    "print(p1.age)"
   ]
  },
  {
   "cell_type": "code",
   "execution_count": null,
   "id": "f5026df9",
   "metadata": {},
   "outputs": [],
   "source": [
    "class employee():\n",
    "    def __init__(self, name, age, job, salary):\n",
    "        self.name = name\n",
    "        self.age = age\n",
    "        self.job = job\n",
    "        self.salary = salary\n",
    "    \n",
    "    # to print all values at once: add new function into the class to do that.\n",
    "    def show(self):\n",
    "        print(self.name, self.age, self.job, self.salary)\n",
    "            \n",
    "emp1 = employee(\"Omar\", 22, \"Engineer\", 10000)"
   ]
  },
  {
   "cell_type": "code",
   "execution_count": null,
   "id": "3b2ed4e1",
   "metadata": {},
   "outputs": [],
   "source": [
    "print(emp1.name)\n",
    "print(emp1.age)\n",
    "print(emp1.job)\n",
    "print(emp1.salary)"
   ]
  },
  {
   "cell_type": "code",
   "execution_count": null,
   "id": "b02c6a7a",
   "metadata": {},
   "outputs": [],
   "source": [
    "# to print all values at once: add new function into the class to do that."
   ]
  },
  {
   "cell_type": "code",
   "execution_count": null,
   "id": "6ff54e01",
   "metadata": {},
   "outputs": [],
   "source": [
    "emp1.show()"
   ]
  },
  {
   "cell_type": "code",
   "execution_count": null,
   "id": "c5705ad1",
   "metadata": {},
   "outputs": [],
   "source": [
    "class emp():\n",
    "    def __init__(self, salary1, salary2):\n",
    "        self.salary1 = salary1\n",
    "        self.salary2 = salary2\n",
    "    def add(self):\n",
    "        print(self.salary1 + self.salary2) # you colud also return the value and then print(employee1.add())\n",
    "employee1 = emp(100, 200) "
   ]
  },
  {
   "cell_type": "code",
   "execution_count": null,
   "id": "8b2aba44",
   "metadata": {},
   "outputs": [],
   "source": [
    "employee1.add()"
   ]
  },
  {
   "cell_type": "code",
   "execution_count": null,
   "id": "37cfe5fc",
   "metadata": {},
   "outputs": [],
   "source": [
    "# Instance attributes Vs. Class attributes:\n",
    "\n",
    "# Instance attributes: attributeds inside the functions || instructor in the class\n",
    "\n",
    "# Class attributes: is the attributes inside the class itself"
   ]
  },
  {
   "cell_type": "code",
   "execution_count": 15,
   "id": "bd23300d",
   "metadata": {},
   "outputs": [],
   "source": [
    "class dog():\n",
    "    num_dogs = 0  # Class attributes: is the attributes inside the class itself\n",
    "    \n",
    "    def __init__(self, name, age, dog_type, color, price):\n",
    "        dog.num_dogs += 1\n",
    "        self.name = name           # Instance attributes: attributeds inside the functions || instructor in the class     \n",
    "        self.age = age\n",
    "        self.dog_type = dog_type\n",
    "        self. color = color\n",
    "        self.price = price\n",
    "        \n",
    "    def desc(self):\n",
    "        print(\"dog_number:\", dog.num_dogs, \"\\ndog_name:\", self.name, \"\\ndog_age:\", self.age,\n",
    "              \"\\ndog_type:\", self.dog_type, \"\\ndog_color:\", self.color, \"\\ndog_price:\", self.price)"
   ]
  },
  {
   "cell_type": "code",
   "execution_count": 16,
   "id": "cbb52765",
   "metadata": {},
   "outputs": [
    {
     "name": "stdout",
     "output_type": "stream",
     "text": [
      "dog_number: 1 \n",
      "dog_name: rokky \n",
      "dog_age: 1 \n",
      "dog_type: balady \n",
      "dog_color: red \n",
      "dog_price: 1000\n"
     ]
    }
   ],
   "source": [
    "d1 = dog(\"rokky\", 1, \"balady\", \"red\", 1000) # object 1\n",
    "d1.desc()"
   ]
  },
  {
   "cell_type": "code",
   "execution_count": 17,
   "id": "82f53287",
   "metadata": {},
   "outputs": [
    {
     "name": "stdout",
     "output_type": "stream",
     "text": [
      "dog_number: 2 \n",
      "dog_name: tib \n",
      "dog_age: 2 \n",
      "dog_type: rot \n",
      "dog_color: balck \n",
      "dog_price: 2000\n"
     ]
    }
   ],
   "source": [
    "d2 = dog(\"tib\", 2, \"rot\", \"balck\", 2000) # object 2\n",
    "d2.desc()"
   ]
  },
  {
   "cell_type": "code",
   "execution_count": 18,
   "id": "94b4a3c5",
   "metadata": {},
   "outputs": [
    {
     "name": "stdout",
     "output_type": "stream",
     "text": [
      "dog_number: 3 \n",
      "dog_name: pix \n",
      "dog_age: 2 \n",
      "dog_type: mixed_breed \n",
      "dog_color: white \n",
      "dog_price: 5000\n"
     ]
    }
   ],
   "source": [
    "d3 = dog(\"pix\", 2, \"mixed_breed\", \"white\", 5000) # object 3\n",
    "d3.desc()"
   ]
  },
  {
   "cell_type": "code",
   "execution_count": 19,
   "id": "930c7bbe",
   "metadata": {},
   "outputs": [
    {
     "name": "stdout",
     "output_type": "stream",
     "text": [
      "rokky\n"
     ]
    }
   ],
   "source": [
    "print(d1.name)"
   ]
  },
  {
   "cell_type": "code",
   "execution_count": 20,
   "id": "c4669907",
   "metadata": {},
   "outputs": [
    {
     "name": "stdout",
     "output_type": "stream",
     "text": [
      "1\n"
     ]
    }
   ],
   "source": [
    "print(d1.age)"
   ]
  },
  {
   "cell_type": "code",
   "execution_count": 24,
   "id": "23f1357e",
   "metadata": {},
   "outputs": [],
   "source": [
    "class student():\n",
    "    num_student = 0  # Class attributes: is the attributes inside the class itself\n",
    "    \n",
    "    def __init__(self, name, age, number_of_enrolled_courses):\n",
    "        student.num_student += 1\n",
    "        self.name = name           # Instance attributes: attributeds inside the functions || instructor in the class     \n",
    "        self.age = age\n",
    "        self.number_of_enrolled_courses = number_of_enrolled_courses\n",
    "    \n",
    "    def desc(self):\n",
    "        print(\"Number of student:\", student.num_student, \"\\nStudent_name:\", self.name, \"\\nStudent age:\", self.age, \"\\nStudent_courses:\", self.number_of_enrolled_courses)\n",
    "\n",
    "s1 = student(\"Omar\", 22, 10)"
   ]
  },
  {
   "cell_type": "code",
   "execution_count": 25,
   "id": "f1ec7298",
   "metadata": {},
   "outputs": [
    {
     "name": "stdout",
     "output_type": "stream",
     "text": [
      "Number of student: 1 \n",
      "Student_name: Omar \n",
      "Student age: 22 \n",
      "Student_courses: 10\n"
     ]
    }
   ],
   "source": [
    "s1.desc()"
   ]
  },
  {
   "cell_type": "code",
   "execution_count": 26,
   "id": "a8a12553",
   "metadata": {},
   "outputs": [],
   "source": [
    "s2 = student(\"Karim\", 25, 15)"
   ]
  },
  {
   "cell_type": "code",
   "execution_count": 27,
   "id": "288eb2e2",
   "metadata": {},
   "outputs": [
    {
     "name": "stdout",
     "output_type": "stream",
     "text": [
      "Number of student: 2 \n",
      "Student_name: Karim \n",
      "Student age: 25 \n",
      "Student_courses: 15\n"
     ]
    }
   ],
   "source": [
    "s2.desc()"
   ]
  },
  {
   "cell_type": "code",
   "execution_count": 28,
   "id": "6ed4d4c4",
   "metadata": {},
   "outputs": [],
   "source": [
    "class dog():\n",
    "    num_dogs = 0  # Class attributes: is the attributes inside the class itself\n",
    "    \n",
    "    def __init__(self, name, age, dog_type, color, price):\n",
    "        dog.num_dogs += 1\n",
    "        self.name = name           # Instance attributes: attributeds inside the functions || instructor in the class     \n",
    "        self.age = age\n",
    "        self.dog_type = dog_type\n",
    "        self. color = color\n",
    "        self.price = price"
   ]
  },
  {
   "cell_type": "code",
   "execution_count": 29,
   "id": "7e0855bf",
   "metadata": {},
   "outputs": [],
   "source": [
    "d1 = dog(\"rokky\", 1, \"balady\", \"red\", 1000) # object 1\n",
    "d2 = dog(\"tib\", 2, \"rot\", \"balck\", 2000) # object 2\n",
    "d3 = dog(\"pix\", 2, \"mixed_breed\", \"white\", 5000) # object 3"
   ]
  },
  {
   "cell_type": "code",
   "execution_count": 39,
   "id": "347634b6",
   "metadata": {},
   "outputs": [
    {
     "name": "stdout",
     "output_type": "stream",
     "text": [
      "rokky\n",
      "1\n",
      "balady\n",
      "red\n",
      "1000\n"
     ]
    }
   ],
   "source": [
    "print(d1.name)\n",
    "print(d1.age)\n",
    "print(d1.dog_type)\n",
    "print(d1.color)\n",
    "print(d1.price)"
   ]
  },
  {
   "cell_type": "code",
   "execution_count": 41,
   "id": "a6041470",
   "metadata": {},
   "outputs": [
    {
     "name": "stdout",
     "output_type": "stream",
     "text": [
      "3\n"
     ]
    }
   ],
   "source": [
    "# Print the total number of dogs\n",
    "\n",
    "print(dog.num_dogs)"
   ]
  },
  {
   "cell_type": "code",
   "execution_count": 42,
   "id": "b99adce1",
   "metadata": {},
   "outputs": [],
   "source": [
    "# Class method Vs instance method Vs. Static method\n",
    "\n",
    "# 1- Class metohd: is a function that is used to access the class variables\n",
    "#        - add >> @classmethod before the function\n",
    "#        - add >> cls instead of self as the parameter of the function\n",
    "#        - access the class variables by >> cls.class_variable_name = some value \n",
    "\n",
    "# 2- instance method: is a function that is used to access the instace variables\n",
    "#        - any created instance is defined as instance method by default till I change this\n",
    "#        - we don't add any thing before it\n",
    "#        - add >> self as the parameter of the function\n",
    "#        - access the class variables by >> self.instance_variable_name = some value \n",
    "\n",
    "# 3- Static method: is a function that is used to make some event that is not associated with class or instance variables.\n",
    "#        - add >> @staticmethod before the function\n",
    "#        - use any thing as parameter if needed\n",
    "#        - it's a traditional function"
   ]
  },
  {
   "cell_type": "code",
   "execution_count": 51,
   "id": "be7bbd45",
   "metadata": {},
   "outputs": [],
   "source": [
    "class student():\n",
    "    num_student = 0  # Class attributes: is the attributes inside the class itself\n",
    "    \n",
    "    def __init__(self, name, age, number_of_enrolled_courses):\n",
    "        student.num_student += 1\n",
    "        self.name = name           # Instance attributes: attributeds inside the functions || instructor in the class     \n",
    "        self.age = age\n",
    "        self.number_of_enrolled_courses = number_of_enrolled_courses\n",
    "    \n",
    "    def desc(self):\n",
    "        print(\"Number of student:\", student.num_student, \"\\nStudent_name:\", self.name, \"\\nStudent age:\", self.age, \"\\nStudent_courses:\", self.number_of_enrolled_courses)\n",
    "    \n",
    "    @classmethod\n",
    "    def total(cls):\n",
    "        print(cls.num_student)\n",
    "    \n",
    "    @staticmethod\n",
    "    def courses_list(l):\n",
    "        print(l)\n",
    "        \n",
    "s1 = student(\"Omar\", 22, 10)"
   ]
  },
  {
   "cell_type": "code",
   "execution_count": 52,
   "id": "e7dd6b40",
   "metadata": {},
   "outputs": [
    {
     "name": "stdout",
     "output_type": "stream",
     "text": [
      "Number of student: 1 \n",
      "Student_name: Omar \n",
      "Student age: 22 \n",
      "Student_courses: 10\n"
     ]
    }
   ],
   "source": [
    "s1.desc()"
   ]
  },
  {
   "cell_type": "code",
   "execution_count": 53,
   "id": "725ad943",
   "metadata": {},
   "outputs": [
    {
     "name": "stdout",
     "output_type": "stream",
     "text": [
      "1\n"
     ]
    }
   ],
   "source": [
    "s1.total()"
   ]
  },
  {
   "cell_type": "code",
   "execution_count": 54,
   "id": "cde25e06",
   "metadata": {},
   "outputs": [
    {
     "name": "stdout",
     "output_type": "stream",
     "text": [
      "['English', 'Arabic']\n"
     ]
    }
   ],
   "source": [
    "s1.courses_list([\"English\", \"Arabic\"])"
   ]
  },
  {
   "cell_type": "code",
   "execution_count": 55,
   "id": "638e553e",
   "metadata": {},
   "outputs": [],
   "source": [
    "# Private variables:\n",
    "\n",
    "# to create a private variable:\n",
    "\n",
    "# add __ before the variable name\n",
    "\n",
    "# Ex: __name\n",
    "\n",
    "# NOTE: - Private variables inside a class can only be accessed inside the calss.\n",
    "#       - It can't be modified or used by any process outside the class."
   ]
  },
  {
   "cell_type": "code",
   "execution_count": 56,
   "id": "9c835e33",
   "metadata": {},
   "outputs": [],
   "source": [
    "# Protected Variables:\n",
    "\n",
    "# to create a protected variable:\n",
    "\n",
    "# add _ before the variable name\n",
    "\n",
    "# Ex: _name\n",
    "\n",
    "# NOTE: - Private variables inside a class can be accessed inside the calss and inside the classed that inherit from that class (have same attributes)\n",
    "#       - It can't be modified or used by any process outside the class.\n"
   ]
  },
  {
   "cell_type": "code",
   "execution_count": 57,
   "id": "103d8f5b",
   "metadata": {},
   "outputs": [],
   "source": [
    "# Inheritance:"
   ]
  },
  {
   "cell_type": "code",
   "execution_count": 58,
   "id": "0ef6527f",
   "metadata": {},
   "outputs": [],
   "source": [
    "# any class can inherit some attributes from another class using:\n",
    "\n",
    "# super().__init__(parent classs attributes)"
   ]
  },
  {
   "cell_type": "code",
   "execution_count": 71,
   "id": "473085db",
   "metadata": {},
   "outputs": [],
   "source": [
    "class student():\n",
    "    num_student = 0  # Class attributes: is the attributes inside the class itself\n",
    "    \n",
    "    def __init__(self, name, age, number_of_enrolled_courses):\n",
    "        student.num_student += 1\n",
    "        self.name = name           # Instance attributes: attributeds inside the functions || instructor in the class     \n",
    "        self.age = age\n",
    "        self.number_of_enrolled_courses = number_of_enrolled_courses\n",
    "    \n",
    "    def desc(self):\n",
    "        print(\"Number of student:\", student.num_student, \"\\nStudent_name:\", self.name, \"\\nStudent age:\", self.age, \"\\nStudent_courses:\", self.number_of_enrolled_courses)\n",
    "    \n",
    "    @classmethod\n",
    "    def total(cls):\n",
    "        print(cls.num_student)\n",
    "    \n",
    "    @staticmethod\n",
    "    def courses_list(l):\n",
    "        print(l)\n",
    "    \n",
    "class person(student):\n",
    "    \n",
    "    def __init__(self, name, age, number_of_enrolled_courses, year):\n",
    "        \n",
    "        # Inheritance:\n",
    "        \n",
    "        super().__init__(name, age, number_of_enrolled_courses)\n",
    "        self.graduation_year = year\n",
    "    \n",
    "    def welcome(self):\n",
    "        print(\"Welcome\", self.name, \"with the age of:\", self.age,\"and number of enrolled cources:\", self.number_of_enrolled_courses ,\"to the class of:\", self.graduation_year)"
   ]
  },
  {
   "cell_type": "code",
   "execution_count": 72,
   "id": "3b2e810b",
   "metadata": {},
   "outputs": [],
   "source": [
    "s1 = person(\"Omar\", 22, 10, 2023)"
   ]
  },
  {
   "cell_type": "code",
   "execution_count": 73,
   "id": "ee62fd71",
   "metadata": {},
   "outputs": [
    {
     "name": "stdout",
     "output_type": "stream",
     "text": [
      "Welcome Omar with the age of: 22 and number of enrolled cources: 10 to the class of: 2023\n"
     ]
    }
   ],
   "source": [
    "s1.welcome()"
   ]
  }
 ],
 "metadata": {
  "kernelspec": {
   "display_name": "Python 3 (ipykernel)",
   "language": "python",
   "name": "python3"
  },
  "language_info": {
   "codemirror_mode": {
    "name": "ipython",
    "version": 3
   },
   "file_extension": ".py",
   "mimetype": "text/x-python",
   "name": "python",
   "nbconvert_exporter": "python",
   "pygments_lexer": "ipython3",
   "version": "3.9.12"
  }
 },
 "nbformat": 4,
 "nbformat_minor": 5
}
