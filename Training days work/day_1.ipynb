{
 "cells": [
  {
   "cell_type": "code",
   "execution_count": null,
   "id": "6a42b161",
   "metadata": {},
   "outputs": [],
   "source": [
    "import numpy as np\n",
    "import math"
   ]
  },
  {
   "cell_type": "code",
   "execution_count": null,
   "id": "8e88df49",
   "metadata": {},
   "outputs": [],
   "source": [
    "x = 6"
   ]
  },
  {
   "cell_type": "code",
   "execution_count": null,
   "id": "dd6bc6f2",
   "metadata": {},
   "outputs": [],
   "source": [
    "int(x)"
   ]
  },
  {
   "cell_type": "code",
   "execution_count": null,
   "id": "e50bc33b",
   "metadata": {},
   "outputs": [],
   "source": [
    "float(x)"
   ]
  },
  {
   "cell_type": "code",
   "execution_count": null,
   "id": "7e55b236",
   "metadata": {},
   "outputs": [],
   "source": [
    "abs(x)"
   ]
  },
  {
   "cell_type": "code",
   "execution_count": null,
   "id": "23f32dae",
   "metadata": {},
   "outputs": [],
   "source": [
    "math.sqrt(x)"
   ]
  },
  {
   "cell_type": "code",
   "execution_count": null,
   "id": "597b8bc1",
   "metadata": {},
   "outputs": [],
   "source": [
    "math.log(x)"
   ]
  },
  {
   "cell_type": "code",
   "execution_count": null,
   "id": "138fbfc5",
   "metadata": {},
   "outputs": [],
   "source": [
    "pow(x,2)"
   ]
  },
  {
   "cell_type": "code",
   "execution_count": null,
   "id": "5f7ddba1",
   "metadata": {},
   "outputs": [],
   "source": [
    "np.sqrt(x)"
   ]
  },
  {
   "cell_type": "code",
   "execution_count": null,
   "id": "6ee44e73",
   "metadata": {},
   "outputs": [],
   "source": [
    "np.log(x)"
   ]
  },
  {
   "cell_type": "code",
   "execution_count": null,
   "id": "0d1bf693",
   "metadata": {},
   "outputs": [],
   "source": [
    "np.power(x,2)"
   ]
  },
  {
   "cell_type": "code",
   "execution_count": null,
   "id": "34f646de",
   "metadata": {},
   "outputs": [],
   "source": [
    "i = \"omar\""
   ]
  },
  {
   "cell_type": "code",
   "execution_count": null,
   "id": "4f3c1788",
   "metadata": {},
   "outputs": [],
   "source": [
    "i[0]"
   ]
  },
  {
   "cell_type": "code",
   "execution_count": null,
   "id": "4fbe7c40",
   "metadata": {},
   "outputs": [],
   "source": [
    "i[:-1]"
   ]
  },
  {
   "cell_type": "code",
   "execution_count": null,
   "id": "b31a15f2",
   "metadata": {},
   "outputs": [],
   "source": [
    "i = \"0123456789\""
   ]
  },
  {
   "cell_type": "code",
   "execution_count": null,
   "id": "fe91e0cc",
   "metadata": {},
   "outputs": [],
   "source": [
    "print(i[-2:-6:-2])"
   ]
  },
  {
   "cell_type": "code",
   "execution_count": null,
   "id": "830645da",
   "metadata": {},
   "outputs": [],
   "source": [
    "print(i[-2])"
   ]
  },
  {
   "cell_type": "code",
   "execution_count": null,
   "id": "03719fdc",
   "metadata": {},
   "outputs": [],
   "source": [
    "print(i[-6])"
   ]
  },
  {
   "cell_type": "code",
   "execution_count": null,
   "id": "29ef1f58",
   "metadata": {},
   "outputs": [],
   "source": [
    "name = str(input(\"Enter your name: \"))"
   ]
  },
  {
   "cell_type": "code",
   "execution_count": null,
   "id": "85dbf415",
   "metadata": {},
   "outputs": [],
   "source": [
    "phone = int(input(\"Enter yor number: \"))"
   ]
  },
  {
   "cell_type": "code",
   "execution_count": null,
   "id": "5851e88a",
   "metadata": {},
   "outputs": [],
   "source": [
    "country_code = str(\"+20\")"
   ]
  },
  {
   "cell_type": "code",
   "execution_count": null,
   "id": "7519f86b",
   "metadata": {},
   "outputs": [],
   "source": [
    "contact = name + \", \" + country_code + str(phone)"
   ]
  },
  {
   "cell_type": "code",
   "execution_count": null,
   "id": "fc3aebb8",
   "metadata": {},
   "outputs": [],
   "source": [
    "print(contact)"
   ]
  },
  {
   "cell_type": "code",
   "execution_count": null,
   "id": "74329073",
   "metadata": {},
   "outputs": [],
   "source": [
    "type(contact)"
   ]
  },
  {
   "cell_type": "code",
   "execution_count": 8,
   "id": "83a37775",
   "metadata": {},
   "outputs": [
    {
     "name": "stdout",
     "output_type": "stream",
     "text": [
      "Enter two values: 6 2\n",
      "first number is: 6\n",
      "second number is: 2\n"
     ]
    }
   ],
   "source": [
    "# Enter Two numbers to work on them\n",
    "x,y = input(\"Enter two values: \").split()\n",
    "\n",
    "# Print the entered numbers in form of first number and second number \n",
    "print(\"first number is:\", x)\n",
    "print(\"second number is:\", y)"
   ]
  },
  {
   "cell_type": "code",
   "execution_count": 10,
   "id": "9e753762",
   "metadata": {},
   "outputs": [
    {
     "name": "stdout",
     "output_type": "stream",
     "text": [
      "addition =  8\n",
      "subtraction =  4\n",
      "multiplication =  12\n"
     ]
    }
   ],
   "source": [
    "# Convert the numbers data type to integer to do mathematical operations on them\n",
    "x,y = int(x),int(y)\n",
    "\n",
    "# Add Operation\n",
    "add = x+y\n",
    "print(\"addition = \" ,add)\n",
    "\n",
    "# Check if x is less than y to prevent negative output value\n",
    "if x < y:\n",
    "    print(\"x is less than y try a larger number\")\n",
    "else:\n",
    "    # perform subtraction Operation\n",
    "    sub = x-y\n",
    "    print(\"subtraction = \" ,sub)\n",
    "\n",
    "# Check if x = 0 to prevent multiplication by 0 \n",
    "if x == 0:\n",
    "    print(\"try larger numbers\")\n",
    "else:\n",
    "    # perform multiplication Operation\n",
    "    mul = x*y\n",
    "    print(\"multiplication = \" ,mul)"
   ]
  }
 ],
 "metadata": {
  "kernelspec": {
   "display_name": "Python 3 (ipykernel)",
   "language": "python",
   "name": "python3"
  },
  "language_info": {
   "codemirror_mode": {
    "name": "ipython",
    "version": 3
   },
   "file_extension": ".py",
   "mimetype": "text/x-python",
   "name": "python",
   "nbconvert_exporter": "python",
   "pygments_lexer": "ipython3",
   "version": "3.9.12"
  }
 },
 "nbformat": 4,
 "nbformat_minor": 5
}
