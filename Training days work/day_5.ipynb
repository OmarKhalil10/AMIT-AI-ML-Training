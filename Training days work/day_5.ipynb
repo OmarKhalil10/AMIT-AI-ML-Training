{
 "cells": [
  {
   "cell_type": "code",
   "execution_count": 1,
   "id": "2f110c30",
   "metadata": {},
   "outputs": [
    {
     "name": "stdout",
     "output_type": "stream",
     "text": [
      "[6, 8, 10]\n"
     ]
    }
   ],
   "source": [
    "# sum 2 lists \n",
    "\n",
    "x = [1,2,3]\n",
    "y = [5,6,7]\n",
    "lst=[]\n",
    "for i in range(len(x)):\n",
    "    lst.append(x[i]+y[i])\n",
    "print(lst)"
   ]
  },
  {
   "cell_type": "code",
   "execution_count": 2,
   "id": "1f23aafa",
   "metadata": {},
   "outputs": [],
   "source": [
    "def add_two_vectors(vect1, vect2):\n",
    "\n",
    "    lst=[]\n",
    "    for i in range(len(vect1)):\n",
    "        assert len(vect1) == len(vect2)\n",
    "        lst.append(vect1[i]+vect2[i])\n",
    "    return lst"
   ]
  },
  {
   "cell_type": "code",
   "execution_count": 3,
   "id": "25b19d11",
   "metadata": {},
   "outputs": [
    {
     "data": {
      "text/plain": [
       "[2, 4]"
      ]
     },
     "execution_count": 3,
     "metadata": {},
     "output_type": "execute_result"
    }
   ],
   "source": [
    "add_two_vectors([1,2],[1,2])"
   ]
  },
  {
   "cell_type": "code",
   "execution_count": 4,
   "id": "72c622b5",
   "metadata": {},
   "outputs": [],
   "source": [
    "# List Comprehension\n",
    "\n",
    "def add_two_vecs(vect1, vect2):\n",
    "\n",
    "    assert len(vect1) == len(vect2)\n",
    "    return [v_i + w_i for v_i, w_i in zip(vect1, vect2)]\n",
    "\n",
    "assert add_two_vecs([1,2,3], [4,5,6]) == [5,7,9]"
   ]
  },
  {
   "cell_type": "code",
   "execution_count": 5,
   "id": "c9cdc7f0",
   "metadata": {},
   "outputs": [
    {
     "data": {
      "text/plain": [
       "[2, 4]"
      ]
     },
     "execution_count": 5,
     "metadata": {},
     "output_type": "execute_result"
    }
   ],
   "source": [
    "add_two_vecs([1,2],[1,2])"
   ]
  },
  {
   "cell_type": "code",
   "execution_count": 6,
   "id": "1e52e052",
   "metadata": {},
   "outputs": [],
   "source": [
    "def add_num_to_vect(n, vect2):\n",
    "    \n",
    "    lst = []\n",
    "    \n",
    "    for i in range(len(vect2)):\n",
    "        \n",
    "        lst.append(n+ vect2[i])\n",
    "    \n",
    "    return lst\n"
   ]
  },
  {
   "cell_type": "code",
   "execution_count": 7,
   "id": "45e74238",
   "metadata": {},
   "outputs": [
    {
     "data": {
      "text/plain": [
       "[6, 7, 8]"
      ]
     },
     "execution_count": 7,
     "metadata": {},
     "output_type": "execute_result"
    }
   ],
   "source": [
    "add_num_to_vect(5, [1,2,3])"
   ]
  },
  {
   "cell_type": "code",
   "execution_count": 17,
   "id": "b7d01ac3",
   "metadata": {},
   "outputs": [],
   "source": [
    "# List Comprehension\n",
    "\n",
    "def add_num(n, vect):\n",
    "    \n",
    "    lst = []\n",
    "    \n",
    "    return [n + i for i in vect]\n",
    "\n",
    "# raise an error if the output value is not as expected\n",
    "\n",
    "assert add_num(5, [1, 2, 3]) == [6, 7, 8]"
   ]
  },
  {
   "cell_type": "code",
   "execution_count": 18,
   "id": "f00a59c5",
   "metadata": {},
   "outputs": [
    {
     "data": {
      "text/plain": [
       "[6, 7, 8]"
      ]
     },
     "execution_count": 18,
     "metadata": {},
     "output_type": "execute_result"
    }
   ],
   "source": [
    "add_num(5, [1,2,3])"
   ]
  },
  {
   "cell_type": "code",
   "execution_count": 19,
   "id": "40ec009f",
   "metadata": {},
   "outputs": [],
   "source": [
    "# List Comprehension\n",
    "\n",
    "def mul_two_vecs(vect1, vect2):\n",
    "    \n",
    "    assert len(vect1) == len(vect2)\n",
    "    return sum([v_i * w_i for v_i, w_i in zip(vect1, vect2)])\n",
    "\n",
    "assert mul_two_vecs([1, 2, 3], [4, 5, 6]) == 32"
   ]
  },
  {
   "cell_type": "code",
   "execution_count": 20,
   "id": "67c202b5",
   "metadata": {},
   "outputs": [
    {
     "data": {
      "text/plain": [
       "32"
      ]
     },
     "execution_count": 20,
     "metadata": {},
     "output_type": "execute_result"
    }
   ],
   "source": [
    "mul_two_vecs([1,2,3],[4,5,6])"
   ]
  },
  {
   "cell_type": "code",
   "execution_count": 21,
   "id": "45d16035",
   "metadata": {},
   "outputs": [
    {
     "data": {
      "text/plain": [
       "(3, 3)"
      ]
     },
     "execution_count": 21,
     "metadata": {},
     "output_type": "execute_result"
    }
   ],
   "source": [
    "import numpy as np\n",
    " \n",
    "matrix = np.array([[1, 2, 3],[4, 5, 8],[6, 4, 7]])\n",
    "\n",
    "matrix.shape"
   ]
  },
  {
   "cell_type": "code",
   "execution_count": 22,
   "id": "94b66d59",
   "metadata": {},
   "outputs": [
    {
     "name": "stdout",
     "output_type": "stream",
     "text": [
      "The shape of the matrix is (3, 3)\n"
     ]
    }
   ],
   "source": [
    "matrix = [[1, 2, 3],[4, 5, 8],[6, 4, 7]]\n",
    "\n",
    "rows = len(matrix)\n",
    "\n",
    "columns = len(matrix[0])\n",
    "\n",
    "print(\"The shape of the matrix is ({}, {})\".format(rows, columns))"
   ]
  },
  {
   "cell_type": "code",
   "execution_count": 23,
   "id": "2d7c4080",
   "metadata": {},
   "outputs": [],
   "source": [
    "def shape(A):\n",
    "    \n",
    "    rows = len(A)\n",
    "    \n",
    "    columns = len(A[0]) if A else 0\n",
    "    \n",
    "    return rows, columns"
   ]
  },
  {
   "cell_type": "code",
   "execution_count": 26,
   "id": "4b52151e",
   "metadata": {},
   "outputs": [
    {
     "data": {
      "text/plain": [
       "(2, 3)"
      ]
     },
     "execution_count": 26,
     "metadata": {},
     "output_type": "execute_result"
    }
   ],
   "source": [
    "shape([[1,2,3],[2,3,4]])"
   ]
  },
  {
   "cell_type": "code",
   "execution_count": 38,
   "id": "48fbb5bd",
   "metadata": {},
   "outputs": [],
   "source": [
    "def add_two_matr(A,B):\n",
    "    \n",
    "    c = [(a_i + b_i) for a_i, b_i in zip(A,B)]\n",
    "    \n",
    "    return c"
   ]
  },
  {
   "cell_type": "code",
   "execution_count": 39,
   "id": "caa12e76",
   "metadata": {},
   "outputs": [
    {
     "data": {
      "text/plain": [
       "[5, 7, 9]"
      ]
     },
     "execution_count": 39,
     "metadata": {},
     "output_type": "execute_result"
    }
   ],
   "source": [
    "add_two_matr([1,2,3],[4,5,6])"
   ]
  },
  {
   "cell_type": "code",
   "execution_count": 43,
   "id": "2427311c",
   "metadata": {},
   "outputs": [
    {
     "name": "stdout",
     "output_type": "stream",
     "text": [
      "[[2, 4, 6], [8, 10, 12]]\n"
     ]
    }
   ],
   "source": [
    "x = [[1,2,3],[4,5,6]]\n",
    "y = [[1,2,3],[4,5,6]]\n",
    "\n",
    "result = [[0,0,0],[0,0,0]]\n",
    "\n",
    "for i in range(len(x)):\n",
    "    \n",
    "    for j in range(len(x[0])):\n",
    "    \n",
    "        result[i][j] = x[i][j] + y[i][j]\n",
    "    \n",
    "print(result)"
   ]
  },
  {
   "cell_type": "code",
   "execution_count": 56,
   "id": "834a09b9",
   "metadata": {},
   "outputs": [],
   "source": [
    "# EX:\n",
    "\n",
    "x = [[1,2,3],[4,5,6]]\n",
    "y = [[1,2,3],[4,5,6]]\n",
    "\n",
    "\n",
    "\n",
    "def add_two_matr(a,b):\n",
    "    \n",
    "    result = [[0,0,0],[0,0,0]]\n",
    "\n",
    "    for i in range(len(x)):\n",
    "    \n",
    "        for j in range(len(x[0])):\n",
    "    \n",
    "            result[i][j] = x[i][j] + y[i][j]\n",
    "    \n",
    "    print(result)"
   ]
  },
  {
   "cell_type": "code",
   "execution_count": 58,
   "id": "0d6378b4",
   "metadata": {},
   "outputs": [
    {
     "name": "stdout",
     "output_type": "stream",
     "text": [
      "Enter the number of rows:2\n",
      "Enter the number of columns:3\n",
      "Enter the entries in a single line (separated by space): \n",
      "1 2 3 4 5 6\n",
      "[[1 2 3]\n",
      " [4 5 6]]\n"
     ]
    }
   ],
   "source": [
    "import numpy as np\n",
    "  \n",
    "R = int(input(\"Enter the number of rows:\"))\n",
    "C = int(input(\"Enter the number of columns:\"))\n",
    "  \n",
    "print(\"Enter the entries in a single line (separated by space): \")\n",
    "  \n",
    "# User input of entries in a \n",
    "# single line separated by space\n",
    "\n",
    "entries = list(map(int, input().split()))\n",
    "  \n",
    "# For printing the matrix\n",
    "matrix = np.array(entries).reshape(R, C)\n",
    "\n",
    "print(matrix)"
   ]
  },
  {
   "cell_type": "code",
   "execution_count": 55,
   "id": "89f84db6",
   "metadata": {},
   "outputs": [
    {
     "name": "stdout",
     "output_type": "stream",
     "text": [
      "Enter the number of rows:2\n",
      "Enter the number of columns:3\n",
      "Enter the entries rowwise:\n",
      "1\n",
      "2\n",
      "3\n",
      "12\n",
      "2\n",
      "3\n",
      "1 2 3 \n",
      "12 2 3 \n"
     ]
    }
   ],
   "source": [
    "# A basic code for matrix input from user\n",
    "  \n",
    "R = int(input(\"Enter the number of rows:\"))\n",
    "C = int(input(\"Enter the number of columns:\"))\n",
    "  \n",
    "# Initialize matrix\n",
    "matrix = []\n",
    "print(\"Enter the entries rowwise:\")\n",
    "  \n",
    "# For user input\n",
    "for i in range(R):          # A for loop for row entries\n",
    "    a =[]\n",
    "    for j in range(C):      # A for loop for column entries\n",
    "         a.append(int(input()))\n",
    "    matrix.append(a)\n",
    "  \n",
    "# For printing the matrix\n",
    "for i in range(R):\n",
    "    for j in range(C):\n",
    "        print(matrix[i][j], end = \" \")\n",
    "    print()"
   ]
  },
  {
   "cell_type": "code",
   "execution_count": 61,
   "id": "62f9cb1f",
   "metadata": {},
   "outputs": [
    {
     "name": "stdout",
     "output_type": "stream",
     "text": [
      "Enter the number of rows:2\n",
      "Enter the number of columns:3\n",
      "Enter the entries in a single line (separated by space): \n",
      "1 2 3 4 5 6\n",
      "1 2 3 4 5 6\n",
      "[[1 2 3]\n",
      " [4 5 6]]\n",
      "[[1 2 3]\n",
      " [4 5 6]]\n"
     ]
    },
    {
     "data": {
      "text/plain": [
       "[2, 4, 6, 8, 10, 12]"
      ]
     },
     "execution_count": 61,
     "metadata": {},
     "output_type": "execute_result"
    }
   ],
   "source": [
    "import numpy as np\n",
    "  \n",
    "R = int(input(\"Enter the number of rows:\"))\n",
    "C = int(input(\"Enter the number of columns:\"))\n",
    "  \n",
    "print(\"Enter the entries in a single line (separated by space): \")\n",
    "  \n",
    "# User input of entries in a \n",
    "# single line separated by space\n",
    "\n",
    "A = list(map(int, input().split()))\n",
    "\n",
    "matrix1 = np.array(A).reshape(R, C)\n",
    "\n",
    "# ---------------------------------\n",
    "\n",
    "B = list(map(int, input().split()))\n",
    "\n",
    "matrix2 = np.array(B).reshape(R, C)\n",
    "\n",
    "# For printing the matrix\n",
    "\n",
    "print(matrix1)\n",
    "\n",
    "print(matrix2)\n",
    "\n",
    "def add_two_matr(matrix1,matrix2):\n",
    "    \n",
    "    c = [(a_i + b_i) for a_i, b_i in zip(matrix1,matrix2)]\n",
    "    \n",
    "    return c\n",
    "\n",
    "add_two_matr(A,B)"
   ]
  },
  {
   "cell_type": "code",
   "execution_count": 65,
   "id": "49f50182",
   "metadata": {},
   "outputs": [
    {
     "name": "stdout",
     "output_type": "stream",
     "text": [
      "Enter the number of rows:2 \n",
      "Enter the number of columns:3\n",
      "Enter the entries in a single line (separated by space): \n",
      "1 2 3 4 5 6\n",
      "4 5 8 6 8 1\n",
      "[[1 2 3]\n",
      " [4 5 6]]\n",
      "[[4 5 8]\n",
      " [6 8 1]]\n"
     ]
    },
    {
     "data": {
      "text/plain": [
       "[4, 10, 24, 24, 40, 6]"
      ]
     },
     "execution_count": 65,
     "metadata": {},
     "output_type": "execute_result"
    }
   ],
   "source": [
    "import numpy as np\n",
    "  \n",
    "R = int(input(\"Enter the number of rows:\"))\n",
    "C = int(input(\"Enter the number of columns:\"))\n",
    "  \n",
    "print(\"Enter the entries in a single line (separated by space): \")\n",
    "  \n",
    "# User input of entries in a \n",
    "# single line separated by space\n",
    "\n",
    "A = list(map(int, input().split()))\n",
    "\n",
    "matrix1 = np.array(A).reshape(R, C)\n",
    "\n",
    "# ---------------------------------\n",
    "\n",
    "B = list(map(int, input().split()))\n",
    "\n",
    "matrix2 = np.array(B).reshape(R, C)\n",
    "\n",
    "# For printing the matrix\n",
    "\n",
    "print(matrix1)\n",
    "\n",
    "print(matrix2)\n",
    "\n",
    "def add_two_matr(matrix1,matrix2):\n",
    "    \n",
    "    c = [(a_i * b_i) for a_i, b_i in zip(matrix1,matrix2)]\n",
    "    \n",
    "    return c\n",
    "\n",
    "add_two_matr(A,B)"
   ]
  }
 ],
 "metadata": {
  "kernelspec": {
   "display_name": "Python 3 (ipykernel)",
   "language": "python",
   "name": "python3"
  },
  "language_info": {
   "codemirror_mode": {
    "name": "ipython",
    "version": 3
   },
   "file_extension": ".py",
   "mimetype": "text/x-python",
   "name": "python",
   "nbconvert_exporter": "python",
   "pygments_lexer": "ipython3",
   "version": "3.9.12"
  }
 },
 "nbformat": 4,
 "nbformat_minor": 5
}
