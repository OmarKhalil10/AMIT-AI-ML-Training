{
 "cells": [
  {
   "cell_type": "code",
   "execution_count": 14,
   "id": "5a086804",
   "metadata": {},
   "outputs": [
    {
     "name": "stdout",
     "output_type": "stream",
     "text": [
      "FunEvent(tags=['google', 'ml', 'bootcamp'], year=2022)\n"
     ]
    }
   ],
   "source": [
    "class FunEvent:\n",
    "    def __init__(self, tags, year):\n",
    "        self.tags = tags\n",
    "        self.year = year\n",
    "    \n",
    "    def __str__(self):\n",
    "        return f\"FunEvent(tags={self.tags}, year={self.year})\"\n",
    "\n",
    "tags = [\"google\", \"ml\"]\n",
    "year = 2022\n",
    "bootcamp = FunEvent(tags, year)\n",
    "tags.append(\"bootcamp\")\n",
    "year = 2023\n",
    "print(bootcamp)"
   ]
  },
  {
   "cell_type": "code",
   "execution_count": null,
   "id": "704ceb1a",
   "metadata": {},
   "outputs": [],
   "source": []
  }
 ],
 "metadata": {
  "kernelspec": {
   "display_name": "Python 3 (ipykernel)",
   "language": "python",
   "name": "python3"
  },
  "language_info": {
   "codemirror_mode": {
    "name": "ipython",
    "version": 3
   },
   "file_extension": ".py",
   "mimetype": "text/x-python",
   "name": "python",
   "nbconvert_exporter": "python",
   "pygments_lexer": "ipython3",
   "version": "3.9.12"
  }
 },
 "nbformat": 4,
 "nbformat_minor": 5
}
