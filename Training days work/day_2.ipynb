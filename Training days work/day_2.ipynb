{
 "cells": [
  {
   "cell_type": "code",
   "execution_count": 6,
   "id": "f9d0dc1a",
   "metadata": {},
   "outputs": [
    {
     "name": "stdout",
     "output_type": "stream",
     "text": [
      "my name is Omar and i'm 22 years old\n"
     ]
    }
   ],
   "source": [
    "print(\"my name is {} and i'm {} years old\".format(\"Omar\",22))"
   ]
  },
  {
   "cell_type": "code",
   "execution_count": 7,
   "id": "dd6f625a",
   "metadata": {},
   "outputs": [],
   "source": [
    "name = \"xiaffer\""
   ]
  },
  {
   "cell_type": "code",
   "execution_count": 9,
   "id": "b071f06f",
   "metadata": {},
   "outputs": [
    {
     "data": {
      "text/plain": [
       "0"
      ]
     },
     "execution_count": 9,
     "metadata": {},
     "output_type": "execute_result"
    }
   ],
   "source": [
    "name.find(\"x\")"
   ]
  },
  {
   "cell_type": "code",
   "execution_count": 10,
   "id": "864af5e8",
   "metadata": {},
   "outputs": [
    {
     "data": {
      "text/plain": [
       "True"
      ]
     },
     "execution_count": 10,
     "metadata": {},
     "output_type": "execute_result"
    }
   ],
   "source": [
    "\"x\" in name"
   ]
  },
  {
   "cell_type": "code",
   "execution_count": 11,
   "id": "59d0935d",
   "metadata": {},
   "outputs": [
    {
     "data": {
      "text/plain": [
       "\"I'm Omar\""
      ]
     },
     "execution_count": 11,
     "metadata": {},
     "output_type": "execute_result"
    }
   ],
   "source": [
    "'I\\'m Omar'"
   ]
  },
  {
   "cell_type": "code",
   "execution_count": 12,
   "id": "19f2ca74",
   "metadata": {},
   "outputs": [
    {
     "data": {
      "text/plain": [
       "\"I'm Omar\""
      ]
     },
     "execution_count": 12,
     "metadata": {},
     "output_type": "execute_result"
    }
   ],
   "source": [
    "\"I'm Omar\""
   ]
  },
  {
   "cell_type": "code",
   "execution_count": 43,
   "id": "f897ebbd",
   "metadata": {},
   "outputs": [
    {
     "name": "stdout",
     "output_type": "stream",
     "text": [
      "Enter your name: Omar Khalil\n"
     ]
    }
   ],
   "source": [
    "name = input(\"Enter your name: \").split()"
   ]
  },
  {
   "cell_type": "code",
   "execution_count": 45,
   "id": "6465ef95",
   "metadata": {},
   "outputs": [
    {
     "name": "stdout",
     "output_type": "stream",
     "text": [
      "Hello my first name is Omar\n"
     ]
    }
   ],
   "source": [
    "print(\"Hello my first name is {}\".format(name[0]))"
   ]
  },
  {
   "cell_type": "code",
   "execution_count": 67,
   "id": "0eec1192",
   "metadata": {},
   "outputs": [
    {
     "name": "stdout",
     "output_type": "stream",
     "text": [
      "Enter any string: Omar Khalil\n"
     ]
    }
   ],
   "source": [
    "string = input(\"Enter any string: \")"
   ]
  },
  {
   "cell_type": "code",
   "execution_count": 39,
   "id": "3864bab2",
   "metadata": {},
   "outputs": [
    {
     "name": "stdout",
     "output_type": "stream",
     "text": [
      "funny duck\n"
     ]
    }
   ],
   "source": [
    "print(string)"
   ]
  },
  {
   "cell_type": "code",
   "execution_count": 40,
   "id": "78880409",
   "metadata": {},
   "outputs": [
    {
     "data": {
      "text/plain": [
       "10"
      ]
     },
     "execution_count": 40,
     "metadata": {},
     "output_type": "execute_result"
    }
   ],
   "source": [
    "len(string)"
   ]
  },
  {
   "cell_type": "code",
   "execution_count": 69,
   "id": "9671fb3d",
   "metadata": {},
   "outputs": [
    {
     "name": "stdout",
     "output_type": "stream",
     "text": [
      "Omil\n"
     ]
    }
   ],
   "source": [
    "print(string[0:2] + string[9:])"
   ]
  },
  {
   "cell_type": "code",
   "execution_count": 37,
   "id": "62c027ff",
   "metadata": {},
   "outputs": [
    {
     "name": "stdout",
     "output_type": "stream",
     "text": [
      "Enter Any String to append 'ing' to it's end: play\n",
      "playing\n"
     ]
    }
   ],
   "source": [
    "add_ing = input(\"Enter Any String to append 'ing' to it\\'s end: \")\n",
    "print(add_ing + \"ing\")"
   ]
  },
  {
   "cell_type": "code",
   "execution_count": 47,
   "id": "ffe08f37",
   "metadata": {},
   "outputs": [
    {
     "name": "stdout",
     "output_type": "stream",
     "text": [
      "Omar Khalil\n"
     ]
    }
   ],
   "source": [
    "f_name = \"Omar\"\n",
    "l_name = \"Khalil\"\n",
    "print(f_name,l_name)"
   ]
  },
  {
   "cell_type": "code",
   "execution_count": 49,
   "id": "54985604",
   "metadata": {},
   "outputs": [
    {
     "name": "stdout",
     "output_type": "stream",
     "text": [
      "Enter Any String to append 'ing' to it's end: replace\n",
      "repling\n"
     ]
    }
   ],
   "source": [
    "add_ing = input(\"Enter Any String to append 'ing' to it\\'s end: \")\n",
    "print(add_ing[0:len(add_ing)-3] + \"ing\")"
   ]
  },
  {
   "cell_type": "code",
   "execution_count": 66,
   "id": "1b7b08fd",
   "metadata": {},
   "outputs": [
    {
     "name": "stdout",
     "output_type": "stream",
     "text": [
      "Enter Any String: python\n",
      "nythop\n"
     ]
    }
   ],
   "source": [
    "replace = input(\"Enter Any String: \")\n",
    "print(replace[-1] + replace[1:-1] + replace[0])"
   ]
  },
  {
   "cell_type": "code",
   "execution_count": 80,
   "id": "a2d81abc",
   "metadata": {},
   "outputs": [
    {
     "data": {
      "text/plain": [
       "0"
      ]
     },
     "execution_count": 80,
     "metadata": {},
     "output_type": "execute_result"
    }
   ],
   "source": [
    "number_1 = 1\n",
    "number_2 = 350\n",
    "number_1 & number_2"
   ]
  },
  {
   "cell_type": "code",
   "execution_count": 82,
   "id": "107d3b6c",
   "metadata": {},
   "outputs": [
    {
     "name": "stdout",
     "output_type": "stream",
     "text": [
      "5.25\n"
     ]
    }
   ],
   "source": [
    "x = 20\n",
    "y = 5\n",
    "result = (x + True) / (4 - y * False)\n",
    "print(result)"
   ]
  },
  {
   "cell_type": "code",
   "execution_count": 91,
   "id": "021e59a4",
   "metadata": {},
   "outputs": [
    {
     "name": "stdout",
     "output_type": "stream",
     "text": [
      "1.9920979817708333e+20\n"
     ]
    }
   ],
   "source": [
    "import math\n",
    "\n",
    "G = 6.67 * 10**-11\n",
    "M = 6.0 * 10**24\n",
    "m =  7.34 * 10**22\n",
    "r = 3.84 * 10**8\n",
    "\n",
    "result = (G*M*m)/r**2\n",
    "print(result)"
   ]
  },
  {
   "cell_type": "code",
   "execution_count": 2,
   "id": "ea3bce5d",
   "metadata": {},
   "outputs": [
    {
     "name": "stdout",
     "output_type": "stream",
     "text": [
      "[1, 2, 3]\n",
      "[1, 2, 3]\n"
     ]
    }
   ],
   "source": [
    "my_list1 = [1,2,3]\n",
    "my_list2 = list((1,2,3))\n",
    "\n",
    "print(my_list1)\n",
    "print(my_list2)"
   ]
  },
  {
   "cell_type": "code",
   "execution_count": 4,
   "id": "2778868d",
   "metadata": {},
   "outputs": [
    {
     "name": "stdout",
     "output_type": "stream",
     "text": [
      "<class 'list'>\n",
      "<class 'list'>\n"
     ]
    }
   ],
   "source": [
    "print(type(my_list1))\n",
    "print(type(my_list2))"
   ]
  },
  {
   "cell_type": "code",
   "execution_count": 5,
   "id": "9e2f46be",
   "metadata": {},
   "outputs": [
    {
     "data": {
      "text/plain": [
       "[1, 2, 3, 1, 2, 3]"
      ]
     },
     "execution_count": 5,
     "metadata": {},
     "output_type": "execute_result"
    }
   ],
   "source": [
    "my_list1 * 2"
   ]
  },
  {
   "cell_type": "code",
   "execution_count": 9,
   "id": "4cd39eaf",
   "metadata": {},
   "outputs": [],
   "source": [
    "list = [\"omar\", 1 , \"khalil\", True]"
   ]
  },
  {
   "cell_type": "code",
   "execution_count": 10,
   "id": "6f60e837",
   "metadata": {},
   "outputs": [
    {
     "data": {
      "text/plain": [
       "4"
      ]
     },
     "execution_count": 10,
     "metadata": {},
     "output_type": "execute_result"
    }
   ],
   "source": [
    "len(list)"
   ]
  },
  {
   "cell_type": "code",
   "execution_count": 12,
   "id": "72040531",
   "metadata": {},
   "outputs": [
    {
     "data": {
      "text/plain": [
       "['omar', 1, 'khalil', True, 'omar', 1]"
      ]
     },
     "execution_count": 12,
     "metadata": {},
     "output_type": "execute_result"
    }
   ],
   "source": [
    "list + [\"omar\"] + [1]"
   ]
  },
  {
   "cell_type": "code",
   "execution_count": 13,
   "id": "e26ac905",
   "metadata": {},
   "outputs": [],
   "source": [
    "list.append(1)"
   ]
  },
  {
   "cell_type": "code",
   "execution_count": 14,
   "id": "f12d93c8",
   "metadata": {},
   "outputs": [
    {
     "name": "stdout",
     "output_type": "stream",
     "text": [
      "['omar', 1, 'khalil', True, 1]\n"
     ]
    }
   ],
   "source": [
    "print(list)"
   ]
  },
  {
   "cell_type": "code",
   "execution_count": 16,
   "id": "0b00decc",
   "metadata": {},
   "outputs": [
    {
     "name": "stdout",
     "output_type": "stream",
     "text": [
      "['omar', 'khalil', 1]\n"
     ]
    }
   ],
   "source": [
    "list.remove(1)\n",
    "print(list)"
   ]
  },
  {
   "cell_type": "code",
   "execution_count": 29,
   "id": "04e7cacb",
   "metadata": {},
   "outputs": [
    {
     "name": "stdout",
     "output_type": "stream",
     "text": [
      "[]\n"
     ]
    }
   ],
   "source": [
    "list.clear()\n",
    "print(list)"
   ]
  },
  {
   "cell_type": "code",
   "execution_count": 32,
   "id": "1d995871",
   "metadata": {},
   "outputs": [
    {
     "name": "stdout",
     "output_type": "stream",
     "text": [
      "[2, 1, 1]\n"
     ]
    }
   ],
   "source": [
    "list.insert(0,2)\n",
    "print(list)"
   ]
  },
  {
   "cell_type": "code",
   "execution_count": 33,
   "id": "3af3fb0b",
   "metadata": {},
   "outputs": [
    {
     "data": {
      "text/plain": [
       "1"
      ]
     },
     "execution_count": 33,
     "metadata": {},
     "output_type": "execute_result"
    }
   ],
   "source": [
    "list.pop()"
   ]
  },
  {
   "cell_type": "code",
   "execution_count": 34,
   "id": "c87b1f4f",
   "metadata": {},
   "outputs": [
    {
     "data": {
      "text/plain": [
       "6"
      ]
     },
     "execution_count": 34,
     "metadata": {},
     "output_type": "execute_result"
    }
   ],
   "source": [
    "sum_list = [1,2,3]\n",
    "sum(sum_list)"
   ]
  },
  {
   "cell_type": "code",
   "execution_count": 36,
   "id": "11949139",
   "metadata": {},
   "outputs": [
    {
     "data": {
      "text/plain": [
       "3"
      ]
     },
     "execution_count": 36,
     "metadata": {},
     "output_type": "execute_result"
    }
   ],
   "source": [
    "max(sum_list)"
   ]
  },
  {
   "cell_type": "code",
   "execution_count": 37,
   "id": "cde3e449",
   "metadata": {},
   "outputs": [
    {
     "data": {
      "text/plain": [
       "1"
      ]
     },
     "execution_count": 37,
     "metadata": {},
     "output_type": "execute_result"
    }
   ],
   "source": [
    "min(sum_list)"
   ]
  },
  {
   "cell_type": "code",
   "execution_count": 62,
   "id": "6e78be52",
   "metadata": {},
   "outputs": [
    {
     "name": "stdout",
     "output_type": "stream",
     "text": [
      "6\n"
     ]
    }
   ],
   "source": [
    "def multiplyList(myList) :\n",
    "    \n",
    "    result = 1\n",
    "    for x in sum_list:\n",
    "             result = result * x\n",
    "    return result\n",
    "\n",
    "list = [1,2,3]\n",
    "print(multiplyList(list))"
   ]
  },
  {
   "cell_type": "code",
   "execution_count": 64,
   "id": "7711d18b",
   "metadata": {},
   "outputs": [
    {
     "name": "stdout",
     "output_type": "stream",
     "text": [
      "[2, 3]\n"
     ]
    }
   ],
   "source": [
    "new_list = [1,2,3,4]\n",
    "out = new_list[1:-1]\n",
    "print(out)"
   ]
  },
  {
   "cell_type": "code",
   "execution_count": 87,
   "id": "fd5646da",
   "metadata": {},
   "outputs": [
    {
     "name": "stdout",
     "output_type": "stream",
     "text": [
      "[2, 1, 3]\n"
     ]
    }
   ],
   "source": [
    "list1 = [3,2,3]\n",
    "list2 = [1,1,0]\n",
    "out = []\n",
    "\n",
    "# using zip() function creates an iterator that will aggregate elements from two or more iterables.\n",
    "\n",
    "obj = zip(list1,list2)\n",
    "\n",
    "for x,y in obj:\n",
    "    out.append(x - y)\n",
    "    \n",
    "print(out)"
   ]
  },
  {
   "cell_type": "code",
   "execution_count": 101,
   "id": "6429fa2a",
   "metadata": {},
   "outputs": [
    {
     "name": "stdout",
     "output_type": "stream",
     "text": [
      "[2, 2, 3, 1, 1, 2, 2, 2, 3]\n"
     ]
    }
   ],
   "source": [
    "list1 = [3,2,3]\n",
    "list2 = [1,1,0]\n",
    "out = []\n",
    "\n",
    "# using zip() function creates an iterator that will aggregate elements from two or more iterables.\n",
    "\n",
    "for x in list1:\n",
    "    for y in list2:\n",
    "        out.append(x - y)\n",
    "print(out)"
   ]
  },
  {
   "cell_type": "code",
   "execution_count": 80,
   "id": "b004dceb",
   "metadata": {},
   "outputs": [
    {
     "data": {
      "text/plain": [
       "{1, 2, 3}"
      ]
     },
     "execution_count": 80,
     "metadata": {},
     "output_type": "execute_result"
    }
   ],
   "source": [
    "# convert it to set (it will sort it ascending)\n",
    "set(out)"
   ]
  },
  {
   "cell_type": "code",
   "execution_count": 82,
   "id": "7642cb67",
   "metadata": {},
   "outputs": [],
   "source": [
    "# difference between set & list -- tuple & string\n",
    "\n",
    "# tuple & string are: immutaple & ordered\n",
    "\n",
    "# list & set are: mutable & ordered"
   ]
  },
  {
   "cell_type": "code",
   "execution_count": 83,
   "id": "93f5c937",
   "metadata": {},
   "outputs": [],
   "source": [
    "# If Condition"
   ]
  },
  {
   "cell_type": "code",
   "execution_count": 86,
   "id": "db4de103",
   "metadata": {},
   "outputs": [
    {
     "name": "stdout",
     "output_type": "stream",
     "text": [
      "200\n"
     ]
    }
   ],
   "source": [
    "a = 100\n",
    "b = 200\n",
    "\n",
    "if a > b:\n",
    "    print(a)\n",
    "elif b > a:\n",
    "    print(b)\n",
    "else:\n",
    "    print(\"they are equal\")"
   ]
  },
  {
   "cell_type": "code",
   "execution_count": 146,
   "id": "1bbb2101",
   "metadata": {},
   "outputs": [
    {
     "name": "stdout",
     "output_type": "stream",
     "text": [
      "the word that starts with 's' letter in the list is: \n",
      "\n",
      "sergi\n",
      "sahar\n",
      "samy\n"
     ]
    }
   ],
   "source": [
    "string = \"karim,sergi,omar,sahar,samy\"\n",
    "\n",
    "lst = string.split(',')\n",
    "print(\"the word that starts with 's' letter in the list is: \\n\")\n",
    "for k in lst:\n",
    "    if k.startswith('s'):\n",
    "        print(k)\n"
   ]
  },
  {
   "cell_type": "code",
   "execution_count": 160,
   "id": "4b895f08",
   "metadata": {},
   "outputs": [
    {
     "name": "stdout",
     "output_type": "stream",
     "text": [
      "What is your exam score? 100\n",
      "You got a A! Well done!\n"
     ]
    }
   ],
   "source": [
    "x = int(input(\"What is your exam score? \"))\n",
    "\n",
    "if x > 90:\n",
    "    print('You got a A! Well done!')\n",
    "elif x > 80 and x <= 90:\n",
    "    print('You got an B! Congrats!')\n",
    "elif x >= 60 and x<= 80:\n",
    "    print('You got a C! very good!')\n",
    "elif x < 60 and x >= 50:\n",
    "    print('You got a D! ,you can do better!')\n",
    "elif x < 0:\n",
    "    print('Please enter a valid number!')\n",
    "else:\n",
    "    print(\"You did not pass the exam. See the teacher for more information.\")"
   ]
  },
  {
   "cell_type": "code",
   "execution_count": 176,
   "id": "d546b045",
   "metadata": {},
   "outputs": [
    {
     "name": "stdout",
     "output_type": "stream",
     "text": [
      "52\n",
      "E\n",
      "126\n",
      "A\n",
      "134\n",
      "B\n",
      "188\n",
      "C\n",
      "189\n",
      "D\n"
     ]
    }
   ],
   "source": [
    "dictionary = {52:\"E\",126:\"A\",134:\"B\",188:\"C\",189:\"D\"}\n",
    "for key, value in dictionary.items():\n",
    "    print(key)\n",
    "    print(value)"
   ]
  },
  {
   "cell_type": "code",
   "execution_count": 180,
   "id": "6e3ef944",
   "metadata": {},
   "outputs": [
    {
     "name": "stdout",
     "output_type": "stream",
     "text": [
      "delhi\n",
      "red_font\n",
      "agra\n",
      "taj_mahal\n"
     ]
    }
   ],
   "source": [
    "dictionary = {\"delhi\":\"red_font\",\"agra\":\"taj_mahal\"}\n",
    "for key, value in dictionary.items():\n",
    "    print(key)\n",
    "    print(value)"
   ]
  },
  {
   "cell_type": "code",
   "execution_count": 189,
   "id": "6eff19f5",
   "metadata": {},
   "outputs": [
    {
     "name": "stdout",
     "output_type": "stream",
     "text": [
      "Enter the city: delhi agra\n"
     ]
    }
   ],
   "source": [
    "dictionary = {\"delhi\":\"red_font\",\"agra\":\"taj_mahal\"}\n",
    "city = input(\"Enter the city: \").split()"
   ]
  },
  {
   "cell_type": "code",
   "execution_count": 190,
   "id": "5b0b3948",
   "metadata": {},
   "outputs": [
    {
     "name": "stdout",
     "output_type": "stream",
     "text": [
      "['delhi', 'agra']\n"
     ]
    }
   ],
   "source": [
    "print(city)"
   ]
  },
  {
   "cell_type": "code",
   "execution_count": 195,
   "id": "081c3210",
   "metadata": {},
   "outputs": [
    {
     "name": "stdout",
     "output_type": "stream",
     "text": [
      "Enter the city: delhi\n",
      "red_font\n"
     ]
    }
   ],
   "source": [
    "x = {\"delhi\":\"red_font\",\"agra\":\"taj_mahal\"}\n",
    "y = input(\"Enter the city: \")\n",
    "if y in x:\n",
    "    print(x[y])\n",
    "else:\n",
    "    print(\"404\")"
   ]
  }
 ],
 "metadata": {
  "kernelspec": {
   "display_name": "Python 3 (ipykernel)",
   "language": "python",
   "name": "python3"
  },
  "language_info": {
   "codemirror_mode": {
    "name": "ipython",
    "version": 3
   },
   "file_extension": ".py",
   "mimetype": "text/x-python",
   "name": "python",
   "nbconvert_exporter": "python",
   "pygments_lexer": "ipython3",
   "version": "3.9.12"
  }
 },
 "nbformat": 4,
 "nbformat_minor": 5
}
