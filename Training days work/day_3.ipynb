{
 "cells": [
  {
   "cell_type": "code",
   "execution_count": 9,
   "id": "8284b998",
   "metadata": {},
   "outputs": [
    {
     "name": "stdout",
     "output_type": "stream",
     "text": [
      "x\n",
      "x\n",
      "x\n",
      "x\n"
     ]
    }
   ],
   "source": [
    "name = \"Omar\"\n",
    "for i in name:\n",
    "    print(\"x\")"
   ]
  },
  {
   "cell_type": "code",
   "execution_count": 6,
   "id": "803503a6",
   "metadata": {},
   "outputs": [
    {
     "data": {
      "text/plain": [
       "4"
      ]
     },
     "execution_count": 6,
     "metadata": {},
     "output_type": "execute_result"
    }
   ],
   "source": [
    "len(name)"
   ]
  },
  {
   "cell_type": "code",
   "execution_count": 10,
   "id": "77a62a69",
   "metadata": {},
   "outputs": [
    {
     "data": {
      "text/plain": [
       "range(0, 4)"
      ]
     },
     "execution_count": 10,
     "metadata": {},
     "output_type": "execute_result"
    }
   ],
   "source": [
    "range(len(name))"
   ]
  },
  {
   "cell_type": "code",
   "execution_count": 12,
   "id": "a19059f7",
   "metadata": {},
   "outputs": [
    {
     "name": "stdout",
     "output_type": "stream",
     "text": [
      "0\n",
      "1\n",
      "2\n",
      "3\n",
      "4\n"
     ]
    }
   ],
   "source": [
    "x = 0\n",
    "while x < 5:\n",
    "    print(x)\n",
    "    x += 1"
   ]
  },
  {
   "cell_type": "code",
   "execution_count": 13,
   "id": "e423586f",
   "metadata": {},
   "outputs": [
    {
     "name": "stdout",
     "output_type": "stream",
     "text": [
      "1\n",
      "2\n",
      "3\n",
      "4\n",
      "5\n"
     ]
    }
   ],
   "source": [
    "list = [1,2,3,4,5]\n",
    "for i in range(len(list)):\n",
    "    print(list[i])"
   ]
  },
  {
   "cell_type": "code",
   "execution_count": 15,
   "id": "f7dce792",
   "metadata": {},
   "outputs": [
    {
     "data": {
      "text/plain": [
       "5"
      ]
     },
     "execution_count": 15,
     "metadata": {},
     "output_type": "execute_result"
    }
   ],
   "source": [
    "len(list)"
   ]
  },
  {
   "cell_type": "code",
   "execution_count": 17,
   "id": "26cf1efd",
   "metadata": {},
   "outputs": [
    {
     "name": "stdout",
     "output_type": "stream",
     "text": [
      "1\n",
      "2\n",
      "3\n",
      "4\n",
      "5\n"
     ]
    }
   ],
   "source": [
    "list = [1,2,3,4,5]\n",
    "x = 0\n",
    "while x < len(list):\n",
    "    print(list[x])\n",
    "    x += 1 "
   ]
  },
  {
   "cell_type": "code",
   "execution_count": 20,
   "id": "313d5307",
   "metadata": {},
   "outputs": [
    {
     "name": "stdout",
     "output_type": "stream",
     "text": [
      "0\n",
      "1\n",
      "2\n",
      "2\n",
      "2\n",
      "3\n",
      "3\n",
      "3\n",
      "4\n"
     ]
    }
   ],
   "source": [
    "x = 0\n",
    "while x < 5:\n",
    "    print(x)\n",
    "    x += 1\n",
    "    if x == 1:\n",
    "        continue\n",
    "    print(x)\n",
    "    if x == 4:\n",
    "        break\n",
    "    print(x)"
   ]
  },
  {
   "cell_type": "code",
   "execution_count": 21,
   "id": "c1341f2a",
   "metadata": {},
   "outputs": [],
   "source": [
    "if x < 5:\n",
    "    pass"
   ]
  },
  {
   "cell_type": "code",
   "execution_count": 23,
   "id": "dfcfb143",
   "metadata": {},
   "outputs": [],
   "source": [
    "# First of the Lab"
   ]
  },
  {
   "cell_type": "code",
   "execution_count": 25,
   "id": "e5abbb79",
   "metadata": {},
   "outputs": [
    {
     "name": "stdout",
     "output_type": "stream",
     "text": [
      "0\n",
      "1\n",
      "2\n",
      "3\n",
      "4\n",
      "5\n",
      "6\n",
      "7\n",
      "8\n",
      "9\n",
      "10\n"
     ]
    }
   ],
   "source": [
    "# print values from 0 to 10\n",
    "\n",
    "for i in range(0,11):\n",
    "    print(i)"
   ]
  },
  {
   "cell_type": "code",
   "execution_count": 26,
   "id": "6b9222a9",
   "metadata": {},
   "outputs": [
    {
     "name": "stdout",
     "output_type": "stream",
     "text": [
      "0\n",
      "2\n",
      "4\n",
      "6\n",
      "8\n",
      "10\n"
     ]
    }
   ],
   "source": [
    "# print values from 0 to 10 with step\n",
    "\n",
    "for i in range(0,11,2):\n",
    "    print(i)"
   ]
  },
  {
   "cell_type": "code",
   "execution_count": 30,
   "id": "08d94d11",
   "metadata": {},
   "outputs": [
    {
     "name": "stdout",
     "output_type": "stream",
     "text": [
      "0\n",
      "1\n",
      "2\n",
      "3\n",
      "4\n",
      "5\n",
      "6\n",
      "7\n",
      "8\n",
      "9\n",
      "10\n"
     ]
    }
   ],
   "source": [
    "# print values from 0 to 10 using while loop\n",
    "x = 0\n",
    "while x <= 10:\n",
    "    print(x)\n",
    "    x += 1"
   ]
  },
  {
   "cell_type": "code",
   "execution_count": 35,
   "id": "b4968fb8",
   "metadata": {},
   "outputs": [
    {
     "name": "stdout",
     "output_type": "stream",
     "text": [
      "0\n",
      "1\n",
      "2\n",
      "3\n",
      "4\n",
      "6\n",
      "7\n",
      "8\n",
      "9\n",
      "10\n"
     ]
    }
   ],
   "source": [
    "x = 0\n",
    "while x <= 10:\n",
    "    \n",
    "    if x == 5:\n",
    "        x += 1\n",
    "        continue\n",
    "        \n",
    "    print(x)\n",
    "    x += 1"
   ]
  },
  {
   "cell_type": "code",
   "execution_count": 41,
   "id": "2028d3a7",
   "metadata": {},
   "outputs": [
    {
     "name": "stdout",
     "output_type": "stream",
     "text": [
      "bye\n"
     ]
    }
   ],
   "source": [
    "x = 0\n",
    "while x <= 10:\n",
    "    x += 1\n",
    "    if x == 5:\n",
    "        continue\n",
    "    if x == 7:\n",
    "        break\n",
    "        print('hello')\n",
    "print('bye')"
   ]
  },
  {
   "cell_type": "code",
   "execution_count": 42,
   "id": "0b32c294",
   "metadata": {},
   "outputs": [
    {
     "name": "stdout",
     "output_type": "stream",
     "text": [
      "O\n",
      "m\n",
      "a\n",
      "r\n",
      " \n",
      "K\n",
      "h\n",
      "a\n",
      "l\n",
      "i\n",
      "l\n"
     ]
    }
   ],
   "source": [
    "name = \"Omar Khalil\"\n",
    "for i in name:\n",
    "    print(i)"
   ]
  },
  {
   "cell_type": "code",
   "execution_count": 51,
   "id": "bcb88af5",
   "metadata": {},
   "outputs": [
    {
     "name": "stdout",
     "output_type": "stream",
     "text": [
      "(1, 2)\n",
      "(3, 4)\n"
     ]
    }
   ],
   "source": [
    "list = [(1,2),(3,4)]\n",
    "for i in list:\n",
    "    print(i)"
   ]
  },
  {
   "cell_type": "code",
   "execution_count": 52,
   "id": "d9d3abee",
   "metadata": {},
   "outputs": [
    {
     "name": "stdout",
     "output_type": "stream",
     "text": [
      "1\n",
      "3\n",
      "5\n"
     ]
    }
   ],
   "source": [
    "list = [(1,2),(3,4),(5,6)]\n",
    "for i,x in list:\n",
    "    print(i)"
   ]
  },
  {
   "cell_type": "code",
   "execution_count": 55,
   "id": "d9533831",
   "metadata": {},
   "outputs": [
    {
     "name": "stdout",
     "output_type": "stream",
     "text": [
      "1\n",
      "5\n"
     ]
    }
   ],
   "source": [
    "list = [(1,2),(6,4),(5,6)]\n",
    "for i,x in list:\n",
    "    if i % 2 != 0:\n",
    "        print(i)"
   ]
  },
  {
   "cell_type": "code",
   "execution_count": 64,
   "id": "8bda076c",
   "metadata": {},
   "outputs": [
    {
     "name": "stdout",
     "output_type": "stream",
     "text": [
      "Enter any number: 5\n",
      "15\n"
     ]
    }
   ],
   "source": [
    "x = 0\n",
    "y = int(input(\"Enter any number: \"))\n",
    "while y > 0:\n",
    "    x += y\n",
    "    y -= 1  \n",
    "print(x)"
   ]
  },
  {
   "cell_type": "code",
   "execution_count": 69,
   "id": "1c994a00",
   "metadata": {},
   "outputs": [],
   "source": [
    "def summation(x,y):\n",
    "    add = x + y\n",
    "    return add"
   ]
  },
  {
   "cell_type": "code",
   "execution_count": 73,
   "id": "94168605",
   "metadata": {},
   "outputs": [
    {
     "name": "stdout",
     "output_type": "stream",
     "text": [
      "Enter the first number: 1\n",
      "Enter the second number: 2\n"
     ]
    },
    {
     "data": {
      "text/plain": [
       "3"
      ]
     },
     "execution_count": 73,
     "metadata": {},
     "output_type": "execute_result"
    }
   ],
   "source": [
    "x = int(input(\"Enter the first number: \"))\n",
    "y = int(input(\"Enter the second number: \"))\n",
    "summation(x,y)"
   ]
  },
  {
   "cell_type": "code",
   "execution_count": 74,
   "id": "81fbc0c2",
   "metadata": {},
   "outputs": [],
   "source": [
    "pi = 3.14\n",
    "def circle_area(r):\n",
    "    area = pi*(r**2)\n",
    "    return area"
   ]
  },
  {
   "cell_type": "code",
   "execution_count": 75,
   "id": "2816d5e9",
   "metadata": {},
   "outputs": [
    {
     "data": {
      "text/plain": [
       "12.56"
      ]
     },
     "execution_count": 75,
     "metadata": {},
     "output_type": "execute_result"
    }
   ],
   "source": [
    "circle_area(2)"
   ]
  },
  {
   "cell_type": "code",
   "execution_count": 76,
   "id": "3d6c81ba",
   "metadata": {},
   "outputs": [],
   "source": [
    "# Using recursion which means a defined function can call itself.\n",
    "\n",
    "def factorial(n):\n",
    "    if n == 1:\n",
    "        return 1\n",
    "    else:\n",
    "        return n * factorial(n-1)"
   ]
  },
  {
   "cell_type": "code",
   "execution_count": 77,
   "id": "f8ce64ae",
   "metadata": {},
   "outputs": [
    {
     "data": {
      "text/plain": [
       "6"
      ]
     },
     "execution_count": 77,
     "metadata": {},
     "output_type": "execute_result"
    }
   ],
   "source": [
    "factorial(3)"
   ]
  },
  {
   "cell_type": "code",
   "execution_count": 81,
   "id": "65989b85",
   "metadata": {},
   "outputs": [
    {
     "name": "stdout",
     "output_type": "stream",
     "text": [
      "Enter any number: 5\n",
      "120\n"
     ]
    }
   ],
   "source": [
    "# factorial number using \n",
    "\n",
    "x = 1\n",
    "y = int(input(\"Enter any number: \"))\n",
    "while y > 1:\n",
    "    x *= y\n",
    "    y -= 1  \n",
    "print(x)"
   ]
  },
  {
   "cell_type": "code",
   "execution_count": 83,
   "id": "3d1427f6",
   "metadata": {},
   "outputs": [],
   "source": [
    "# using global key word\n",
    "\n",
    "= 5\n",
    "def add(n):\n",
    "    global x\n",
    "    res = n + x\n",
    "    return res"
   ]
  },
  {
   "cell_type": "code",
   "execution_count": 84,
   "id": "386e01dd",
   "metadata": {},
   "outputs": [
    {
     "data": {
      "text/plain": [
       "15"
      ]
     },
     "execution_count": 84,
     "metadata": {},
     "output_type": "execute_result"
    }
   ],
   "source": [
    "add(10)"
   ]
  },
  {
   "cell_type": "code",
   "execution_count": 85,
   "id": "ffa6f571",
   "metadata": {},
   "outputs": [],
   "source": [
    "# try ... Except Clause\n",
    "\n",
    "# 1- try: is the main code you want to handle \n",
    "# 2- except \n",
    "# 3- else \n",
    "# 4- finally"
   ]
  },
  {
   "cell_type": "code",
   "execution_count": 87,
   "id": "45789f2d",
   "metadata": {},
   "outputs": [
    {
     "name": "stdout",
     "output_type": "stream",
     "text": [
      "5\n",
      "nothing happened\n"
     ]
    }
   ],
   "source": [
    "try:\n",
    "    x = 5\n",
    "    if x > 0:\n",
    "        print(x)\n",
    "\n",
    "except:\n",
    "    print(\"something wrong\")\n",
    "else:\n",
    "    print(\"nothing happened\")"
   ]
  },
  {
   "cell_type": "code",
   "execution_count": 89,
   "id": "a37c9706",
   "metadata": {},
   "outputs": [
    {
     "name": "stdout",
     "output_type": "stream",
     "text": [
      "Error occured\n"
     ]
    }
   ],
   "source": [
    "x = 5\n",
    "try:\n",
    "    print(t)\n",
    "except:\n",
    "    print(\"Error occured\")"
   ]
  },
  {
   "cell_type": "code",
   "execution_count": 91,
   "id": "2006ca67",
   "metadata": {},
   "outputs": [
    {
     "name": "stdout",
     "output_type": "stream",
     "text": [
      "6\n",
      "5\n",
      "4\n",
      "3\n",
      "2\n",
      "1\n"
     ]
    }
   ],
   "source": [
    "x = 6\n",
    "for i in range(6):\n",
    "    print(x)\n",
    "    x -= 1"
   ]
  },
  {
   "cell_type": "code",
   "execution_count": 92,
   "id": "ab7e4d5b",
   "metadata": {},
   "outputs": [],
   "source": [
    "# practice on (try ... except) & (try ... catch)"
   ]
  },
  {
   "cell_type": "code",
   "execution_count": 93,
   "id": "d49a8bde",
   "metadata": {},
   "outputs": [],
   "source": [
    "# file access (r: read, w: write, a: append)"
   ]
  },
  {
   "cell_type": "code",
   "execution_count": 109,
   "id": "d576eb44",
   "metadata": {},
   "outputs": [],
   "source": [
    "with open(r\"C:\\Users\\Omark\\Desktop\\file1.txt\", 'w') as f:\n",
    "    f.write(\"Omar\")"
   ]
  },
  {
   "cell_type": "code",
   "execution_count": 110,
   "id": "c06c9831",
   "metadata": {},
   "outputs": [],
   "source": [
    "with open(r\"C:\\Users\\Omark\\Desktop\\file1.txt\", 'a') as f:\n",
    "    f.write(\" khalil\")"
   ]
  },
  {
   "cell_type": "code",
   "execution_count": 111,
   "id": "708364ae",
   "metadata": {},
   "outputs": [
    {
     "name": "stdout",
     "output_type": "stream",
     "text": [
      "Omar khalil\n"
     ]
    }
   ],
   "source": [
    "f = open(r\"C:\\Users\\Omark\\Desktop\\file1.txt\", 'r')\n",
    "print(f.read())\n",
    "f.close()"
   ]
  },
  {
   "cell_type": "code",
   "execution_count": 116,
   "id": "d251fa49",
   "metadata": {},
   "outputs": [],
   "source": [
    "def get_max(a,b,c):\n",
    "    print(max(a,b,c))"
   ]
  },
  {
   "cell_type": "code",
   "execution_count": 117,
   "id": "f926d45a",
   "metadata": {},
   "outputs": [
    {
     "name": "stdout",
     "output_type": "stream",
     "text": [
      "3\n"
     ]
    }
   ],
   "source": [
    "get_max(1,2,3)"
   ]
  },
  {
   "cell_type": "code",
   "execution_count": 119,
   "id": "ec961c6f",
   "metadata": {},
   "outputs": [],
   "source": [
    "def locate(n):\n",
    "    x = int(input())\n",
    "    y = int(input())\n",
    "    if n > x and n < y:\n",
    "        print(n)\n",
    "    else:\n",
    "        print(\"out the range\")"
   ]
  },
  {
   "cell_type": "code",
   "execution_count": 121,
   "id": "93a6f76d",
   "metadata": {},
   "outputs": [
    {
     "name": "stdout",
     "output_type": "stream",
     "text": [
      "1\n",
      "2\n",
      "out the range\n"
     ]
    }
   ],
   "source": [
    "locate(5)"
   ]
  },
  {
   "cell_type": "code",
   "execution_count": 129,
   "id": "00544ebc",
   "metadata": {},
   "outputs": [
    {
     "name": "stdout",
     "output_type": "stream",
     "text": [
      "The original list is : [1, 5, 3, 6, 3, 5, 6, 1]\n",
      "The list after removing duplicates : [1, 5, 3, 6]\n"
     ]
    }
   ],
   "source": [
    "list = [1, 5, 3, 6, 3, 5, 6, 1]\n",
    "\n",
    "print (\"The original list is : \" +  str(list))\n",
    "\n",
    "res = [i for n, i in enumerate(list) if i not in list[:n]]\n",
    "  \n",
    "# printing list after removal \n",
    "\n",
    "print (\"The list after removing duplicates : \" + str(res))"
   ]
  },
  {
   "cell_type": "code",
   "execution_count": 167,
   "id": "79d4d3ee",
   "metadata": {},
   "outputs": [
    {
     "name": "stdout",
     "output_type": "stream",
     "text": [
      "{1, 3, 5, 6}\n"
     ]
    }
   ],
   "source": [
    "# Another solution\n",
    "list = [1, 5, 3, 6, 3, 5, 6, 1]\n",
    "new_list = set(list)\n",
    "print(new_list)"
   ]
  },
  {
   "cell_type": "code",
   "execution_count": 177,
   "id": "a9ddc3da",
   "metadata": {},
   "outputs": [
    {
     "name": "stdout",
     "output_type": "stream",
     "text": [
      "Enter any names: Omar Khalil\n",
      "Khalil\n"
     ]
    }
   ],
   "source": [
    "list = input(\"Enter any names: \").split()\n",
    "for i in range(0, len(list)):\n",
    "    if len(list[i]) >= 5:\n",
    "        print(list[i])"
   ]
  },
  {
   "cell_type": "code",
   "execution_count": 202,
   "id": "60d39ad2",
   "metadata": {},
   "outputs": [
    {
     "name": "stdout",
     "output_type": "stream",
     "text": [
      "Enter any names: omar khalil khalid\n",
      "['omar', 'khalil', 'khalid']\n",
      "['khalil', 'khalid']\n"
     ]
    }
   ],
   "source": [
    "list = input(\"Enter any names: \").split()\n",
    "print(list)\n",
    "new_list = []\n",
    "for i in range(0, len(list)):\n",
    "    if len(list[i]) >= 5:\n",
    "        new_list.append(list[i])\n",
    "print(new_list)"
   ]
  },
  {
   "cell_type": "code",
   "execution_count": 199,
   "id": "b8437797",
   "metadata": {},
   "outputs": [
    {
     "name": "stdout",
     "output_type": "stream",
     "text": [
      "[1, 2, 5, 4]\n",
      "[1, 5]\n"
     ]
    }
   ],
   "source": [
    "list = [1,2,5,4]\n",
    "print(list)\n",
    "new_list = []\n",
    "for i in range(0, len(list)):\n",
    "    if (list[i]) %2 == 1:\n",
    "        new_list.append(list[i])\n",
    "print(new_list)"
   ]
  },
  {
   "cell_type": "code",
   "execution_count": 206,
   "id": "9f84e8fb",
   "metadata": {},
   "outputs": [
    {
     "name": "stdout",
     "output_type": "stream",
     "text": [
      "[1, 1, 1]\n"
     ]
    }
   ],
   "source": [
    "list1 = [2, 2, 2]\n",
    "list2 = [1, 1, 1]\n",
    "difference = []\n",
    "\n",
    "obj = zip(list1, list2)\n",
    "for x, y in obj:\n",
    "    difference.append(x-y)\n",
    "\n",
    "print(difference)"
   ]
  },
  {
   "cell_type": "code",
   "execution_count": 218,
   "id": "79f57d42",
   "metadata": {},
   "outputs": [
    {
     "name": "stdout",
     "output_type": "stream",
     "text": [
      "[9 9 9]\n"
     ]
    }
   ],
   "source": [
    "import numpy as np\n",
    "\n",
    "list1 = [10, 11, 12]\n",
    "list2 = [1, 2, 3]\n",
    "out_list = []\n",
    "\n",
    "array1 = np.array(list1)\n",
    "array2 = np.array(list2)\n",
    "\n",
    "subtracted_array = np.subtract(array1, array2)\n",
    "\n",
    "out_list.append(subtracted_array)\n",
    "print(subtracted_array)\n"
   ]
  },
  {
   "cell_type": "code",
   "execution_count": 217,
   "id": "296c5432",
   "metadata": {},
   "outputs": [
    {
     "name": "stdout",
     "output_type": "stream",
     "text": [
      "[9, 9, 9]\n"
     ]
    }
   ],
   "source": [
    "list1 = [10, 11, 12]\n",
    "list2 = [1, 2, 3]\n",
    "subtracted = []\n",
    "for i in range(len(list1)):\n",
    "    item = list1[i] - list2[i]\n",
    "    subtracted.append(item)\n",
    "print(subtracted)"
   ]
  },
  {
   "cell_type": "code",
   "execution_count": 220,
   "id": "bfb022ab",
   "metadata": {},
   "outputs": [
    {
     "name": "stdout",
     "output_type": "stream",
     "text": [
      "[9, 9, 9]\n"
     ]
    }
   ],
   "source": [
    "list1 = [10, 11, 12]\n",
    "list2 = [1, 2, 3]\n",
    "\n",
    "subtracted = [element1 - element2 for (element1, element2) in zip(list1, list2)]\n",
    "\n",
    "print(subtracted)"
   ]
  }
 ],
 "metadata": {
  "kernelspec": {
   "display_name": "Python 3 (ipykernel)",
   "language": "python",
   "name": "python3"
  },
  "language_info": {
   "codemirror_mode": {
    "name": "ipython",
    "version": 3
   },
   "file_extension": ".py",
   "mimetype": "text/x-python",
   "name": "python",
   "nbconvert_exporter": "python",
   "pygments_lexer": "ipython3",
   "version": "3.9.12"
  }
 },
 "nbformat": 4,
 "nbformat_minor": 5
}
