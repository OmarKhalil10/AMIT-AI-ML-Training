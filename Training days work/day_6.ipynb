{
 "cells": [
  {
   "cell_type": "code",
   "execution_count": 12,
   "id": "eef28197",
   "metadata": {},
   "outputs": [],
   "source": [
    "import numpy as np"
   ]
  },
  {
   "cell_type": "code",
   "execution_count": 13,
   "id": "23a124a2",
   "metadata": {},
   "outputs": [
    {
     "name": "stdout",
     "output_type": "stream",
     "text": [
      "[1 2 3] (3,) int32\n"
     ]
    }
   ],
   "source": [
    "lst = [1,2,3]\n",
    "\n",
    "arr = np.array(lst)\n",
    "\n",
    "print(arr, arr.shape, arr.dtype)"
   ]
  },
  {
   "cell_type": "code",
   "execution_count": 14,
   "id": "4f31a226",
   "metadata": {},
   "outputs": [
    {
     "name": "stdout",
     "output_type": "stream",
     "text": [
      "[[6.23042070e-307 4.67296746e-307 1.69121096e-306]\n",
      " [7.56599128e-307 1.89146896e-307 7.56571288e-307]\n",
      " [3.11525958e-307 1.24610723e-306 0.00000000e+000]]\n"
     ]
    }
   ],
   "source": [
    "a = np.empty([3,3])\n",
    "\n",
    "print(a)"
   ]
  },
  {
   "cell_type": "code",
   "execution_count": 29,
   "id": "46339c74",
   "metadata": {},
   "outputs": [
    {
     "name": "stdout",
     "output_type": "stream",
     "text": [
      "[[0.]\n",
      " [0.]]\n"
     ]
    }
   ],
   "source": [
    "zeros_arr = np.zeros([2,1])\n",
    "print(zeros_arr)"
   ]
  },
  {
   "cell_type": "code",
   "execution_count": 18,
   "id": "152bb2a9",
   "metadata": {},
   "outputs": [
    {
     "name": "stdout",
     "output_type": "stream",
     "text": [
      "[[1.]\n",
      " [1.]]\n"
     ]
    }
   ],
   "source": [
    "ones_array = np.ones([2,1])\n",
    "print(ones_array)"
   ]
  },
  {
   "cell_type": "code",
   "execution_count": 23,
   "id": "473bae01",
   "metadata": {},
   "outputs": [],
   "source": [
    "# vstack: vertical stack\n",
    "# hstack: horizontal stack"
   ]
  },
  {
   "cell_type": "code",
   "execution_count": 35,
   "id": "84e2ae81",
   "metadata": {},
   "outputs": [
    {
     "name": "stdout",
     "output_type": "stream",
     "text": [
      "[[1.]\n",
      " [1.]\n",
      " [0.]\n",
      " [0.]] (4, 1) \n",
      "\n",
      "[[1. 0.]\n",
      " [1. 0.]] (2, 2)\n"
     ]
    }
   ],
   "source": [
    "ones_array = np.ones([2,1])\n",
    "\n",
    "zeros_arr = np.zeros([2,1])\n",
    "\n",
    "new_arr = np.vstack((ones_array, zeros_arr))\n",
    "\n",
    "other_new_arr = np.hstack((ones_array, zeros_arr))\n",
    "\n",
    "print(new_arr, new_arr.shape,\"\\n\")\n",
    "\n",
    "print(other_new_arr, other_new_arr.shape)\n"
   ]
  },
  {
   "cell_type": "code",
   "execution_count": 36,
   "id": "35c2b8eb",
   "metadata": {},
   "outputs": [],
   "source": [
    "# indexing & slicing:\n",
    "\n",
    "# indexing: one element\n",
    "\n",
    "# slicing: range of elements"
   ]
  },
  {
   "cell_type": "code",
   "execution_count": 44,
   "id": "3f7ded92",
   "metadata": {},
   "outputs": [
    {
     "name": "stdout",
     "output_type": "stream",
     "text": [
      "[1 2 3 4 5 6]\n",
      "[1]\n",
      "[5 6]\n"
     ]
    }
   ],
   "source": [
    "# slicing: range of elements\n",
    "\n",
    "data = np.array([1,2,3,4,5,6])\n",
    "\n",
    "print(data[:])\n",
    "print(data[0:1])\n",
    "print(data[-2:])"
   ]
  },
  {
   "cell_type": "code",
   "execution_count": 43,
   "id": "1828c9ca",
   "metadata": {},
   "outputs": [
    {
     "name": "stdout",
     "output_type": "stream",
     "text": [
      "[[1 2 3]\n",
      " [4 5 6]]\n",
      "5\n",
      "5\n"
     ]
    }
   ],
   "source": [
    "# indexing: one element\n",
    "\n",
    "a = np.array([1,2,3])\n",
    "b = np.array([4,5,6])\n",
    "c = np.vstack((a,b))\n",
    "\n",
    "print(c)\n",
    "print(c[1,1])\n",
    "print(c[1][1])"
   ]
  },
  {
   "cell_type": "code",
   "execution_count": 45,
   "id": "1d9f7ed1",
   "metadata": {},
   "outputs": [],
   "source": [
    "# data splitting"
   ]
  },
  {
   "cell_type": "code",
   "execution_count": 127,
   "id": "517ef9a4",
   "metadata": {},
   "outputs": [
    {
     "name": "stdout",
     "output_type": "stream",
     "text": [
      "[[2 3]\n",
      " [5 6]\n",
      " [8 9]] \n",
      "\n",
      "[[2 3]]\n"
     ]
    }
   ],
   "source": [
    "a = np.array([[1,2,3],\n",
    "            [4,5,6],\n",
    "            [7,8,9]])\n",
    "\n",
    "x, y = a[:,1:], a[:-2,1:]\n",
    "\n",
    "print(x,\"\\n\")\n",
    "print(y)"
   ]
  },
  {
   "cell_type": "code",
   "execution_count": 52,
   "id": "e4fcc3b7",
   "metadata": {},
   "outputs": [
    {
     "name": "stdout",
     "output_type": "stream",
     "text": [
      "[[1 2 3]\n",
      " [4 5 6]] \n",
      "\n",
      "[[7 8 9]]\n"
     ]
    }
   ],
   "source": [
    "a = np.array([[1,2,3],\n",
    "            [4,5,6],\n",
    "            [7,8,9]])\n",
    "\n",
    "split = 2\n",
    "\n",
    "train, test = a[:split,:], a[split:,:]\n",
    "\n",
    "print(train, \"\\n\")\n",
    "print(test)"
   ]
  },
  {
   "cell_type": "code",
   "execution_count": 149,
   "id": "b8345165",
   "metadata": {},
   "outputs": [],
   "source": [
    "def train_test_split(data, split_size):\n",
    "    \n",
    "    train_data = data[:split_size]\n",
    "    \n",
    "    test_data = data[split_size:]\n",
    "    \n",
    "    train_labels, train_features = train_data[:,0], train_data[:,1:]\n",
    "    \n",
    "    test_labels, test_features = test_data[:,0], test_data[:,1:]\n",
    "    \n",
    "    print(np.vstack(train_labels),\"\\n\\n\", train_features,\"\\n\")\n",
    "    print(np.vstack(test_labels),\"\\n\\n\", test_features)\n",
    "\n",
    "data = np.array([[\"a\",1,2,3],\n",
    "                 [\"b\",4,5,6],\n",
    "                 [\"c\",7,8,9],\n",
    "                 [\"d\",1,2,3],\n",
    "                 [\"e\",4,5,6],\n",
    "                 [\"f\",7,8,9],\n",
    "                 [\"g\",1,2,3],\n",
    "                 [\"h\",4,5,6],\n",
    "                 [\"i\",7,8,9]])"
   ]
  },
  {
   "cell_type": "code",
   "execution_count": 150,
   "id": "385cc10a",
   "metadata": {},
   "outputs": [
    {
     "name": "stdout",
     "output_type": "stream",
     "text": [
      "[['a']\n",
      " ['b']\n",
      " ['c']\n",
      " ['d']\n",
      " ['e']\n",
      " ['f']\n",
      " ['g']] \n",
      "\n",
      " [['1' '2' '3']\n",
      " ['4' '5' '6']\n",
      " ['7' '8' '9']\n",
      " ['1' '2' '3']\n",
      " ['4' '5' '6']\n",
      " ['7' '8' '9']\n",
      " ['1' '2' '3']] \n",
      "\n",
      "[['h']\n",
      " ['i']] \n",
      "\n",
      " [['4' '5' '6']\n",
      " ['7' '8' '9']]\n"
     ]
    }
   ],
   "source": [
    "train_test_split(data, len(data)-2)"
   ]
  },
  {
   "cell_type": "code",
   "execution_count": 146,
   "id": "cf245ba3",
   "metadata": {},
   "outputs": [],
   "source": [
    "# Array reshape: reshape()\n",
    "\n",
    "# transfer a matrix with shape (5,) to (1,5)"
   ]
  },
  {
   "cell_type": "code",
   "execution_count": 154,
   "id": "f2976145",
   "metadata": {},
   "outputs": [
    {
     "name": "stdout",
     "output_type": "stream",
     "text": [
      "data [11 22 33 44 55]\n",
      "shape (5,)\n",
      "one_row:  [[11 22 33 44 55]]\n",
      "shape:  (1, 5)\n",
      "one_row: \n",
      " [[11]\n",
      " [22]\n",
      " [33]\n",
      " [44]\n",
      " [55]]\n",
      "shape:  (5, 1)\n"
     ]
    }
   ],
   "source": [
    "data = np.array([11,22,33,44,55])\n",
    "\n",
    "print(\"data\", data)\n",
    "print(\"shape\", data.shape)\n",
    "\n",
    "# to make explicitly one row\n",
    "\n",
    "one_row = data.reshape((1, data.shape[0]))\n",
    "\n",
    "print(\"one_row: \", one_row)\n",
    "print(\"shape: \", one_row.shape)\n",
    "\n",
    "one_col = data.reshape((data.shape[0], 1))\n",
    "\n",
    "print(\"one_row: \\n\", one_col)\n",
    "print(\"shape: \", one_col.shape)"
   ]
  },
  {
   "cell_type": "code",
   "execution_count": null,
   "id": "f9f2d72d",
   "metadata": {},
   "outputs": [],
   "source": [
    "# Numpy array broadcasting\n",
    "\n",
    "# add and multiply arrays"
   ]
  },
  {
   "cell_type": "code",
   "execution_count": 156,
   "id": "3c8cf172",
   "metadata": {},
   "outputs": [
    {
     "name": "stdout",
     "output_type": "stream",
     "text": [
      "[1 2 3]\n",
      "2\n",
      "[3 4 5]\n"
     ]
    }
   ],
   "source": [
    "a = np.array([1,2,3])\n",
    "print(a)\n",
    "\n",
    "b = 2\n",
    "\n",
    "print(b)\n",
    "\n",
    "c = a + b\n",
    "\n",
    "print(c)"
   ]
  },
  {
   "cell_type": "code",
   "execution_count": 164,
   "id": "03230098",
   "metadata": {},
   "outputs": [
    {
     "name": "stdout",
     "output_type": "stream",
     "text": [
      "[[1 2 3]\n",
      " [4 5 9]]\n",
      "2\n",
      "[[ 3  4  5]\n",
      " [ 6  7 11]]\n"
     ]
    }
   ],
   "source": [
    "arr = np.array([[1,2,3],\n",
    "                [4,5,9]])\n",
    "\n",
    "print(arr)\n",
    "\n",
    "d = 2\n",
    "\n",
    "print(d)\n",
    "\n",
    "c = arr + d\n",
    "\n",
    "print(c)"
   ]
  },
  {
   "cell_type": "code",
   "execution_count": 172,
   "id": "920a63e8",
   "metadata": {},
   "outputs": [
    {
     "name": "stdout",
     "output_type": "stream",
     "text": [
      "[[1 2 3]\n",
      " [4 5 9]] \n",
      "\n",
      "[1 2 3] \n",
      "\n",
      "[[ 6  3]\n",
      " [12 14]] \n",
      "\n",
      "[[ 5  2]\n",
      " [32 45]] \n",
      "\n",
      "[[13 19]\n",
      " [60 53]] \n",
      "\n"
     ]
    }
   ],
   "source": [
    "arr1 = np.array([[1,2],\n",
    "                [8,5]])\n",
    "\n",
    "print(arr,\"\\n\")\n",
    "\n",
    "arr2 = np.array([[5,1],\n",
    "              [4,9]])\n",
    "\n",
    "\n",
    "print(d, \"\\n\")\n",
    "\n",
    "add = arr1 + arr2\n",
    "\n",
    "mul = arr1 * arr2\n",
    "\n",
    "dot_product = arr1.dot(arr2) # multiply each row (R) with each column (C)\n",
    "\n",
    "\n",
    "print(add, \"\\n\")\n",
    "print(mul, \"\\n\")\n",
    "print(dot_product, \"\\n\")"
   ]
  },
  {
   "cell_type": "code",
   "execution_count": 169,
   "id": "d90d448b",
   "metadata": {},
   "outputs": [],
   "source": [
    "# Note we can add 2 arrays with different number of row \n",
    "# but we can't add them if they have differnt number of columns "
   ]
  },
  {
   "cell_type": "code",
   "execution_count": 173,
   "id": "05cac8a7",
   "metadata": {},
   "outputs": [],
   "source": [
    "# tril & triu\n",
    "\n",
    "# tril: triangle lower >> takes the bottom left values of the triangle and the rest will be zeros [0]\n",
    "\n",
    "# triu: triangle upper >> takes the upper right values of the triangle and the rest will be zeros [0]"
   ]
  },
  {
   "cell_type": "code",
   "execution_count": 175,
   "id": "caf26145",
   "metadata": {},
   "outputs": [
    {
     "name": "stdout",
     "output_type": "stream",
     "text": [
      "[[ 1  0  0]\n",
      " [ 4  5  0]\n",
      " [ 8 10  4]] \n",
      "\n",
      "[[1 2 3]\n",
      " [0 5 9]\n",
      " [0 0 4]]\n"
     ]
    }
   ],
   "source": [
    "arr = np.array([[1,2,3],\n",
    "                [4,5,9],\n",
    "                [8,10,4]])\n",
    "\n",
    "lower = np.tril(arr)\n",
    "\n",
    "print(lower, \"\\n\")\n",
    "\n",
    "upper = np.triu(arr)\n",
    "\n",
    "print(upper)"
   ]
  },
  {
   "cell_type": "code",
   "execution_count": 176,
   "id": "124da3d3",
   "metadata": {},
   "outputs": [],
   "source": [
    "# diag: Diagonal >> takes the matrix diagonal and the left will be zeros [0]"
   ]
  },
  {
   "cell_type": "code",
   "execution_count": 178,
   "id": "cf704bd5",
   "metadata": {},
   "outputs": [
    {
     "name": "stdout",
     "output_type": "stream",
     "text": [
      "[1 5 4]\n"
     ]
    }
   ],
   "source": [
    "arr = np.array([[1,2,3],\n",
    "                [4,5,9],\n",
    "                [8,10,4]])\n",
    "\n",
    "diagonal = np.diag(arr)\n",
    "\n",
    "print(diagonal)"
   ]
  },
  {
   "cell_type": "code",
   "execution_count": 179,
   "id": "37ac5105",
   "metadata": {},
   "outputs": [
    {
     "name": "stdout",
     "output_type": "stream",
     "text": [
      "[[1 0 0]\n",
      " [0 5 0]\n",
      " [0 0 4]]\n"
     ]
    }
   ],
   "source": [
    "# diagonal for a list >> will transfer it to a matrix with list values as a diagonal and zeros for the rest of values\n",
    "\n",
    "list_diag = np.diag(diagonal)\n",
    "\n",
    "print(list_diag)"
   ]
  },
  {
   "cell_type": "code",
   "execution_count": 180,
   "id": "a9c0cf2a",
   "metadata": {},
   "outputs": [],
   "source": [
    "# Identity matrix: is a square matrix with diagonal values equal 1"
   ]
  },
  {
   "cell_type": "code",
   "execution_count": 181,
   "id": "fd23648e",
   "metadata": {},
   "outputs": [
    {
     "name": "stdout",
     "output_type": "stream",
     "text": [
      "[[1. 0. 0. 0. 0.]\n",
      " [0. 1. 0. 0. 0.]\n",
      " [0. 0. 1. 0. 0.]\n",
      " [0. 0. 0. 1. 0.]\n",
      " [0. 0. 0. 0. 1.]]\n"
     ]
    }
   ],
   "source": [
    "i = np.identity(5)\n",
    "print(i)"
   ]
  },
  {
   "cell_type": "code",
   "execution_count": null,
   "id": "45c9bda2",
   "metadata": {},
   "outputs": [],
   "source": [
    "# Transpose: (T) >> will transpose the matrix >> leave the diagonal as it is and reverse the upper values with lower values"
   ]
  },
  {
   "cell_type": "code",
   "execution_count": 183,
   "id": "41f28a86",
   "metadata": {},
   "outputs": [
    {
     "name": "stdout",
     "output_type": "stream",
     "text": [
      "[[ 1  4  8]\n",
      " [ 2  5 10]\n",
      " [ 3  9  4]]\n"
     ]
    }
   ],
   "source": [
    "arr = np.array([[1,2,3],\n",
    "                [4,5,9],\n",
    "                [8,10,4]])\n",
    "\n",
    "transposed_matrix = arr.T\n",
    "\n",
    "print(transposed_matrix)"
   ]
  },
  {
   "cell_type": "code",
   "execution_count": 187,
   "id": "373bd968",
   "metadata": {},
   "outputs": [],
   "source": [
    "# Task 1\n",
    "\n",
    "\n",
    "\n",
    "# Inverse Matrix: linalg.inv(array) >> will return the inverse of the matrix"
   ]
  },
  {
   "cell_type": "code",
   "execution_count": 188,
   "id": "94a116ff",
   "metadata": {},
   "outputs": [
    {
     "name": "stdout",
     "output_type": "stream",
     "text": [
      "[[-1.66666667  0.52380952  0.07142857]\n",
      " [ 1.33333333 -0.47619048  0.07142857]\n",
      " [ 0.          0.14285714 -0.07142857]]\n"
     ]
    }
   ],
   "source": [
    "arr = np.array([[1,2,3],\n",
    "                [4,5,9],\n",
    "                [8,10,4]])\n",
    "\n",
    "inverse_matrix = np.linalg.inv(arr)\n",
    "\n",
    "print(inverse_matrix)"
   ]
  },
  {
   "cell_type": "code",
   "execution_count": null,
   "id": "20a3fba9",
   "metadata": {},
   "outputs": [],
   "source": [
    "# trace: if a function that return the summation of the matrix [diagonal]"
   ]
  },
  {
   "cell_type": "code",
   "execution_count": 186,
   "id": "ae4a188f",
   "metadata": {},
   "outputs": [
    {
     "name": "stdout",
     "output_type": "stream",
     "text": [
      "10\n"
     ]
    }
   ],
   "source": [
    "arr = np.array([[1,2,3],\n",
    "                [4,5,9],\n",
    "                [8,10,4]])\n",
    "\n",
    "trace_matrix = np.trace(arr)\n",
    "\n",
    "print(trace_matrix)"
   ]
  },
  {
   "cell_type": "code",
   "execution_count": 190,
   "id": "e3d71d10",
   "metadata": {},
   "outputs": [],
   "source": [
    "# matrix (Determinant): it returns the determinant of the matrix:\n",
    "\n",
    "# Ex:\n",
    "\n",
    "# martix = np.array([[1,2],                        \n",
    "#                    [4,5]])\n",
    "#\n"
   ]
  },
  {
   "cell_type": "code",
   "execution_count": 195,
   "id": "1b88aaca",
   "metadata": {},
   "outputs": [
    {
     "name": "stdout",
     "output_type": "stream",
     "text": [
      "[[5 2]\n",
      " [4 5]] \n",
      "\n",
      "17.0\n"
     ]
    }
   ],
   "source": [
    "matrix = np.array([[5,2],                        \n",
    "                   [4,5]])\n",
    "\n",
    "print(matrix, \"\\n\")\n",
    "\n",
    "determinant = np.linalg.det(matrix)\n",
    "\n",
    "print(determinant)"
   ]
  },
  {
   "cell_type": "code",
   "execution_count": 198,
   "id": "9935c0fe",
   "metadata": {},
   "outputs": [],
   "source": [
    "# matrix_rank(): is a function that returns the rank of the matrix\n",
    "\n",
    "# it calculates it from the number of rows that contans non-zero values\n",
    "\n",
    "# if there is a row that contains zero values it won't be taken into consideration"
   ]
  },
  {
   "cell_type": "code",
   "execution_count": 197,
   "id": "ffa125d4",
   "metadata": {},
   "outputs": [
    {
     "name": "stdout",
     "output_type": "stream",
     "text": [
      "2\n",
      "1\n"
     ]
    }
   ],
   "source": [
    "arr1 = np.array([[5,2,4],                        \n",
    "                   [4,5,8]])\n",
    "\n",
    "arr2 = np.array([[5,2,4],                        \n",
    "                 [0,0,0]])\n",
    "\n",
    "arr1_rank = np.linalg.matrix_rank(arr1)\n",
    "\n",
    "arr2_rank = np.linalg.matrix_rank(arr2)\n",
    "\n",
    "print(arr1_rank)\n",
    "\n",
    "print(arr2_rank)"
   ]
  },
  {
   "cell_type": "code",
   "execution_count": 203,
   "id": "e57f14cb",
   "metadata": {},
   "outputs": [],
   "source": [
    "# Sprace Matrix: is matrix with >> number of zeros > numbers of ones\n",
    "\n",
    "# like: ([[1,1,0],                        \n",
    "#         [0,0,0]])\n",
    "\n",
    "# sparcity = number of non-zero element / number of elements\n",
    "\n",
    "# Dense Matrix:  is matrix with >> number of ones > numbers of zeros\n",
    "\n",
    "# like: ([[1,1,1],                        \n",
    "#         [0,1,1]])"
   ]
  },
  {
   "cell_type": "code",
   "execution_count": 204,
   "id": "820d498e",
   "metadata": {},
   "outputs": [],
   "source": [
    "# Concepts: used to measure the complixity of any program \n",
    "\n",
    "# Space Complixity: consume % from the disk\n",
    "\n",
    "# Time Complixity: take long time to execute"
   ]
  },
  {
   "cell_type": "code",
   "execution_count": 205,
   "id": "809c776b",
   "metadata": {},
   "outputs": [],
   "source": [
    "# SciPy Sparse Matrix:"
   ]
  },
  {
   "cell_type": "code",
   "execution_count": null,
   "id": "30e1ad4f",
   "metadata": {},
   "outputs": [],
   "source": [
    "# csr_matrix: return the locations that have non-zero value inside the matrix and it's value"
   ]
  },
  {
   "cell_type": "code",
   "execution_count": 207,
   "id": "fa969227",
   "metadata": {},
   "outputs": [
    {
     "name": "stdout",
     "output_type": "stream",
     "text": [
      "[[1 0 0 1 0 0]\n",
      " [0 0 2 0 0 1]\n",
      " [0 0 0 2 0 0]] \n",
      "\n",
      "  (0, 0)\t1\n",
      "  (0, 3)\t1\n",
      "  (1, 2)\t2\n",
      "  (1, 5)\t1\n",
      "  (2, 3)\t2 \n",
      "\n",
      "[[1 0 0 1 0 0]\n",
      " [0 0 2 0 0 1]\n",
      " [0 0 0 2 0 0]]\n"
     ]
    }
   ],
   "source": [
    "# sparce T-Score: csr\n",
    "\n",
    "from scipy.sparse import csr_matrix\n",
    "\n",
    "arr = np.array([[1,0,0,1,0,0],                        \n",
    "                [0,0,2,0,0,1],\n",
    "                [0,0,0,2,0,0]])\n",
    "\n",
    "print(arr, \"\\n\")\n",
    "\n",
    "s = csr_matrix(arr)\n",
    "\n",
    "print(s, \"\\n\")\n",
    "\n",
    "to_dense = s.todense()\n",
    "\n",
    "print(to_dense)"
   ]
  },
  {
   "cell_type": "code",
   "execution_count": 211,
   "id": "60b2b219",
   "metadata": {},
   "outputs": [],
   "source": [
    "a = np.array([[1,0,0,1,0,0],                        \n",
    "              [0,0,2,0,0,1],\n",
    "              [0,0,0,2,0,0]])"
   ]
  },
  {
   "cell_type": "code",
   "execution_count": 210,
   "id": "d5fd7cc6",
   "metadata": {},
   "outputs": [
    {
     "data": {
      "text/plain": [
       "5"
      ]
     },
     "execution_count": 210,
     "metadata": {},
     "output_type": "execute_result"
    }
   ],
   "source": [
    "# count_nonzero(Matrix): returns the count of non-zero values inside the matrix\n",
    "\n",
    "np.count_nonzero(a)"
   ]
  },
  {
   "cell_type": "code",
   "execution_count": 212,
   "id": "71a2ae4e",
   "metadata": {},
   "outputs": [
    {
     "data": {
      "text/plain": [
       "18"
      ]
     },
     "execution_count": 212,
     "metadata": {},
     "output_type": "execute_result"
    }
   ],
   "source": [
    "# size: returns the size of the matrix = number of rows [R] * number of columns [C] \n",
    "\n",
    "a.size"
   ]
  },
  {
   "cell_type": "code",
   "execution_count": 213,
   "id": "fcfbb4c7",
   "metadata": {},
   "outputs": [
    {
     "name": "stdout",
     "output_type": "stream",
     "text": [
      "0.7222222222222222\n"
     ]
    }
   ],
   "source": [
    "# calc_sparsity(matrix)\n",
    "\n",
    "def calc_sparsity(a):\n",
    "    \n",
    "    return 1.0 - np.count_nonzero(a) / a.size\n",
    "\n",
    "a = np.array([[1,0,0,1,0,0],                        \n",
    "              [0,0,2,0,0,1],\n",
    "              [0,0,0,2,0,0]])\n",
    "\n",
    "print(calc_sparsity(a))"
   ]
  },
  {
   "cell_type": "code",
   "execution_count": 241,
   "id": "69af815e",
   "metadata": {},
   "outputs": [
    {
     "name": "stdout",
     "output_type": "stream",
     "text": [
      "The numbers of elements in the matrix is 13 and the size of the matrix is 18, then the sparse will be equal 0.7222222222222222\n"
     ]
    }
   ],
   "source": [
    "def calc_spars(a):\n",
    "    \n",
    "    count = 0\n",
    "    \n",
    "    for x in a:\n",
    "        \n",
    "        for j in x:\n",
    "        \n",
    "            if j == 0:\n",
    "            \n",
    "                count += 1\n",
    "    \n",
    "    rows = len(a)\n",
    "    \n",
    "    cols = len(a[0])\n",
    "    \n",
    "    size = rows*cols\n",
    "        \n",
    "    spars = count / size\n",
    "    \n",
    "\n",
    "    return (\"\"\"The numbers of elements in the matrix is {} and the size of the matrix is {}, then the sparse will be equal {}\"\"\".format(count, size, spars))\n",
    "\n",
    "a = np.array([[1,0,0,1,0,0],                        \n",
    "              [0,0,2,0,0,1],\n",
    "              [0,0,0,2,0,0]])\n",
    "\n",
    "print(calc_spars(a))    "
   ]
  }
 ],
 "metadata": {
  "kernelspec": {
   "display_name": "Python 3 (ipykernel)",
   "language": "python",
   "name": "python3"
  },
  "language_info": {
   "codemirror_mode": {
    "name": "ipython",
    "version": 3
   },
   "file_extension": ".py",
   "mimetype": "text/x-python",
   "name": "python",
   "nbconvert_exporter": "python",
   "pygments_lexer": "ipython3",
   "version": "3.9.12"
  }
 },
 "nbformat": 4,
 "nbformat_minor": 5
}
