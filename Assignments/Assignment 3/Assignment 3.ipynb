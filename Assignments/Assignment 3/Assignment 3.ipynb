{
 "cells": [
  {
   "cell_type": "markdown",
   "metadata": {},
   "source": [
    "# Assignment 3"
   ]
  },
  {
   "cell_type": "markdown",
   "metadata": {},
   "source": [
    "### Write a function to count the number 4 in a given list."
   ]
  },
  {
   "cell_type": "code",
   "execution_count": 1,
   "metadata": {},
   "outputs": [
    {
     "name": "stdout",
     "output_type": "stream",
     "text": [
      "Enter list numbers seperated by space: 1 2 5 4 8 9 6 3 4 7 5 4\n",
      "[1, 2, 5, 4, 8, 9, 6, 3, 4, 7, 5, 4]\n",
      "count of the number four = 3\n"
     ]
    }
   ],
   "source": [
    "# try block to handle the exception\n",
    "\n",
    "try:\n",
    "    \n",
    "    # mapping the single line input separated by white space into a list of integers\n",
    "\n",
    "    my_list = list(map(int, input(\"Enter list numbers seperated by space: \").split()))\n",
    "          \n",
    "# if the input is not integer, just print the list\n",
    "\n",
    "except:\n",
    "    \n",
    "    print(my_list)\n",
    "    \n",
    "def count(nums):\n",
    "    \n",
    "    # initialize the counter with zero value\n",
    "    \n",
    "    counter = 0  \n",
    "    \n",
    "    for num in nums:\n",
    "        \n",
    "        # check if the number equal four\n",
    "        \n",
    "        if num == 4:\n",
    "            \n",
    "            # increase the counter by one\n",
    "            \n",
    "            counter = counter + 1\n",
    "\n",
    "    return counter\n",
    "\n",
    "print(my_list)\n",
    "\n",
    "print(\"count of the number four =\", count(my_list))"
   ]
  },
  {
   "cell_type": "markdown",
   "metadata": {},
   "source": [
    "### write a  function to check whether a number is divisible by another number."
   ]
  },
  {
   "cell_type": "code",
   "execution_count": 3,
   "metadata": {},
   "outputs": [
    {
     "name": "stdout",
     "output_type": "stream",
     "text": [
      "Enter the dividend: 6\n",
      "Enter the divisor: 2\n"
     ]
    },
    {
     "data": {
      "text/plain": [
       "True"
      ]
     },
     "execution_count": 3,
     "metadata": {},
     "output_type": "execute_result"
    }
   ],
   "source": [
    "# initialize two variables (divident and divisor) to accept the input from user\n",
    "\n",
    "dividend = int(input(\"Enter the dividend: \")) \n",
    "\n",
    "divisor = int(input(\"Enter the divisor: \"))\n",
    "\n",
    "# create a function with the inputs as it's parameters\n",
    "\n",
    "def divisible(dividend, divisor):\n",
    "    \n",
    "    # heck whether a dividend is divisible by the divisor.\n",
    "    \n",
    "    if dividend % divisor == 0:\n",
    "        \n",
    "        # return true if the condition is satisfied\n",
    "        \n",
    "        return True\n",
    "    else:\n",
    "        \n",
    "        # return true if the condition is not satisfied\n",
    "        \n",
    "        return False\n",
    "    \n",
    "# use the function and pass the 2 inputs (divident and divisor) to it\n",
    "\n",
    "divisible(dividend, divisor)"
   ]
  },
  {
   "cell_type": "markdown",
   "metadata": {},
   "source": [
    "### write a function to find the maximum and minimum numbers from a sequence of numbers."
   ]
  },
  {
   "cell_type": "code",
   "execution_count": 4,
   "metadata": {},
   "outputs": [
    {
     "name": "stdout",
     "output_type": "stream",
     "text": [
      "Enter a sequence of numbers seperated by space: 1 2 4 5 7 6 3 10\n",
      "Maximum numbers from the sequence is: 10\n",
      "Minimum numbers from the sequence is: 1\n"
     ]
    }
   ],
   "source": [
    "# mapping the single line input separated by white space into a list of integers\n",
    "\n",
    "my_list = list(map(int, input(\"Enter a sequence of numbers seperated by space: \").split()))\n",
    "\n",
    "def get_man_min(x):\n",
    "    \n",
    "    # print the maximum numbers from the sequence\n",
    "    \n",
    "    print(\"Maximum numbers from the sequence is:\", max(x))\n",
    "    \n",
    "    # print the minimum numbers from the sequence \n",
    "    \n",
    "    print(\"Minimum numbers from the sequence is:\", min(x))\n",
    "\n",
    "# use the function and pass the the list of sequence to it\n",
    "\n",
    "get_man_min(my_list)"
   ]
  },
  {
   "cell_type": "markdown",
   "metadata": {},
   "source": [
    "### Write a Python function that takes two lists and returns True if they have at least one common member."
   ]
  },
  {
   "cell_type": "code",
   "execution_count": 5,
   "metadata": {},
   "outputs": [
    {
     "name": "stdout",
     "output_type": "stream",
     "text": [
      "Enter a sequence of numbers seperated by space: 1 2 4 5 4 8\n",
      "Enter a sequence of numbers seperated by space: 9 6 10 24 1\n"
     ]
    },
    {
     "data": {
      "text/plain": [
       "True"
      ]
     },
     "execution_count": 5,
     "metadata": {},
     "output_type": "execute_result"
    }
   ],
   "source": [
    "# define the common function with two parameters (l1 and l2)\n",
    "\n",
    "def common(l1,l2):\n",
    "    \n",
    "    # Initialize the result with a defauld value equal (False)\n",
    "    \n",
    "    result = False\n",
    "    \n",
    "    # Loop over the first list\n",
    "    \n",
    "    for i in l1:\n",
    "        \n",
    "        # Loop over the second list\n",
    "            \n",
    "        for j in l2:\n",
    "            \n",
    "            # Check if there is one common member\n",
    "            \n",
    "            if i == j:\n",
    "                \n",
    "                # Return true if the condition is satisfied\n",
    "            \n",
    "                result = True\n",
    "\n",
    "                return result\n",
    "    \n",
    "    # return the result of the function\n",
    "    \n",
    "    return result\n",
    "            \n",
    "# Creating the first list and mapping the single line input separated by white space into a list of integers\n",
    "\n",
    "first_list = list(map(int, input(\"Enter a sequence of numbers seperated by space: \").split()))\n",
    "\n",
    "# Creating the second list and mapping the single line input separated by white space into a list of integers\n",
    "\n",
    "second_list = list(map(int, input(\"Enter a sequence of numbers seperated by space: \").split()))\n",
    "\n",
    "# use the function and pass the two entered lists to it\n",
    "\n",
    "common(first_list, second_list)"
   ]
  },
  {
   "cell_type": "markdown",
   "metadata": {},
   "source": [
    "### Write a Python function to calculate the factorial of a number (a non-negative integer). The function accepts the number from the user"
   ]
  },
  {
   "cell_type": "code",
   "execution_count": 6,
   "metadata": {},
   "outputs": [
    {
     "name": "stdout",
     "output_type": "stream",
     "text": [
      "Input a number to calculate it's factiorial: 3\n",
      "The factorial of 3 is 6\n"
     ]
    }
   ],
   "source": [
    "# Creating a factorial calculation function using recursion which means a defined function can call itself.\n",
    "\n",
    "def factorial(n):\n",
    "    \n",
    "    \n",
    "    # Create a variable with a string value to be printed if the entered number is negative\n",
    "    \n",
    "    negative_error = \"Please Enter A Positive Number!\"\n",
    "    \n",
    "    # Check if the entered number is equal 1\n",
    "    \n",
    "    if n == 1:\n",
    "        \n",
    "        return 1\n",
    "    \n",
    "    # Check if the entered number is equal 0\n",
    "        \n",
    "    elif n == 0:\n",
    "        \n",
    "        return 1\n",
    "    \n",
    "     # Check if the entered number is less than 0\n",
    "        \n",
    "    elif n < 0:\n",
    "        \n",
    "        return negative_error\n",
    "    \n",
    "    # return the factorial of the enterd number\n",
    "    \n",
    "    else:\n",
    "        return n * factorial(n-1)\n",
    "\n",
    "# initialize a varialble to accept the input from the user\n",
    "\n",
    "n = int(input(\"Input a number to calculate it's factiorial: \"))\n",
    "\n",
    "# use the function and pass the entered number to it\n",
    "\n",
    "print(\"The factorial of\", n, \"is\", factorial(n))"
   ]
  },
  {
   "cell_type": "markdown",
   "metadata": {},
   "source": [
    "### Write a Python function to check whether a number is in a given range.\n",
    "\n",
    "### The range is from 3 to 11\n"
   ]
  },
  {
   "cell_type": "code",
   "execution_count": 7,
   "metadata": {},
   "outputs": [
    {
     "name": "stdout",
     "output_type": "stream",
     "text": [
      "Please Enter A Number to check for it: 5\n",
      "the number: 5 is in the range\n"
     ]
    }
   ],
   "source": [
    "# initialize a varialble to accept the input from the user\n",
    "\n",
    "number = int(input(\"Please Enter A Number to check for it: \"))\n",
    "\n",
    "# Creating a function that checks whether a number is in a given range\n",
    "\n",
    "def check(n):\n",
    "    \n",
    "    # Check if the number is in the range of 3 as a start to 11 as an end\n",
    "    \n",
    "    if n in range(3,11):\n",
    "            \n",
    "        # print the number if it is inside the range\n",
    "        \n",
    "        print(\"the number:\", n, \"is in the range\")\n",
    "\n",
    "    else:\n",
    "        \n",
    "        # print a message if it is outside the range\n",
    "\n",
    "        print(\"the number:\", n, \"is out the range\")\n",
    "\n",
    "# use the function and pass the entered number to it\n",
    "\n",
    "check(number)           "
   ]
  },
  {
   "cell_type": "markdown",
   "metadata": {},
   "source": [
    "### Write a  program to create the multiplication table (from 1 to 10) of a number."
   ]
  },
  {
   "cell_type": "code",
   "execution_count": 8,
   "metadata": {},
   "outputs": [
    {
     "name": "stdout",
     "output_type": "stream",
     "text": [
      "Please Enter A Number To Create It's multiplication table: 5\n",
      "1 * 5 = 5\n",
      "2 * 5 = 10\n",
      "3 * 5 = 15\n",
      "4 * 5 = 20\n",
      "5 * 5 = 25\n",
      "6 * 5 = 30\n",
      "7 * 5 = 35\n",
      "8 * 5 = 40\n",
      "9 * 5 = 45\n",
      "10 * 5 = 50\n"
     ]
    }
   ],
   "source": [
    "# initialize a varialble to accept the input from the user\n",
    "\n",
    "number = int(input(\"Please Enter A Number To Create It's multiplication table: \"))\n",
    "\n",
    "# Creating a function that creates the multiplication table for an input number\n",
    "\n",
    "def multiplication(n):\n",
    "    \n",
    "    # loop over the given range \n",
    "\n",
    "    for x in range(1,11):\n",
    "        \n",
    "        # print the multiplication value\n",
    "    \n",
    "        print(x,\"*\",n ,\"=\", x*n)\n",
    "        \n",
    "# use the function and pass the entered number to it\n",
    "   \n",
    "multiplication(number)"
   ]
  },
  {
   "cell_type": "markdown",
   "metadata": {},
   "source": [
    "#### LESSER OF TWO EVENS: Write a function that returns the lesser of two given numbers *if* both numbers are even, but returns the greater if one or both numbers are odd\n",
    "    lesser_of_two_evens(2,4) --> 2\n",
    "    lesser_of_two_evens(2,5) --> 5"
   ]
  },
  {
   "cell_type": "code",
   "execution_count": 11,
   "metadata": {},
   "outputs": [
    {
     "name": "stdout",
     "output_type": "stream",
     "text": [
      "Enter 1st Number: 2\n",
      "Enter 2nd Number: 6\n",
      "The Lesser Of Two Evens is: 2\n"
     ]
    }
   ],
   "source": [
    "# initialize two varialbles to accept the input from the user\n",
    "\n",
    "first_number = int(input(\"Enter 1st Number: \"))\n",
    "\n",
    "second_number = int(input(\"Enter 2nd Number: \"))\n",
    "\n",
    "# Creating the lesser_of_two_evens function\n",
    "\n",
    "def lesser_of_two_evens(n1,n2):\n",
    "    \n",
    "    my_list = list((n1,n2))\n",
    "    \n",
    "    # Check if both numbers are even\n",
    "    \n",
    "    if(n1 % 2 == 0 and n2 % 2 == 0):\n",
    "        \n",
    "        # Check if both numbers are equal\n",
    "        \n",
    "        if n1 == n2:\n",
    "            \n",
    "            print(\"There Is No lesser Number, They are equal!\")\n",
    "            \n",
    "        else:\n",
    "            \n",
    "            # assign the minimum value between the two numbers to the lasser variable\n",
    "            \n",
    "            lesser = min(my_list)\n",
    "            \n",
    "            # print the lesser of two given numbers\n",
    "\n",
    "            print(\"The Lesser Of Two Evens is:\", lesser)\n",
    "            \n",
    "    # Check if one or both numbers are odd\n",
    "        \n",
    "    elif(n1 % 2 == 1 or n2 % 2 == 1): \n",
    "        \n",
    "        # Check if both numbers are equal\n",
    "        \n",
    "        if n1 == n2:\n",
    "            \n",
    "            print(\"There Is No greater Number, They are equal!\")\n",
    "            \n",
    "        else:\n",
    "            \n",
    "            # assign the maximum value between the two numbers to the greater variable\n",
    "\n",
    "            greater = max(my_list)\n",
    "            \n",
    "            # print the greater of two given numbers\n",
    "\n",
    "            print(\"the greater number =\",greater)\n",
    "            \n",
    "# use the function and pass the entered numbers to it\n",
    "\n",
    "lesser_of_two_evens(first_number,second_number)"
   ]
  }
 ],
 "metadata": {
  "kernelspec": {
   "display_name": "Python 3 (ipykernel)",
   "language": "python",
   "name": "python3"
  },
  "language_info": {
   "codemirror_mode": {
    "name": "ipython",
    "version": 3
   },
   "file_extension": ".py",
   "mimetype": "text/x-python",
   "name": "python",
   "nbconvert_exporter": "python",
   "pygments_lexer": "ipython3",
   "version": "3.9.12"
  }
 },
 "nbformat": 4,
 "nbformat_minor": 2
}
